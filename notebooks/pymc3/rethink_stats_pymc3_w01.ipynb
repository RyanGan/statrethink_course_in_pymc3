{
 "cells": [
  {
   "cell_type": "markdown",
   "metadata": {},
   "source": [
    "# Rethinking Statistics course in pymc3 - Week 1"
   ]
  },
  {
   "cell_type": "markdown",
   "metadata": {},
   "source": [
    "Lecture 1: The Golem of Prague\n",
    "\n",
    "- [Video](https://www.youtube.com/watch?v=4WVelCswXo4)\n",
    "- [Slides](https://speakerdeck.com/rmcelreath/l01-statistical-rethinking-winter-2019)\n",
    "\n",
    "Lecture 2: Garden of Forking Data\n",
    "\n",
    "- [Video](https://www.youtube.com/watch?v=XoVtOAN0htU)\n",
    "- [Slides](https://speakerdeck.com/rmcelreath/l02-statistical-rethinking-winter-2019)\n",
    "\n",
    "[Proposed problems](https://github.com/gbosquechacon/statrethinking_winter2019/blob/master/homework/week01.pdf) and [solutions in R](https://github.com/gbosquechacon/statrethinking_winter2019/blob/master/homework/week01_solutions.pdf) for the exercises of the week."
   ]
  },
  {
   "cell_type": "code",
   "execution_count": 122,
   "metadata": {},
   "outputs": [],
   "source": [
    "import numpy as np\n",
    "import pandas as pd\n",
    "import pymc3 as pm\n",
    "from random import choices\n",
    "from scipy import stats\n",
    "import altair as alt\n",
    "import matplotlib.pyplot as plt\n",
    "import seaborn as sns"
   ]
  },
  {
   "cell_type": "markdown",
   "metadata": {},
   "source": [
    "## Garden of Forking Data Example\n",
    "\n",
    "Example for page 27 of book on possible color combination of 4 marbles, given drawing two blue and one white marble."
   ]
  },
  {
   "cell_type": "code",
   "execution_count": 25,
   "metadata": {},
   "outputs": [
    {
     "name": "stdout",
     "output_type": "stream",
     "text": [
      "Ways:  0 Probability:  0.0\n",
      "Ways:  3 Probability:  0.15\n",
      "Ways:  8 Probability:  0.4\n",
      "Ways:  9 Probability:  0.45\n",
      "Ways:  0 Probability:  0.0\n"
     ]
    }
   ],
   "source": [
    "# vector of 5 possibilities\n",
    "ways = [0, 3, 8, 9 , 0] # [all white, 1 blue 3 white, 2 blue 2 white, 3 blue 1 white, all blue]\n",
    "prob = ways/np.sum(ways)\n",
    "\n",
    "for i in zip(ways, prob):\n",
    "    print('Ways: ', i[0], 'Probability: ', i[1])"
   ]
  },
  {
   "cell_type": "markdown",
   "metadata": {},
   "source": [
    "## Short Intro"
   ]
  },
  {
   "cell_type": "markdown",
   "metadata": {},
   "source": [
    "_In this short intro I just play around a bit with the concepts of prior and posterior. I calculate manually both for the very simple globe tossing example mentioned in the lecture. You can jump to the actual homework going to the next section._"
   ]
  },
  {
   "cell_type": "code",
   "execution_count": 3,
   "metadata": {},
   "outputs": [],
   "source": [
    "n=9 # n trials\n",
    "p=0.5 # probability of water or land event\n",
    "k=6 # k successes"
   ]
  },
  {
   "cell_type": "markdown",
   "metadata": {},
   "source": [
    "_How to generate binomials with `numpy` or `scipy`:_"
   ]
  },
  {
   "cell_type": "code",
   "execution_count": 4,
   "metadata": {},
   "outputs": [
    {
     "data": {
      "text/plain": [
       "array([1, 1, 0, 1, 1, 1, 0, 1, 0])"
      ]
     },
     "execution_count": 4,
     "metadata": {},
     "output_type": "execute_result"
    }
   ],
   "source": [
    "np.random.binomial(1, p, n)"
   ]
  },
  {
   "cell_type": "code",
   "execution_count": 5,
   "metadata": {},
   "outputs": [
    {
     "data": {
      "text/plain": [
       "array([1, 1, 1, 0, 0, 0, 1, 0, 0])"
      ]
     },
     "execution_count": 5,
     "metadata": {},
     "output_type": "execute_result"
    }
   ],
   "source": [
    "stats.binom.rvs(1, p, size=n)"
   ]
  },
  {
   "cell_type": "markdown",
   "metadata": {},
   "source": [
    "_Density function of a binomial:_"
   ]
  },
  {
   "cell_type": "code",
   "execution_count": 7,
   "metadata": {},
   "outputs": [
    {
     "data": {
      "text/plain": [
       "0.16"
      ]
     },
     "execution_count": 7,
     "metadata": {},
     "output_type": "execute_result"
    }
   ],
   "source": [
    "round(stats.binom.pmf(k, n, p), 2) # probability mass function"
   ]
  },
  {
   "cell_type": "markdown",
   "metadata": {},
   "source": [
    "## Grid approximation posterior estimation \n",
    "_Example:_ Page 40 of book\n",
    "\n",
    "Steps for grid approximation:\n",
    "1. Define the grid. Decide how manuy points to use in estimating the posterior and make a list parameter values.\n",
    "2. Compute the value of the prior at each parameter value on grid.\n",
    "3. Compute the likelihood of each parameter value.\n",
    "4. Compute the unstandardized posterior at each parameter value by multiplying prior by likelihood\n",
    "5. Standardize the posterior by dividing each value by the sum of all values"
   ]
  },
  {
   "cell_type": "code",
   "execution_count": 30,
   "metadata": {},
   "outputs": [],
   "source": [
    "# 1. define grid\n",
    "p_grid = np.linspace(0,1,101)\n",
    "# 2. define prior\n",
    "prob_p = np.ones(101) # all 1s\n",
    "# 3. likelihood\n",
    "prob_data = stats.binom.pmf(k, n, p=p_grid)\n",
    "# 4. Compute unstadardized posterior (prior x likelihood)\n",
    "posterior = prob_data * prob_p\n",
    "# 5. Standardize the posterior\n",
    "posterior = posterior / sum(posterior) # normalizing the posterior"
   ]
  },
  {
   "cell_type": "markdown",
   "metadata": {},
   "source": [
    "Important that the posterior shoudl sum to 1."
   ]
  },
  {
   "cell_type": "code",
   "execution_count": 35,
   "metadata": {},
   "outputs": [
    {
     "name": "stdout",
     "output_type": "stream",
     "text": [
      "First 3 obs of posterior calculation:  [0.00000000e+00 8.15051103e-12 5.05984784e-10]\n",
      "Sum of posterior should sum to 1:  1.0000000000000002\n"
     ]
    }
   ],
   "source": [
    "print('First 3 obs of posterior calculation: ', posterior[:3])\n",
    "print('Sum of posterior should sum to 1: ', sum(posterior))"
   ]
  },
  {
   "cell_type": "markdown",
   "metadata": {},
   "source": [
    "_Looks good. Plotting the posterior:_"
   ]
  },
  {
   "cell_type": "code",
   "execution_count": 36,
   "metadata": {},
   "outputs": [
    {
     "data": {
      "application/vnd.vegalite.v3+json": {
       "$schema": "https://vega.github.io/schema/vega-lite/v3.4.0.json",
       "config": {
        "mark": {
         "tooltip": null
        },
        "view": {
         "height": 300,
         "width": 400
        }
       },
       "data": {
        "name": "data-b34890800f3f2ad9a273f229533a54ea"
       },
       "datasets": {
        "data-b34890800f3f2ad9a273f229533a54ea": [
         {
          "index": 0,
          "p": 0,
          "prob": 0
         },
         {
          "index": 1,
          "p": 0.01,
          "prob": 8.15051102987172e-12
         },
         {
          "index": 2,
          "p": 0.02,
          "prob": 5.059847838063629e-10
         },
         {
          "index": 3,
          "p": 0.03,
          "prob": 5.588843991860349e-09
         },
         {
          "index": 4,
          "p": 0.04,
          "prob": 3.044057858108147e-08
         },
         {
          "index": 5,
          "p": 0.05,
          "prob": 1.1253046087849373e-07
         },
         {
          "index": 6,
          "p": 0.06,
          "prob": 3.255144849038596e-07
         },
         {
          "index": 7,
          "p": 0.07,
          "prob": 7.949070366174507e-07
         },
         {
          "index": 8,
          "p": 0.08,
          "prob": 1.7146783314630407e-06
         },
         {
          "index": 9,
          "p": 0.09,
          "prob": 3.364019381499221e-06
         },
         {
          "index": 10,
          "p": 0.1,
          "prob": 6.12359957165419e-06
         },
         {
          "index": 11,
          "p": 0.11,
          "prob": 1.0490722193689557e-05
         },
         {
          "index": 12,
          "p": 0.12,
          "prob": 1.709286050731754e-05
         },
         {
          "index": 13,
          "p": 0.13,
          "prob": 2.6699131070582488e-05
         },
         {
          "index": 14,
          "p": 0.14,
          "prob": 4.022933220609248e-05
         },
         {
          "index": 15,
          "p": 0.15,
          "prob": 5.876024354597074e-05
         },
         {
          "index": 16,
          "p": 0.16,
          "prob": 8.352894762648731e-05
         },
         {
          "index": 17,
          "p": 0.17,
          "prob": 0.00011593299648323154
         },
         {
          "index": 18,
          "p": 0.18,
          "prob": 0.00015752730512939319
         },
         {
          "index": 19,
          "p": 0.19,
          "prob": 0.00021001770968323666
         },
         {
          "index": 20,
          "p": 0.2,
          "prob": 0.0002752511807461791
         },
         {
          "index": 21,
          "p": 0.21,
          "prob": 0.00035520273242000696
         },
         {
          "index": 22,
          "p": 0.22,
          "prob": 0.0004519591140907257
         },
         {
          "index": 23,
          "p": 0.23,
          "prob": 0.0005676994157972546
         },
         {
          "index": 24,
          "p": 0.24,
          "prob": 0.0007046727586457757
         },
         {
          "index": 25,
          "p": 0.25,
          "prob": 0.0008651732793248765
         },
         {
          "index": 26,
          "p": 0.26,
          "prob": 0.0010515126523228079
         },
         {
          "index": 27,
          "p": 0.27,
          "prob": 0.0012659904249461942
         },
         {
          "index": 28,
          "p": 0.28,
          "prob": 0.0015108624686892582
         },
         {
          "index": 29,
          "p": 0.29,
          "prob": 0.0017883078759042747
         },
         {
          "index": 30,
          "p": 0.3,
          "prob": 0.002100394653077383
         },
         {
          "index": 31,
          "p": 0.31,
          "prob": 0.0024490445813190056
         },
         {
          "index": 32,
          "p": 0.32,
          "prob": 0.002835997630935285
         },
         {
          "index": 33,
          "p": 0.33,
          "prob": 0.003262776330155697
         },
         {
          "index": 34,
          "p": 0.34,
          "prob": 0.0037306504982526083
         },
         {
          "index": 35,
          "p": 0.35,
          "prob": 0.004240602760401073
         },
         {
          "index": 36,
          "p": 0.36,
          "prob": 0.0047932952656914015
         },
         {
          "index": 37,
          "p": 0.37,
          "prob": 0.0053890380307230435
         },
         {
          "index": 38,
          "p": 0.38,
          "prob": 0.006027759329176209
         },
         {
          "index": 39,
          "p": 0.39,
          "prob": 0.006708978542677469
         },
         {
          "index": 40,
          "p": 0.4,
          "prob": 0.00743178188014683
         },
         {
          "index": 41,
          "p": 0.41,
          "prob": 0.008194801361637258
         },
         {
          "index": 42,
          "p": 0.42,
          "prob": 0.008996197448452703
         },
         {
          "index": 43,
          "p": 0.43,
          "prob": 0.009833645684057481
         },
         {
          "index": 44,
          "p": 0.44,
          "prob": 0.01070432768996872
         },
         {
          "index": 45,
          "p": 0.45,
          "prob": 0.011604926837454071
         },
         {
          "index": 46,
          "p": 0.46,
          "prob": 0.012531628889439164
         },
         {
          "index": 47,
          "p": 0.47,
          "prob": 0.013480127877563471
         },
         {
          "index": 48,
          "p": 0.48,
          "prob": 0.01444563744680934
         },
         {
          "index": 49,
          "p": 0.49,
          "prob": 0.01542290786456628
         },
         {
          "index": 50,
          "p": 0.5,
          "prob": 0.016406248852382836
         },
         {
          "index": 51,
          "p": 0.51,
          "prob": 0.01738955835699905
         },
         {
          "index": 52,
          "p": 0.52,
          "prob": 0.01836635733254637
         },
         {
          "index": 53,
          "p": 0.53,
          "prob": 0.019329830558046074
         },
         {
          "index": 54,
          "p": 0.54,
          "prob": 0.020272873463535044
         },
         {
          "index": 55,
          "p": 0.55,
          "prob": 0.021188144884295428
         },
         {
          "index": 56,
          "p": 0.56,
          "prob": 0.022068125605765727
         },
         {
          "index": 57,
          "p": 0.57,
          "prob": 0.02290518250176284
         },
         {
          "index": 58,
          "p": 0.58,
          "prob": 0.023691638005648746
         },
         {
          "index": 59,
          "p": 0.59,
          "prob": 0.0244198445880312
         },
         {
          "index": 60,
          "p": 0.6,
          "prob": 0.025082263845495546
         },
         {
          "index": 61,
          "p": 0.61,
          "prob": 0.025671549732724324
         },
         {
          "index": 62,
          "p": 0.62,
          "prob": 0.026180635395172527
         },
         {
          "index": 63,
          "p": 0.63,
          "prob": 0.026602822981229242
         },
         {
          "index": 64,
          "p": 0.64,
          "prob": 0.026931875731511633
         },
         {
          "index": 65,
          "p": 0.65,
          "prob": 0.02716211155860392
         },
         {
          "index": 66,
          "p": 0.66,
          "prob": 0.027288497243171967
         },
         {
          "index": 67,
          "p": 0.67,
          "prob": 0.027306742281955017
         },
         {
          "index": 68,
          "p": 0.68,
          "prob": 0.0272133913296583
         },
         {
          "index": 69,
          "p": 0.69,
          "prob": 0.0270059140802432
         },
         {
          "index": 70,
          "p": 0.7,
          "prob": 0.02668279133353863
         },
         {
          "index": 71,
          "p": 0.71,
          "prob": 0.026243595890474213
         },
         {
          "index": 72,
          "p": 0.72,
          "prob": 0.025689066814564863
         },
         {
          "index": 73,
          "p": 0.73,
          "prob": 0.025021175488558322
         },
         {
          "index": 74,
          "p": 0.74,
          "prob": 0.0242431817833897
         },
         {
          "index": 75,
          "p": 0.75,
          "prob": 0.023359678541771647
         },
         {
          "index": 76,
          "p": 0.76,
          "prob": 0.022376622460885995
         },
         {
          "index": 77,
          "p": 0.77,
          "prob": 0.021301349337730584
         },
         {
          "index": 78,
          "p": 0.78,
          "prob": 0.020142571516715044
         },
         {
          "index": 79,
          "p": 0.79,
          "prob": 0.0189103552520924
         },
         {
          "index": 80,
          "p": 0.8,
          "prob": 0.017616075567755442
         },
         {
          "index": 81,
          "p": 0.81,
          "prob": 0.016272346063824036
         },
         {
          "index": 82,
          "p": 0.82,
          "prob": 0.01489292098329616
         },
         {
          "index": 83,
          "p": 0.83,
          "prob": 0.013492566712834829
         },
         {
          "index": 84,
          "p": 0.84,
          "prob": 0.012086899749514057
         },
         {
          "index": 85,
          "p": 0.85,
          "prob": 0.01069218802005016
         },
         {
          "index": 86,
          "p": 0.86,
          "prob": 0.009325112290699104
         },
         {
          "index": 87,
          "p": 0.87,
          "prob": 0.008002484254607088
         },
         {
          "index": 88,
          "p": 0.88,
          "prob": 0.006740917728959896
         },
         {
          "index": 89,
          "p": 0.89,
          "prob": 0.005556449236786714
         },
         {
          "index": 90,
          "p": 0.9,
          "prob": 0.004464104087735899
         },
         {
          "index": 91,
          "p": 0.91,
          "prob": 0.003477403908553846
         },
         {
          "index": 92,
          "p": 0.92,
          "prob": 0.002607811407363851
         },
         {
          "index": 93,
          "p": 0.93,
          "prob": 0.001864107986158893
         },
         {
          "index": 94,
          "p": 0.94,
          "prob": 0.0012516996431916085
         },
         {
          "index": 95,
          "p": 0.95,
          "prob": 0.0007718464311655866
         },
         {
          "index": 96,
          "p": 0.96,
          "prob": 0.0004208105583048706
         },
         {
          "index": 97,
          "p": 0.97,
          "prob": 0.00018891803750308015
         },
         {
          "index": 98,
          "p": 0.98,
          "prob": 5.9528603830034845e-05
         },
         {
          "index": 99,
          "p": 0.99,
          "prob": 7.908432701773505e-06
         },
         {
          "index": 100,
          "p": 1,
          "prob": 0
         }
        ]
       },
       "encoding": {
        "x": {
         "field": "p",
         "title": "p",
         "type": "quantitative"
        },
        "y": {
         "field": "prob",
         "title": "density",
         "type": "quantitative"
        }
       },
       "mark": "line"
      },
      "image/png": "[encoded data removed]",
      "text/plain": [
       "<VegaLite 3 object>\n",
       "\n",
       "If you see this message, it means the renderer has not been properly enabled\n",
       "for the frontend that you are using. For more information, see\n",
       "https://altair-viz.github.io/user_guide/troubleshooting.html\n"
      ]
     },
     "execution_count": 36,
     "metadata": {},
     "output_type": "execute_result"
    }
   ],
   "source": [
    "aux = pd.DataFrame(posterior).reset_index().rename({0:'prob'}, axis=1)\n",
    "aux['p'] = aux['index']/100\n",
    "\n",
    "alt.Chart(aux)\\\n",
    "   .mark_line()\\\n",
    "   .encode(\n",
    "        x=alt.X('p', title='p'),\n",
    "        y=alt.Y('prob', title='density')\n",
    "          )"
   ]
  },
  {
   "cell_type": "markdown",
   "metadata": {},
   "source": [
    "_Nice! Let's sample the posterior we just got:_"
   ]
  },
  {
   "cell_type": "code",
   "execution_count": 29,
   "metadata": {},
   "outputs": [
    {
     "data": {
      "text/html": [
       "<div>\n",
       "<style scoped>\n",
       "    .dataframe tbody tr th:only-of-type {\n",
       "        vertical-align: middle;\n",
       "    }\n",
       "\n",
       "    .dataframe tbody tr th {\n",
       "        vertical-align: top;\n",
       "    }\n",
       "\n",
       "    .dataframe thead th {\n",
       "        text-align: right;\n",
       "    }\n",
       "</style>\n",
       "<table border=\"1\" class=\"dataframe\">\n",
       "  <thead>\n",
       "    <tr style=\"text-align: right;\">\n",
       "      <th></th>\n",
       "      <th>index</th>\n",
       "      <th>prob</th>\n",
       "    </tr>\n",
       "  </thead>\n",
       "  <tbody>\n",
       "    <tr>\n",
       "      <td>0</td>\n",
       "      <td>0</td>\n",
       "      <td>0.74</td>\n",
       "    </tr>\n",
       "    <tr>\n",
       "      <td>1</td>\n",
       "      <td>1</td>\n",
       "      <td>0.42</td>\n",
       "    </tr>\n",
       "    <tr>\n",
       "      <td>2</td>\n",
       "      <td>2</td>\n",
       "      <td>0.66</td>\n",
       "    </tr>\n",
       "    <tr>\n",
       "      <td>3</td>\n",
       "      <td>3</td>\n",
       "      <td>0.68</td>\n",
       "    </tr>\n",
       "    <tr>\n",
       "      <td>4</td>\n",
       "      <td>4</td>\n",
       "      <td>0.72</td>\n",
       "    </tr>\n",
       "    <tr>\n",
       "      <td>5</td>\n",
       "      <td>5</td>\n",
       "      <td>0.57</td>\n",
       "    </tr>\n",
       "    <tr>\n",
       "      <td>6</td>\n",
       "      <td>6</td>\n",
       "      <td>0.65</td>\n",
       "    </tr>\n",
       "    <tr>\n",
       "      <td>7</td>\n",
       "      <td>7</td>\n",
       "      <td>0.58</td>\n",
       "    </tr>\n",
       "    <tr>\n",
       "      <td>8</td>\n",
       "      <td>8</td>\n",
       "      <td>0.39</td>\n",
       "    </tr>\n",
       "    <tr>\n",
       "      <td>9</td>\n",
       "      <td>9</td>\n",
       "      <td>0.63</td>\n",
       "    </tr>\n",
       "  </tbody>\n",
       "</table>\n",
       "</div>"
      ],
      "text/plain": [
       "   index  prob\n",
       "0      0  0.74\n",
       "1      1  0.42\n",
       "2      2  0.66\n",
       "3      3  0.68\n",
       "4      4  0.72\n",
       "5      5  0.57\n",
       "6      6  0.65\n",
       "7      7  0.58\n",
       "8      8  0.39\n",
       "9      9  0.63"
      ]
     },
     "execution_count": 29,
     "metadata": {},
     "output_type": "execute_result"
    }
   ],
   "source": [
    "samples = pd.DataFrame(np.random.choice(p_grid, 5000, p=posterior))\\\n",
    "            .reset_index()\\\n",
    "            .rename({0:'prob'}, axis=1)\n",
    "\n",
    "samples.head(10) # just to see how it looks"
   ]
  },
  {
   "cell_type": "code",
   "execution_count": 25,
   "metadata": {},
   "outputs": [
    {
     "data": {
      "application/vnd.vegalite.v3+json": {
       "$schema": "https://vega.github.io/schema/vega-lite/v3.3.0.json",
       "config": {
        "mark": {
         "tooltip": null
        },
        "view": {
         "height": 300,
         "width": 400
        }
       },
       "data": {
        "name": "data-cfc411fec308f397d8943ae4f0a3f194"
       },
       "datasets": {
        "data-cfc411fec308f397d8943ae4f0a3f194": [
         {
          "index": 0,
          "prob": 0.71
         },
         {
          "index": 1,
          "prob": 0.8200000000000001
         },
         {
          "index": 2,
          "prob": 0.52
         },
         {
          "index": 3,
          "prob": 0.68
         },
         {
          "index": 4,
          "prob": 0.5
         },
         {
          "index": 5,
          "prob": 0.56
         },
         {
          "index": 6,
          "prob": 0.6
         },
         {
          "index": 7,
          "prob": 0.73
         },
         {
          "index": 8,
          "prob": 0.74
         },
         {
          "index": 9,
          "prob": 0.47000000000000003
         },
         {
          "index": 10,
          "prob": 0.7000000000000001
         },
         {
          "index": 11,
          "prob": 0.77
         },
         {
          "index": 12,
          "prob": 0.46
         },
         {
          "index": 13,
          "prob": 0.76
         },
         {
          "index": 14,
          "prob": 0.86
         },
         {
          "index": 15,
          "prob": 0.53
         },
         {
          "index": 16,
          "prob": 0.49
         },
         {
          "index": 17,
          "prob": 0.62
         },
         {
          "index": 18,
          "prob": 0.64
         },
         {
          "index": 19,
          "prob": 0.74
         },
         {
          "index": 20,
          "prob": 0.64
         },
         {
          "index": 21,
          "prob": 0.6
         },
         {
          "index": 22,
          "prob": 0.66
         },
         {
          "index": 23,
          "prob": 0.41000000000000003
         },
         {
          "index": 24,
          "prob": 0.72
         },
         {
          "index": 25,
          "prob": 0.77
         },
         {
          "index": 26,
          "prob": 0.8
         },
         {
          "index": 27,
          "prob": 0.5700000000000001
         },
         {
          "index": 28,
          "prob": 0.63
         },
         {
          "index": 29,
          "prob": 0.58
         },
         {
          "index": 30,
          "prob": 0.44
         },
         {
          "index": 31,
          "prob": 0.33
         },
         {
          "index": 32,
          "prob": 0.63
         },
         {
          "index": 33,
          "prob": 0.77
         },
         {
          "index": 34,
          "prob": 0.35000000000000003
         },
         {
          "index": 35,
          "prob": 0.62
         },
         {
          "index": 36,
          "prob": 0.22
         },
         {
          "index": 37,
          "prob": 0.67
         },
         {
          "index": 38,
          "prob": 0.63
         },
         {
          "index": 39,
          "prob": 0.49
         },
         {
          "index": 40,
          "prob": 0.34
         },
         {
          "index": 41,
          "prob": 0.68
         },
         {
          "index": 42,
          "prob": 0.76
         },
         {
          "index": 43,
          "prob": 0.8200000000000001
         },
         {
          "index": 44,
          "prob": 0.3
         },
         {
          "index": 45,
          "prob": 0.66
         },
         {
          "index": 46,
          "prob": 0.71
         },
         {
          "index": 47,
          "prob": 0.7000000000000001
         },
         {
          "index": 48,
          "prob": 0.5700000000000001
         },
         {
          "index": 49,
          "prob": 0.47000000000000003
         },
         {
          "index": 50,
          "prob": 0.65
         },
         {
          "index": 51,
          "prob": 0.41000000000000003
         },
         {
          "index": 52,
          "prob": 0.49
         },
         {
          "index": 53,
          "prob": 0.5700000000000001
         },
         {
          "index": 54,
          "prob": 0.75
         },
         {
          "index": 55,
          "prob": 0.49
         },
         {
          "index": 56,
          "prob": 0.56
         },
         {
          "index": 57,
          "prob": 0.64
         },
         {
          "index": 58,
          "prob": 0.42
         },
         {
          "index": 59,
          "prob": 0.68
         },
         {
          "index": 60,
          "prob": 0.52
         },
         {
          "index": 61,
          "prob": 0.81
         },
         {
          "index": 62,
          "prob": 0.8300000000000001
         },
         {
          "index": 63,
          "prob": 0.41000000000000003
         },
         {
          "index": 64,
          "prob": 0.71
         },
         {
          "index": 65,
          "prob": 0.8300000000000001
         },
         {
          "index": 66,
          "prob": 0.43
         },
         {
          "index": 67,
          "prob": 0.76
         },
         {
          "index": 68,
          "prob": 0.46
         },
         {
          "index": 69,
          "prob": 0.63
         },
         {
          "index": 70,
          "prob": 0.65
         },
         {
          "index": 71,
          "prob": 0.5700000000000001
         },
         {
          "index": 72,
          "prob": 0.55
         },
         {
          "index": 73,
          "prob": 0.59
         },
         {
          "index": 74,
          "prob": 0.73
         },
         {
          "index": 75,
          "prob": 0.67
         },
         {
          "index": 76,
          "prob": 0.62
         },
         {
          "index": 77,
          "prob": 0.53
         },
         {
          "index": 78,
          "prob": 0.7000000000000001
         },
         {
          "index": 79,
          "prob": 0.66
         },
         {
          "index": 80,
          "prob": 0.7000000000000001
         },
         {
          "index": 81,
          "prob": 0.81
         },
         {
          "index": 82,
          "prob": 0.85
         },
         {
          "index": 83,
          "prob": 0.48
         },
         {
          "index": 84,
          "prob": 0.64
         },
         {
          "index": 85,
          "prob": 0.81
         },
         {
          "index": 86,
          "prob": 0.67
         },
         {
          "index": 87,
          "prob": 0.34
         },
         {
          "index": 88,
          "prob": 0.8200000000000001
         },
         {
          "index": 89,
          "prob": 0.5700000000000001
         },
         {
          "index": 90,
          "prob": 0.59
         },
         {
          "index": 91,
          "prob": 0.84
         },
         {
          "index": 92,
          "prob": 0.72
         },
         {
          "index": 93,
          "prob": 0.87
         },
         {
          "index": 94,
          "prob": 0.74
         },
         {
          "index": 95,
          "prob": 0.62
         },
         {
          "index": 96,
          "prob": 0.37
         },
         {
          "index": 97,
          "prob": 0.55
         },
         {
          "index": 98,
          "prob": 0.7000000000000001
         },
         {
          "index": 99,
          "prob": 0.74
         },
         {
          "index": 100,
          "prob": 0.7000000000000001
         },
         {
          "index": 101,
          "prob": 0.8
         },
         {
          "index": 102,
          "prob": 0.85
         },
         {
          "index": 103,
          "prob": 0.87
         },
         {
          "index": 104,
          "prob": 0.52
         },
         {
          "index": 105,
          "prob": 0.66
         },
         {
          "index": 106,
          "prob": 0.81
         },
         {
          "index": 107,
          "prob": 0.63
         },
         {
          "index": 108,
          "prob": 0.62
         },
         {
          "index": 109,
          "prob": 0.75
         },
         {
          "index": 110,
          "prob": 0.85
         },
         {
          "index": 111,
          "prob": 0.73
         },
         {
          "index": 112,
          "prob": 0.63
         },
         {
          "index": 113,
          "prob": 0.71
         },
         {
          "index": 114,
          "prob": 0.73
         },
         {
          "index": 115,
          "prob": 0.73
         },
         {
          "index": 116,
          "prob": 0.41000000000000003
         },
         {
          "index": 117,
          "prob": 0.75
         },
         {
          "index": 118,
          "prob": 0.67
         },
         {
          "index": 119,
          "prob": 0.61
         },
         {
          "index": 120,
          "prob": 0.38
         },
         {
          "index": 121,
          "prob": 0.74
         },
         {
          "index": 122,
          "prob": 0.63
         },
         {
          "index": 123,
          "prob": 0.51
         },
         {
          "index": 124,
          "prob": 0.77
         },
         {
          "index": 125,
          "prob": 0.5
         },
         {
          "index": 126,
          "prob": 0.5
         },
         {
          "index": 127,
          "prob": 0.68
         },
         {
          "index": 128,
          "prob": 0.5700000000000001
         },
         {
          "index": 129,
          "prob": 0.79
         },
         {
          "index": 130,
          "prob": 0.27
         },
         {
          "index": 131,
          "prob": 0.3
         },
         {
          "index": 132,
          "prob": 0.58
         },
         {
          "index": 133,
          "prob": 0.63
         },
         {
          "index": 134,
          "prob": 0.73
         },
         {
          "index": 135,
          "prob": 0.6900000000000001
         },
         {
          "index": 136,
          "prob": 0.6900000000000001
         },
         {
          "index": 137,
          "prob": 0.68
         },
         {
          "index": 138,
          "prob": 0.6900000000000001
         },
         {
          "index": 139,
          "prob": 0.66
         },
         {
          "index": 140,
          "prob": 0.33
         },
         {
          "index": 141,
          "prob": 0.58
         },
         {
          "index": 142,
          "prob": 0.62
         },
         {
          "index": 143,
          "prob": 0.74
         },
         {
          "index": 144,
          "prob": 0.6900000000000001
         },
         {
          "index": 145,
          "prob": 0.73
         },
         {
          "index": 146,
          "prob": 0.71
         },
         {
          "index": 147,
          "prob": 0.45
         },
         {
          "index": 148,
          "prob": 0.63
         },
         {
          "index": 149,
          "prob": 0.49
         },
         {
          "index": 150,
          "prob": 0.62
         },
         {
          "index": 151,
          "prob": 0.74
         },
         {
          "index": 152,
          "prob": 0.47000000000000003
         },
         {
          "index": 153,
          "prob": 0.74
         },
         {
          "index": 154,
          "prob": 0.7000000000000001
         },
         {
          "index": 155,
          "prob": 0.32
         },
         {
          "index": 156,
          "prob": 0.62
         },
         {
          "index": 157,
          "prob": 0.53
         },
         {
          "index": 158,
          "prob": 0.35000000000000003
         },
         {
          "index": 159,
          "prob": 0.53
         },
         {
          "index": 160,
          "prob": 0.44
         },
         {
          "index": 161,
          "prob": 0.71
         },
         {
          "index": 162,
          "prob": 0.4
         },
         {
          "index": 163,
          "prob": 0.42
         },
         {
          "index": 164,
          "prob": 0.66
         },
         {
          "index": 165,
          "prob": 0.8
         },
         {
          "index": 166,
          "prob": 0.59
         },
         {
          "index": 167,
          "prob": 0.73
         },
         {
          "index": 168,
          "prob": 0.41000000000000003
         },
         {
          "index": 169,
          "prob": 0.81
         },
         {
          "index": 170,
          "prob": 0.74
         },
         {
          "index": 171,
          "prob": 0.59
         },
         {
          "index": 172,
          "prob": 0.54
         },
         {
          "index": 173,
          "prob": 0.53
         },
         {
          "index": 174,
          "prob": 0.71
         },
         {
          "index": 175,
          "prob": 0.84
         },
         {
          "index": 176,
          "prob": 0.89
         },
         {
          "index": 177,
          "prob": 0.5700000000000001
         },
         {
          "index": 178,
          "prob": 0.64
         },
         {
          "index": 179,
          "prob": 0.91
         },
         {
          "index": 180,
          "prob": 0.62
         },
         {
          "index": 181,
          "prob": 0.56
         },
         {
          "index": 182,
          "prob": 0.47000000000000003
         },
         {
          "index": 183,
          "prob": 0.78
         },
         {
          "index": 184,
          "prob": 0.53
         },
         {
          "index": 185,
          "prob": 0.89
         },
         {
          "index": 186,
          "prob": 0.75
         },
         {
          "index": 187,
          "prob": 0.84
         },
         {
          "index": 188,
          "prob": 0.74
         },
         {
          "index": 189,
          "prob": 0.56
         },
         {
          "index": 190,
          "prob": 0.68
         },
         {
          "index": 191,
          "prob": 0.23
         },
         {
          "index": 192,
          "prob": 0.73
         },
         {
          "index": 193,
          "prob": 0.62
         },
         {
          "index": 194,
          "prob": 0.76
         },
         {
          "index": 195,
          "prob": 0.68
         },
         {
          "index": 196,
          "prob": 0.77
         },
         {
          "index": 197,
          "prob": 0.77
         },
         {
          "index": 198,
          "prob": 0.72
         },
         {
          "index": 199,
          "prob": 0.87
         },
         {
          "index": 200,
          "prob": 0.64
         },
         {
          "index": 201,
          "prob": 0.72
         },
         {
          "index": 202,
          "prob": 0.76
         },
         {
          "index": 203,
          "prob": 0.71
         },
         {
          "index": 204,
          "prob": 0.64
         },
         {
          "index": 205,
          "prob": 0.54
         },
         {
          "index": 206,
          "prob": 0.52
         },
         {
          "index": 207,
          "prob": 0.6
         },
         {
          "index": 208,
          "prob": 0.8
         },
         {
          "index": 209,
          "prob": 0.9500000000000001
         },
         {
          "index": 210,
          "prob": 0.38
         },
         {
          "index": 211,
          "prob": 0.73
         },
         {
          "index": 212,
          "prob": 0.66
         },
         {
          "index": 213,
          "prob": 0.41000000000000003
         },
         {
          "index": 214,
          "prob": 0.92
         },
         {
          "index": 215,
          "prob": 0.7000000000000001
         },
         {
          "index": 216,
          "prob": 0.78
         },
         {
          "index": 217,
          "prob": 0.65
         },
         {
          "index": 218,
          "prob": 0.74
         },
         {
          "index": 219,
          "prob": 0.76
         },
         {
          "index": 220,
          "prob": 0.66
         },
         {
          "index": 221,
          "prob": 0.6900000000000001
         },
         {
          "index": 222,
          "prob": 0.61
         },
         {
          "index": 223,
          "prob": 0.52
         },
         {
          "index": 224,
          "prob": 0.8200000000000001
         },
         {
          "index": 225,
          "prob": 0.77
         },
         {
          "index": 226,
          "prob": 0.78
         },
         {
          "index": 227,
          "prob": 0.72
         },
         {
          "index": 228,
          "prob": 0.55
         },
         {
          "index": 229,
          "prob": 0.53
         },
         {
          "index": 230,
          "prob": 0.79
         },
         {
          "index": 231,
          "prob": 0.49
         },
         {
          "index": 232,
          "prob": 0.75
         },
         {
          "index": 233,
          "prob": 0.61
         },
         {
          "index": 234,
          "prob": 0.61
         },
         {
          "index": 235,
          "prob": 0.59
         },
         {
          "index": 236,
          "prob": 0.81
         },
         {
          "index": 237,
          "prob": 0.6
         },
         {
          "index": 238,
          "prob": 0.88
         },
         {
          "index": 239,
          "prob": 0.7000000000000001
         },
         {
          "index": 240,
          "prob": 0.7000000000000001
         },
         {
          "index": 241,
          "prob": 0.56
         },
         {
          "index": 242,
          "prob": 0.61
         },
         {
          "index": 243,
          "prob": 0.9
         },
         {
          "index": 244,
          "prob": 0.67
         },
         {
          "index": 245,
          "prob": 0.84
         },
         {
          "index": 246,
          "prob": 0.79
         },
         {
          "index": 247,
          "prob": 0.52
         },
         {
          "index": 248,
          "prob": 0.64
         },
         {
          "index": 249,
          "prob": 0.54
         },
         {
          "index": 250,
          "prob": 0.81
         },
         {
          "index": 251,
          "prob": 0.64
         },
         {
          "index": 252,
          "prob": 0.55
         },
         {
          "index": 253,
          "prob": 0.7000000000000001
         },
         {
          "index": 254,
          "prob": 0.56
         },
         {
          "index": 255,
          "prob": 0.52
         },
         {
          "index": 256,
          "prob": 0.86
         },
         {
          "index": 257,
          "prob": 0.63
         },
         {
          "index": 258,
          "prob": 0.49
         },
         {
          "index": 259,
          "prob": 0.34
         },
         {
          "index": 260,
          "prob": 0.7000000000000001
         },
         {
          "index": 261,
          "prob": 0.6
         },
         {
          "index": 262,
          "prob": 0.55
         },
         {
          "index": 263,
          "prob": 0.62
         },
         {
          "index": 264,
          "prob": 0.58
         },
         {
          "index": 265,
          "prob": 0.68
         },
         {
          "index": 266,
          "prob": 0.29
         },
         {
          "index": 267,
          "prob": 0.87
         },
         {
          "index": 268,
          "prob": 0.36
         },
         {
          "index": 269,
          "prob": 0.35000000000000003
         },
         {
          "index": 270,
          "prob": 0.73
         },
         {
          "index": 271,
          "prob": 0.73
         },
         {
          "index": 272,
          "prob": 0.4
         },
         {
          "index": 273,
          "prob": 0.8300000000000001
         },
         {
          "index": 274,
          "prob": 0.67
         },
         {
          "index": 275,
          "prob": 0.51
         },
         {
          "index": 276,
          "prob": 0.61
         },
         {
          "index": 277,
          "prob": 0.67
         },
         {
          "index": 278,
          "prob": 0.58
         },
         {
          "index": 279,
          "prob": 0.65
         },
         {
          "index": 280,
          "prob": 0.55
         },
         {
          "index": 281,
          "prob": 0.55
         },
         {
          "index": 282,
          "prob": 0.54
         },
         {
          "index": 283,
          "prob": 0.8
         },
         {
          "index": 284,
          "prob": 0.8200000000000001
         },
         {
          "index": 285,
          "prob": 0.5
         },
         {
          "index": 286,
          "prob": 0.84
         },
         {
          "index": 287,
          "prob": 0.58
         },
         {
          "index": 288,
          "prob": 0.64
         },
         {
          "index": 289,
          "prob": 0.52
         },
         {
          "index": 290,
          "prob": 0.71
         },
         {
          "index": 291,
          "prob": 0.62
         },
         {
          "index": 292,
          "prob": 0.37
         },
         {
          "index": 293,
          "prob": 0.6
         },
         {
          "index": 294,
          "prob": 0.79
         },
         {
          "index": 295,
          "prob": 0.39
         },
         {
          "index": 296,
          "prob": 0.56
         },
         {
          "index": 297,
          "prob": 0.72
         },
         {
          "index": 298,
          "prob": 0.89
         },
         {
          "index": 299,
          "prob": 0.8
         },
         {
          "index": 300,
          "prob": 0.6
         },
         {
          "index": 301,
          "prob": 0.78
         },
         {
          "index": 302,
          "prob": 0.47000000000000003
         },
         {
          "index": 303,
          "prob": 0.64
         },
         {
          "index": 304,
          "prob": 0.56
         },
         {
          "index": 305,
          "prob": 0.7000000000000001
         },
         {
          "index": 306,
          "prob": 0.6900000000000001
         },
         {
          "index": 307,
          "prob": 0.67
         },
         {
          "index": 308,
          "prob": 0.6
         },
         {
          "index": 309,
          "prob": 0.64
         },
         {
          "index": 310,
          "prob": 0.59
         },
         {
          "index": 311,
          "prob": 0.8200000000000001
         },
         {
          "index": 312,
          "prob": 0.73
         },
         {
          "index": 313,
          "prob": 0.79
         },
         {
          "index": 314,
          "prob": 0.8300000000000001
         },
         {
          "index": 315,
          "prob": 0.65
         },
         {
          "index": 316,
          "prob": 0.58
         },
         {
          "index": 317,
          "prob": 0.75
         },
         {
          "index": 318,
          "prob": 0.73
         },
         {
          "index": 319,
          "prob": 0.64
         },
         {
          "index": 320,
          "prob": 0.54
         },
         {
          "index": 321,
          "prob": 0.48
         },
         {
          "index": 322,
          "prob": 0.63
         },
         {
          "index": 323,
          "prob": 0.6900000000000001
         },
         {
          "index": 324,
          "prob": 0.53
         },
         {
          "index": 325,
          "prob": 0.63
         },
         {
          "index": 326,
          "prob": 0.63
         },
         {
          "index": 327,
          "prob": 0.56
         },
         {
          "index": 328,
          "prob": 0.62
         },
         {
          "index": 329,
          "prob": 0.23
         },
         {
          "index": 330,
          "prob": 0.9
         },
         {
          "index": 331,
          "prob": 0.54
         },
         {
          "index": 332,
          "prob": 0.68
         },
         {
          "index": 333,
          "prob": 0.62
         },
         {
          "index": 334,
          "prob": 0.56
         },
         {
          "index": 335,
          "prob": 0.43
         },
         {
          "index": 336,
          "prob": 0.47000000000000003
         },
         {
          "index": 337,
          "prob": 0.71
         },
         {
          "index": 338,
          "prob": 0.66
         },
         {
          "index": 339,
          "prob": 0.32
         },
         {
          "index": 340,
          "prob": 0.9400000000000001
         },
         {
          "index": 341,
          "prob": 0.39
         },
         {
          "index": 342,
          "prob": 0.5700000000000001
         },
         {
          "index": 343,
          "prob": 0.85
         },
         {
          "index": 344,
          "prob": 0.62
         },
         {
          "index": 345,
          "prob": 0.78
         },
         {
          "index": 346,
          "prob": 0.73
         },
         {
          "index": 347,
          "prob": 0.89
         },
         {
          "index": 348,
          "prob": 0.6900000000000001
         },
         {
          "index": 349,
          "prob": 0.62
         },
         {
          "index": 350,
          "prob": 0.5700000000000001
         },
         {
          "index": 351,
          "prob": 0.44
         },
         {
          "index": 352,
          "prob": 0.74
         },
         {
          "index": 353,
          "prob": 0.75
         },
         {
          "index": 354,
          "prob": 0.46
         },
         {
          "index": 355,
          "prob": 0.58
         },
         {
          "index": 356,
          "prob": 0.84
         },
         {
          "index": 357,
          "prob": 0.7000000000000001
         },
         {
          "index": 358,
          "prob": 0.59
         },
         {
          "index": 359,
          "prob": 0.48
         },
         {
          "index": 360,
          "prob": 0.58
         },
         {
          "index": 361,
          "prob": 0.72
         },
         {
          "index": 362,
          "prob": 0.41000000000000003
         },
         {
          "index": 363,
          "prob": 0.84
         },
         {
          "index": 364,
          "prob": 0.62
         },
         {
          "index": 365,
          "prob": 0.61
         },
         {
          "index": 366,
          "prob": 0.48
         },
         {
          "index": 367,
          "prob": 0.8200000000000001
         },
         {
          "index": 368,
          "prob": 0.67
         },
         {
          "index": 369,
          "prob": 0.54
         },
         {
          "index": 370,
          "prob": 0.64
         },
         {
          "index": 371,
          "prob": 0.39
         },
         {
          "index": 372,
          "prob": 0.62
         },
         {
          "index": 373,
          "prob": 0.36
         },
         {
          "index": 374,
          "prob": 0.58
         },
         {
          "index": 375,
          "prob": 0.72
         },
         {
          "index": 376,
          "prob": 0.55
         },
         {
          "index": 377,
          "prob": 0.62
         },
         {
          "index": 378,
          "prob": 0.59
         },
         {
          "index": 379,
          "prob": 0.68
         },
         {
          "index": 380,
          "prob": 0.76
         },
         {
          "index": 381,
          "prob": 0.5700000000000001
         },
         {
          "index": 382,
          "prob": 0.6900000000000001
         },
         {
          "index": 383,
          "prob": 0.7000000000000001
         },
         {
          "index": 384,
          "prob": 0.73
         },
         {
          "index": 385,
          "prob": 0.68
         },
         {
          "index": 386,
          "prob": 0.47000000000000003
         },
         {
          "index": 387,
          "prob": 0.84
         },
         {
          "index": 388,
          "prob": 0.78
         },
         {
          "index": 389,
          "prob": 0.87
         },
         {
          "index": 390,
          "prob": 0.67
         },
         {
          "index": 391,
          "prob": 0.81
         },
         {
          "index": 392,
          "prob": 0.62
         },
         {
          "index": 393,
          "prob": 0.74
         },
         {
          "index": 394,
          "prob": 0.56
         },
         {
          "index": 395,
          "prob": 0.58
         },
         {
          "index": 396,
          "prob": 0.51
         },
         {
          "index": 397,
          "prob": 0.39
         },
         {
          "index": 398,
          "prob": 0.68
         },
         {
          "index": 399,
          "prob": 0.45
         },
         {
          "index": 400,
          "prob": 0.5
         },
         {
          "index": 401,
          "prob": 0.59
         },
         {
          "index": 402,
          "prob": 0.73
         },
         {
          "index": 403,
          "prob": 0.74
         },
         {
          "index": 404,
          "prob": 0.7000000000000001
         },
         {
          "index": 405,
          "prob": 0.78
         },
         {
          "index": 406,
          "prob": 0.74
         },
         {
          "index": 407,
          "prob": 0.84
         },
         {
          "index": 408,
          "prob": 0.76
         },
         {
          "index": 409,
          "prob": 0.8300000000000001
         },
         {
          "index": 410,
          "prob": 0.8200000000000001
         },
         {
          "index": 411,
          "prob": 0.55
         },
         {
          "index": 412,
          "prob": 0.7000000000000001
         },
         {
          "index": 413,
          "prob": 0.9
         },
         {
          "index": 414,
          "prob": 0.67
         },
         {
          "index": 415,
          "prob": 0.8
         },
         {
          "index": 416,
          "prob": 0.77
         },
         {
          "index": 417,
          "prob": 0.58
         },
         {
          "index": 418,
          "prob": 0.75
         },
         {
          "index": 419,
          "prob": 0.75
         },
         {
          "index": 420,
          "prob": 0.48
         },
         {
          "index": 421,
          "prob": 0.76
         },
         {
          "index": 422,
          "prob": 0.53
         },
         {
          "index": 423,
          "prob": 0.34
         },
         {
          "index": 424,
          "prob": 0.9500000000000001
         },
         {
          "index": 425,
          "prob": 0.51
         },
         {
          "index": 426,
          "prob": 0.68
         },
         {
          "index": 427,
          "prob": 0.72
         },
         {
          "index": 428,
          "prob": 0.64
         },
         {
          "index": 429,
          "prob": 0.59
         },
         {
          "index": 430,
          "prob": 0.71
         },
         {
          "index": 431,
          "prob": 0.63
         },
         {
          "index": 432,
          "prob": 0.53
         },
         {
          "index": 433,
          "prob": 0.54
         },
         {
          "index": 434,
          "prob": 0.75
         },
         {
          "index": 435,
          "prob": 0.68
         },
         {
          "index": 436,
          "prob": 0.65
         },
         {
          "index": 437,
          "prob": 0.64
         },
         {
          "index": 438,
          "prob": 0.68
         },
         {
          "index": 439,
          "prob": 0.58
         },
         {
          "index": 440,
          "prob": 0.73
         },
         {
          "index": 441,
          "prob": 0.5
         },
         {
          "index": 442,
          "prob": 0.59
         },
         {
          "index": 443,
          "prob": 0.5700000000000001
         },
         {
          "index": 444,
          "prob": 0.67
         },
         {
          "index": 445,
          "prob": 0.63
         },
         {
          "index": 446,
          "prob": 0.63
         },
         {
          "index": 447,
          "prob": 0.59
         },
         {
          "index": 448,
          "prob": 0.58
         },
         {
          "index": 449,
          "prob": 0.77
         },
         {
          "index": 450,
          "prob": 0.75
         },
         {
          "index": 451,
          "prob": 0.46
         },
         {
          "index": 452,
          "prob": 0.5700000000000001
         },
         {
          "index": 453,
          "prob": 0.61
         },
         {
          "index": 454,
          "prob": 0.53
         },
         {
          "index": 455,
          "prob": 0.65
         },
         {
          "index": 456,
          "prob": 0.73
         },
         {
          "index": 457,
          "prob": 0.51
         },
         {
          "index": 458,
          "prob": 0.39
         },
         {
          "index": 459,
          "prob": 0.61
         },
         {
          "index": 460,
          "prob": 0.59
         },
         {
          "index": 461,
          "prob": 0.56
         },
         {
          "index": 462,
          "prob": 0.49
         },
         {
          "index": 463,
          "prob": 0.54
         },
         {
          "index": 464,
          "prob": 0.56
         },
         {
          "index": 465,
          "prob": 0.58
         },
         {
          "index": 466,
          "prob": 0.87
         },
         {
          "index": 467,
          "prob": 0.51
         },
         {
          "index": 468,
          "prob": 0.38
         },
         {
          "index": 469,
          "prob": 0.49
         },
         {
          "index": 470,
          "prob": 0.6
         },
         {
          "index": 471,
          "prob": 0.79
         },
         {
          "index": 472,
          "prob": 0.55
         },
         {
          "index": 473,
          "prob": 0.6900000000000001
         },
         {
          "index": 474,
          "prob": 0.65
         },
         {
          "index": 475,
          "prob": 0.28
         },
         {
          "index": 476,
          "prob": 0.74
         },
         {
          "index": 477,
          "prob": 0.93
         },
         {
          "index": 478,
          "prob": 0.63
         },
         {
          "index": 479,
          "prob": 0.8
         },
         {
          "index": 480,
          "prob": 0.67
         },
         {
          "index": 481,
          "prob": 0.64
         },
         {
          "index": 482,
          "prob": 0.43
         },
         {
          "index": 483,
          "prob": 0.72
         },
         {
          "index": 484,
          "prob": 0.7000000000000001
         },
         {
          "index": 485,
          "prob": 0.64
         },
         {
          "index": 486,
          "prob": 0.71
         },
         {
          "index": 487,
          "prob": 0.58
         },
         {
          "index": 488,
          "prob": 0.73
         },
         {
          "index": 489,
          "prob": 0.75
         },
         {
          "index": 490,
          "prob": 0.78
         },
         {
          "index": 491,
          "prob": 0.85
         },
         {
          "index": 492,
          "prob": 0.65
         },
         {
          "index": 493,
          "prob": 0.74
         },
         {
          "index": 494,
          "prob": 0.38
         },
         {
          "index": 495,
          "prob": 0.4
         },
         {
          "index": 496,
          "prob": 0.8200000000000001
         },
         {
          "index": 497,
          "prob": 0.85
         },
         {
          "index": 498,
          "prob": 0.8
         },
         {
          "index": 499,
          "prob": 0.72
         },
         {
          "index": 500,
          "prob": 0.49
         },
         {
          "index": 501,
          "prob": 0.8200000000000001
         },
         {
          "index": 502,
          "prob": 0.79
         },
         {
          "index": 503,
          "prob": 0.65
         },
         {
          "index": 504,
          "prob": 0.5700000000000001
         },
         {
          "index": 505,
          "prob": 0.25
         },
         {
          "index": 506,
          "prob": 0.54
         },
         {
          "index": 507,
          "prob": 0.49
         },
         {
          "index": 508,
          "prob": 0.47000000000000003
         },
         {
          "index": 509,
          "prob": 0.67
         },
         {
          "index": 510,
          "prob": 0.58
         },
         {
          "index": 511,
          "prob": 0.79
         },
         {
          "index": 512,
          "prob": 0.5700000000000001
         },
         {
          "index": 513,
          "prob": 0.59
         },
         {
          "index": 514,
          "prob": 0.62
         },
         {
          "index": 515,
          "prob": 0.67
         },
         {
          "index": 516,
          "prob": 0.59
         },
         {
          "index": 517,
          "prob": 0.67
         },
         {
          "index": 518,
          "prob": 0.75
         },
         {
          "index": 519,
          "prob": 0.61
         },
         {
          "index": 520,
          "prob": 0.54
         },
         {
          "index": 521,
          "prob": 0.5
         },
         {
          "index": 522,
          "prob": 0.79
         },
         {
          "index": 523,
          "prob": 0.63
         },
         {
          "index": 524,
          "prob": 0.44
         },
         {
          "index": 525,
          "prob": 0.29
         },
         {
          "index": 526,
          "prob": 0.59
         },
         {
          "index": 527,
          "prob": 0.53
         },
         {
          "index": 528,
          "prob": 0.39
         },
         {
          "index": 529,
          "prob": 0.62
         },
         {
          "index": 530,
          "prob": 0.71
         },
         {
          "index": 531,
          "prob": 0.72
         },
         {
          "index": 532,
          "prob": 0.28
         },
         {
          "index": 533,
          "prob": 0.72
         },
         {
          "index": 534,
          "prob": 0.46
         },
         {
          "index": 535,
          "prob": 0.58
         },
         {
          "index": 536,
          "prob": 0.51
         },
         {
          "index": 537,
          "prob": 0.7000000000000001
         },
         {
          "index": 538,
          "prob": 0.55
         },
         {
          "index": 539,
          "prob": 0.65
         },
         {
          "index": 540,
          "prob": 0.7000000000000001
         },
         {
          "index": 541,
          "prob": 0.51
         },
         {
          "index": 542,
          "prob": 0.86
         },
         {
          "index": 543,
          "prob": 0.53
         },
         {
          "index": 544,
          "prob": 0.56
         },
         {
          "index": 545,
          "prob": 0.89
         },
         {
          "index": 546,
          "prob": 0.62
         },
         {
          "index": 547,
          "prob": 0.68
         },
         {
          "index": 548,
          "prob": 0.55
         },
         {
          "index": 549,
          "prob": 0.84
         },
         {
          "index": 550,
          "prob": 0.68
         },
         {
          "index": 551,
          "prob": 0.66
         },
         {
          "index": 552,
          "prob": 0.51
         },
         {
          "index": 553,
          "prob": 0.76
         },
         {
          "index": 554,
          "prob": 0.68
         },
         {
          "index": 555,
          "prob": 0.64
         },
         {
          "index": 556,
          "prob": 0.55
         },
         {
          "index": 557,
          "prob": 0.6
         },
         {
          "index": 558,
          "prob": 0.59
         },
         {
          "index": 559,
          "prob": 0.59
         },
         {
          "index": 560,
          "prob": 0.73
         },
         {
          "index": 561,
          "prob": 0.66
         },
         {
          "index": 562,
          "prob": 0.46
         },
         {
          "index": 563,
          "prob": 0.5700000000000001
         },
         {
          "index": 564,
          "prob": 0.36
         },
         {
          "index": 565,
          "prob": 0.53
         },
         {
          "index": 566,
          "prob": 0.48
         },
         {
          "index": 567,
          "prob": 0.47000000000000003
         },
         {
          "index": 568,
          "prob": 0.44
         },
         {
          "index": 569,
          "prob": 0.62
         },
         {
          "index": 570,
          "prob": 0.53
         },
         {
          "index": 571,
          "prob": 0.52
         },
         {
          "index": 572,
          "prob": 0.6900000000000001
         },
         {
          "index": 573,
          "prob": 0.45
         },
         {
          "index": 574,
          "prob": 0.56
         },
         {
          "index": 575,
          "prob": 0.88
         },
         {
          "index": 576,
          "prob": 0.87
         },
         {
          "index": 577,
          "prob": 0.77
         },
         {
          "index": 578,
          "prob": 0.8200000000000001
         },
         {
          "index": 579,
          "prob": 0.8
         },
         {
          "index": 580,
          "prob": 0.81
         },
         {
          "index": 581,
          "prob": 0.53
         },
         {
          "index": 582,
          "prob": 0.44
         },
         {
          "index": 583,
          "prob": 0.42
         },
         {
          "index": 584,
          "prob": 0.55
         },
         {
          "index": 585,
          "prob": 0.55
         },
         {
          "index": 586,
          "prob": 0.75
         },
         {
          "index": 587,
          "prob": 0.81
         },
         {
          "index": 588,
          "prob": 0.77
         },
         {
          "index": 589,
          "prob": 0.64
         },
         {
          "index": 590,
          "prob": 0.77
         },
         {
          "index": 591,
          "prob": 0.77
         },
         {
          "index": 592,
          "prob": 0.59
         },
         {
          "index": 593,
          "prob": 0.65
         },
         {
          "index": 594,
          "prob": 0.8300000000000001
         },
         {
          "index": 595,
          "prob": 0.54
         },
         {
          "index": 596,
          "prob": 0.72
         },
         {
          "index": 597,
          "prob": 0.5700000000000001
         },
         {
          "index": 598,
          "prob": 0.73
         },
         {
          "index": 599,
          "prob": 0.59
         },
         {
          "index": 600,
          "prob": 0.59
         },
         {
          "index": 601,
          "prob": 0.84
         },
         {
          "index": 602,
          "prob": 0.39
         },
         {
          "index": 603,
          "prob": 0.81
         },
         {
          "index": 604,
          "prob": 0.7000000000000001
         },
         {
          "index": 605,
          "prob": 0.55
         },
         {
          "index": 606,
          "prob": 0.68
         },
         {
          "index": 607,
          "prob": 0.74
         },
         {
          "index": 608,
          "prob": 0.61
         },
         {
          "index": 609,
          "prob": 0.81
         },
         {
          "index": 610,
          "prob": 0.61
         },
         {
          "index": 611,
          "prob": 0.37
         },
         {
          "index": 612,
          "prob": 0.6900000000000001
         },
         {
          "index": 613,
          "prob": 0.61
         },
         {
          "index": 614,
          "prob": 0.81
         },
         {
          "index": 615,
          "prob": 0.71
         },
         {
          "index": 616,
          "prob": 0.54
         },
         {
          "index": 617,
          "prob": 0.65
         },
         {
          "index": 618,
          "prob": 0.78
         },
         {
          "index": 619,
          "prob": 0.47000000000000003
         },
         {
          "index": 620,
          "prob": 0.56
         },
         {
          "index": 621,
          "prob": 0.88
         },
         {
          "index": 622,
          "prob": 0.44
         },
         {
          "index": 623,
          "prob": 0.59
         },
         {
          "index": 624,
          "prob": 0.4
         },
         {
          "index": 625,
          "prob": 0.6
         },
         {
          "index": 626,
          "prob": 0.6900000000000001
         },
         {
          "index": 627,
          "prob": 0.78
         },
         {
          "index": 628,
          "prob": 0.6900000000000001
         },
         {
          "index": 629,
          "prob": 0.6900000000000001
         },
         {
          "index": 630,
          "prob": 0.44
         },
         {
          "index": 631,
          "prob": 0.77
         },
         {
          "index": 632,
          "prob": 0.7000000000000001
         },
         {
          "index": 633,
          "prob": 0.8200000000000001
         },
         {
          "index": 634,
          "prob": 0.65
         },
         {
          "index": 635,
          "prob": 0.4
         },
         {
          "index": 636,
          "prob": 0.54
         },
         {
          "index": 637,
          "prob": 0.42
         },
         {
          "index": 638,
          "prob": 0.52
         },
         {
          "index": 639,
          "prob": 0.61
         },
         {
          "index": 640,
          "prob": 0.55
         },
         {
          "index": 641,
          "prob": 0.84
         },
         {
          "index": 642,
          "prob": 0.85
         },
         {
          "index": 643,
          "prob": 0.68
         },
         {
          "index": 644,
          "prob": 0.63
         },
         {
          "index": 645,
          "prob": 0.5700000000000001
         },
         {
          "index": 646,
          "prob": 0.77
         },
         {
          "index": 647,
          "prob": 0.6900000000000001
         },
         {
          "index": 648,
          "prob": 0.48
         },
         {
          "index": 649,
          "prob": 0.66
         },
         {
          "index": 650,
          "prob": 0.55
         },
         {
          "index": 651,
          "prob": 0.6900000000000001
         },
         {
          "index": 652,
          "prob": 0.71
         },
         {
          "index": 653,
          "prob": 0.59
         },
         {
          "index": 654,
          "prob": 0.52
         },
         {
          "index": 655,
          "prob": 0.53
         },
         {
          "index": 656,
          "prob": 0.71
         },
         {
          "index": 657,
          "prob": 0.66
         },
         {
          "index": 658,
          "prob": 0.7000000000000001
         },
         {
          "index": 659,
          "prob": 0.51
         },
         {
          "index": 660,
          "prob": 0.25
         },
         {
          "index": 661,
          "prob": 0.46
         },
         {
          "index": 662,
          "prob": 0.81
         },
         {
          "index": 663,
          "prob": 0.47000000000000003
         },
         {
          "index": 664,
          "prob": 0.64
         },
         {
          "index": 665,
          "prob": 0.8200000000000001
         },
         {
          "index": 666,
          "prob": 0.67
         },
         {
          "index": 667,
          "prob": 0.68
         },
         {
          "index": 668,
          "prob": 0.55
         },
         {
          "index": 669,
          "prob": 0.68
         },
         {
          "index": 670,
          "prob": 0.79
         },
         {
          "index": 671,
          "prob": 0.52
         },
         {
          "index": 672,
          "prob": 0.75
         },
         {
          "index": 673,
          "prob": 0.58
         },
         {
          "index": 674,
          "prob": 0.6
         },
         {
          "index": 675,
          "prob": 0.5700000000000001
         },
         {
          "index": 676,
          "prob": 0.56
         },
         {
          "index": 677,
          "prob": 0.39
         },
         {
          "index": 678,
          "prob": 0.39
         },
         {
          "index": 679,
          "prob": 0.75
         },
         {
          "index": 680,
          "prob": 0.84
         },
         {
          "index": 681,
          "prob": 0.55
         },
         {
          "index": 682,
          "prob": 0.68
         },
         {
          "index": 683,
          "prob": 0.34
         },
         {
          "index": 684,
          "prob": 0.67
         },
         {
          "index": 685,
          "prob": 0.45
         },
         {
          "index": 686,
          "prob": 0.61
         },
         {
          "index": 687,
          "prob": 0.61
         },
         {
          "index": 688,
          "prob": 0.49
         },
         {
          "index": 689,
          "prob": 0.59
         },
         {
          "index": 690,
          "prob": 0.46
         },
         {
          "index": 691,
          "prob": 0.76
         },
         {
          "index": 692,
          "prob": 0.72
         },
         {
          "index": 693,
          "prob": 0.81
         },
         {
          "index": 694,
          "prob": 0.53
         },
         {
          "index": 695,
          "prob": 0.32
         },
         {
          "index": 696,
          "prob": 0.72
         },
         {
          "index": 697,
          "prob": 0.73
         },
         {
          "index": 698,
          "prob": 0.36
         },
         {
          "index": 699,
          "prob": 0.58
         },
         {
          "index": 700,
          "prob": 0.63
         },
         {
          "index": 701,
          "prob": 0.64
         },
         {
          "index": 702,
          "prob": 0.63
         },
         {
          "index": 703,
          "prob": 0.8
         },
         {
          "index": 704,
          "prob": 0.6
         },
         {
          "index": 705,
          "prob": 0.7000000000000001
         },
         {
          "index": 706,
          "prob": 0.61
         },
         {
          "index": 707,
          "prob": 0.5
         },
         {
          "index": 708,
          "prob": 0.7000000000000001
         },
         {
          "index": 709,
          "prob": 0.78
         },
         {
          "index": 710,
          "prob": 0.47000000000000003
         },
         {
          "index": 711,
          "prob": 0.51
         },
         {
          "index": 712,
          "prob": 0.35000000000000003
         },
         {
          "index": 713,
          "prob": 0.8200000000000001
         },
         {
          "index": 714,
          "prob": 0.8
         },
         {
          "index": 715,
          "prob": 0.65
         },
         {
          "index": 716,
          "prob": 0.64
         },
         {
          "index": 717,
          "prob": 0.73
         },
         {
          "index": 718,
          "prob": 0.71
         },
         {
          "index": 719,
          "prob": 0.62
         },
         {
          "index": 720,
          "prob": 0.62
         },
         {
          "index": 721,
          "prob": 0.7000000000000001
         },
         {
          "index": 722,
          "prob": 0.6
         },
         {
          "index": 723,
          "prob": 0.53
         },
         {
          "index": 724,
          "prob": 0.56
         },
         {
          "index": 725,
          "prob": 0.59
         },
         {
          "index": 726,
          "prob": 0.74
         },
         {
          "index": 727,
          "prob": 0.65
         },
         {
          "index": 728,
          "prob": 0.74
         },
         {
          "index": 729,
          "prob": 0.66
         },
         {
          "index": 730,
          "prob": 0.49
         },
         {
          "index": 731,
          "prob": 0.59
         },
         {
          "index": 732,
          "prob": 0.44
         },
         {
          "index": 733,
          "prob": 0.67
         },
         {
          "index": 734,
          "prob": 0.7000000000000001
         },
         {
          "index": 735,
          "prob": 0.77
         },
         {
          "index": 736,
          "prob": 0.62
         },
         {
          "index": 737,
          "prob": 0.41000000000000003
         },
         {
          "index": 738,
          "prob": 0.49
         },
         {
          "index": 739,
          "prob": 0.65
         },
         {
          "index": 740,
          "prob": 0.54
         },
         {
          "index": 741,
          "prob": 0.9
         },
         {
          "index": 742,
          "prob": 0.6900000000000001
         },
         {
          "index": 743,
          "prob": 0.77
         },
         {
          "index": 744,
          "prob": 0.65
         },
         {
          "index": 745,
          "prob": 0.5700000000000001
         },
         {
          "index": 746,
          "prob": 0.49
         },
         {
          "index": 747,
          "prob": 0.73
         },
         {
          "index": 748,
          "prob": 0.64
         },
         {
          "index": 749,
          "prob": 0.62
         },
         {
          "index": 750,
          "prob": 0.84
         },
         {
          "index": 751,
          "prob": 0.56
         },
         {
          "index": 752,
          "prob": 0.47000000000000003
         },
         {
          "index": 753,
          "prob": 0.49
         },
         {
          "index": 754,
          "prob": 0.65
         },
         {
          "index": 755,
          "prob": 0.85
         },
         {
          "index": 756,
          "prob": 0.74
         },
         {
          "index": 757,
          "prob": 0.8300000000000001
         },
         {
          "index": 758,
          "prob": 0.55
         },
         {
          "index": 759,
          "prob": 0.47000000000000003
         },
         {
          "index": 760,
          "prob": 0.49
         },
         {
          "index": 761,
          "prob": 0.76
         },
         {
          "index": 762,
          "prob": 0.43
         },
         {
          "index": 763,
          "prob": 0.87
         },
         {
          "index": 764,
          "prob": 0.37
         },
         {
          "index": 765,
          "prob": 0.58
         },
         {
          "index": 766,
          "prob": 0.79
         },
         {
          "index": 767,
          "prob": 0.36
         },
         {
          "index": 768,
          "prob": 0.66
         },
         {
          "index": 769,
          "prob": 0.59
         },
         {
          "index": 770,
          "prob": 0.61
         },
         {
          "index": 771,
          "prob": 0.46
         },
         {
          "index": 772,
          "prob": 0.44
         },
         {
          "index": 773,
          "prob": 0.35000000000000003
         },
         {
          "index": 774,
          "prob": 0.43
         },
         {
          "index": 775,
          "prob": 0.8300000000000001
         },
         {
          "index": 776,
          "prob": 0.78
         },
         {
          "index": 777,
          "prob": 0.61
         },
         {
          "index": 778,
          "prob": 0.9500000000000001
         },
         {
          "index": 779,
          "prob": 0.8
         },
         {
          "index": 780,
          "prob": 0.5700000000000001
         },
         {
          "index": 781,
          "prob": 0.88
         },
         {
          "index": 782,
          "prob": 0.6900000000000001
         },
         {
          "index": 783,
          "prob": 0.77
         },
         {
          "index": 784,
          "prob": 0.67
         },
         {
          "index": 785,
          "prob": 0.51
         },
         {
          "index": 786,
          "prob": 0.81
         },
         {
          "index": 787,
          "prob": 0.59
         },
         {
          "index": 788,
          "prob": 0.41000000000000003
         },
         {
          "index": 789,
          "prob": 0.53
         },
         {
          "index": 790,
          "prob": 0.71
         },
         {
          "index": 791,
          "prob": 0.66
         },
         {
          "index": 792,
          "prob": 0.54
         },
         {
          "index": 793,
          "prob": 0.5
         },
         {
          "index": 794,
          "prob": 0.85
         },
         {
          "index": 795,
          "prob": 0.67
         },
         {
          "index": 796,
          "prob": 0.78
         },
         {
          "index": 797,
          "prob": 0.38
         },
         {
          "index": 798,
          "prob": 0.42
         },
         {
          "index": 799,
          "prob": 0.51
         },
         {
          "index": 800,
          "prob": 0.61
         },
         {
          "index": 801,
          "prob": 0.6900000000000001
         },
         {
          "index": 802,
          "prob": 0.79
         },
         {
          "index": 803,
          "prob": 0.62
         },
         {
          "index": 804,
          "prob": 0.6
         },
         {
          "index": 805,
          "prob": 0.81
         },
         {
          "index": 806,
          "prob": 0.8
         },
         {
          "index": 807,
          "prob": 0.72
         },
         {
          "index": 808,
          "prob": 0.55
         },
         {
          "index": 809,
          "prob": 0.61
         },
         {
          "index": 810,
          "prob": 0.59
         },
         {
          "index": 811,
          "prob": 0.85
         },
         {
          "index": 812,
          "prob": 0.67
         },
         {
          "index": 813,
          "prob": 0.72
         },
         {
          "index": 814,
          "prob": 0.5700000000000001
         },
         {
          "index": 815,
          "prob": 0.38
         },
         {
          "index": 816,
          "prob": 0.2
         },
         {
          "index": 817,
          "prob": 0.55
         },
         {
          "index": 818,
          "prob": 0.5700000000000001
         },
         {
          "index": 819,
          "prob": 0.62
         },
         {
          "index": 820,
          "prob": 0.53
         },
         {
          "index": 821,
          "prob": 0.67
         },
         {
          "index": 822,
          "prob": 0.79
         },
         {
          "index": 823,
          "prob": 0.92
         },
         {
          "index": 824,
          "prob": 0.51
         },
         {
          "index": 825,
          "prob": 0.38
         },
         {
          "index": 826,
          "prob": 0.78
         },
         {
          "index": 827,
          "prob": 0.48
         },
         {
          "index": 828,
          "prob": 0.6900000000000001
         },
         {
          "index": 829,
          "prob": 0.75
         },
         {
          "index": 830,
          "prob": 0.88
         },
         {
          "index": 831,
          "prob": 0.72
         },
         {
          "index": 832,
          "prob": 0.88
         },
         {
          "index": 833,
          "prob": 0.81
         },
         {
          "index": 834,
          "prob": 0.84
         },
         {
          "index": 835,
          "prob": 0.28
         },
         {
          "index": 836,
          "prob": 0.66
         },
         {
          "index": 837,
          "prob": 0.79
         },
         {
          "index": 838,
          "prob": 0.68
         },
         {
          "index": 839,
          "prob": 0.65
         },
         {
          "index": 840,
          "prob": 0.71
         },
         {
          "index": 841,
          "prob": 0.65
         },
         {
          "index": 842,
          "prob": 0.67
         },
         {
          "index": 843,
          "prob": 0.77
         },
         {
          "index": 844,
          "prob": 0.59
         },
         {
          "index": 845,
          "prob": 0.55
         },
         {
          "index": 846,
          "prob": 0.58
         },
         {
          "index": 847,
          "prob": 0.54
         },
         {
          "index": 848,
          "prob": 0.74
         },
         {
          "index": 849,
          "prob": 0.54
         },
         {
          "index": 850,
          "prob": 0.85
         },
         {
          "index": 851,
          "prob": 0.9
         },
         {
          "index": 852,
          "prob": 0.66
         },
         {
          "index": 853,
          "prob": 0.55
         },
         {
          "index": 854,
          "prob": 0.74
         },
         {
          "index": 855,
          "prob": 0.43
         },
         {
          "index": 856,
          "prob": 0.67
         },
         {
          "index": 857,
          "prob": 0.64
         },
         {
          "index": 858,
          "prob": 0.64
         },
         {
          "index": 859,
          "prob": 0.71
         },
         {
          "index": 860,
          "prob": 0.77
         },
         {
          "index": 861,
          "prob": 0.8
         },
         {
          "index": 862,
          "prob": 0.51
         },
         {
          "index": 863,
          "prob": 0.66
         },
         {
          "index": 864,
          "prob": 0.51
         },
         {
          "index": 865,
          "prob": 0.66
         },
         {
          "index": 866,
          "prob": 0.78
         },
         {
          "index": 867,
          "prob": 0.67
         },
         {
          "index": 868,
          "prob": 0.75
         },
         {
          "index": 869,
          "prob": 0.42
         },
         {
          "index": 870,
          "prob": 0.52
         },
         {
          "index": 871,
          "prob": 0.67
         },
         {
          "index": 872,
          "prob": 0.54
         },
         {
          "index": 873,
          "prob": 0.47000000000000003
         },
         {
          "index": 874,
          "prob": 0.65
         },
         {
          "index": 875,
          "prob": 0.79
         },
         {
          "index": 876,
          "prob": 0.54
         },
         {
          "index": 877,
          "prob": 0.52
         },
         {
          "index": 878,
          "prob": 0.81
         },
         {
          "index": 879,
          "prob": 0.84
         },
         {
          "index": 880,
          "prob": 0.73
         },
         {
          "index": 881,
          "prob": 0.64
         },
         {
          "index": 882,
          "prob": 0.85
         },
         {
          "index": 883,
          "prob": 0.41000000000000003
         },
         {
          "index": 884,
          "prob": 0.66
         },
         {
          "index": 885,
          "prob": 0.88
         },
         {
          "index": 886,
          "prob": 0.29
         },
         {
          "index": 887,
          "prob": 0.6
         },
         {
          "index": 888,
          "prob": 0.3
         },
         {
          "index": 889,
          "prob": 0.61
         },
         {
          "index": 890,
          "prob": 0.6900000000000001
         },
         {
          "index": 891,
          "prob": 0.52
         },
         {
          "index": 892,
          "prob": 0.62
         },
         {
          "index": 893,
          "prob": 0.55
         },
         {
          "index": 894,
          "prob": 0.63
         },
         {
          "index": 895,
          "prob": 0.73
         },
         {
          "index": 896,
          "prob": 0.64
         },
         {
          "index": 897,
          "prob": 0.71
         },
         {
          "index": 898,
          "prob": 0.71
         },
         {
          "index": 899,
          "prob": 0.68
         },
         {
          "index": 900,
          "prob": 0.74
         },
         {
          "index": 901,
          "prob": 0.75
         },
         {
          "index": 902,
          "prob": 0.76
         },
         {
          "index": 903,
          "prob": 0.58
         },
         {
          "index": 904,
          "prob": 0.7000000000000001
         },
         {
          "index": 905,
          "prob": 0.56
         },
         {
          "index": 906,
          "prob": 0.54
         },
         {
          "index": 907,
          "prob": 0.6900000000000001
         },
         {
          "index": 908,
          "prob": 0.88
         },
         {
          "index": 909,
          "prob": 0.9
         },
         {
          "index": 910,
          "prob": 0.61
         },
         {
          "index": 911,
          "prob": 0.8200000000000001
         },
         {
          "index": 912,
          "prob": 0.61
         },
         {
          "index": 913,
          "prob": 0.71
         },
         {
          "index": 914,
          "prob": 0.61
         },
         {
          "index": 915,
          "prob": 0.6900000000000001
         },
         {
          "index": 916,
          "prob": 0.45
         },
         {
          "index": 917,
          "prob": 0.63
         },
         {
          "index": 918,
          "prob": 0.55
         },
         {
          "index": 919,
          "prob": 0.65
         },
         {
          "index": 920,
          "prob": 0.92
         },
         {
          "index": 921,
          "prob": 0.64
         },
         {
          "index": 922,
          "prob": 0.6900000000000001
         },
         {
          "index": 923,
          "prob": 0.6
         },
         {
          "index": 924,
          "prob": 0.62
         },
         {
          "index": 925,
          "prob": 0.68
         },
         {
          "index": 926,
          "prob": 0.8
         },
         {
          "index": 927,
          "prob": 0.72
         },
         {
          "index": 928,
          "prob": 0.87
         },
         {
          "index": 929,
          "prob": 0.58
         },
         {
          "index": 930,
          "prob": 0.8
         },
         {
          "index": 931,
          "prob": 0.76
         },
         {
          "index": 932,
          "prob": 0.68
         },
         {
          "index": 933,
          "prob": 0.6900000000000001
         },
         {
          "index": 934,
          "prob": 0.91
         },
         {
          "index": 935,
          "prob": 0.6900000000000001
         },
         {
          "index": 936,
          "prob": 0.37
         },
         {
          "index": 937,
          "prob": 0.89
         },
         {
          "index": 938,
          "prob": 0.85
         },
         {
          "index": 939,
          "prob": 0.58
         },
         {
          "index": 940,
          "prob": 0.76
         },
         {
          "index": 941,
          "prob": 0.55
         },
         {
          "index": 942,
          "prob": 0.49
         },
         {
          "index": 943,
          "prob": 0.56
         },
         {
          "index": 944,
          "prob": 0.74
         },
         {
          "index": 945,
          "prob": 0.67
         },
         {
          "index": 946,
          "prob": 0.37
         },
         {
          "index": 947,
          "prob": 0.84
         },
         {
          "index": 948,
          "prob": 0.79
         },
         {
          "index": 949,
          "prob": 0.66
         },
         {
          "index": 950,
          "prob": 0.62
         },
         {
          "index": 951,
          "prob": 0.47000000000000003
         },
         {
          "index": 952,
          "prob": 0.53
         },
         {
          "index": 953,
          "prob": 0.8200000000000001
         },
         {
          "index": 954,
          "prob": 0.6900000000000001
         },
         {
          "index": 955,
          "prob": 0.65
         },
         {
          "index": 956,
          "prob": 0.59
         },
         {
          "index": 957,
          "prob": 0.61
         },
         {
          "index": 958,
          "prob": 0.44
         },
         {
          "index": 959,
          "prob": 0.64
         },
         {
          "index": 960,
          "prob": 0.81
         },
         {
          "index": 961,
          "prob": 0.7000000000000001
         },
         {
          "index": 962,
          "prob": 0.65
         },
         {
          "index": 963,
          "prob": 0.62
         },
         {
          "index": 964,
          "prob": 0.79
         },
         {
          "index": 965,
          "prob": 0.55
         },
         {
          "index": 966,
          "prob": 0.36
         },
         {
          "index": 967,
          "prob": 0.58
         },
         {
          "index": 968,
          "prob": 0.48
         },
         {
          "index": 969,
          "prob": 0.45
         },
         {
          "index": 970,
          "prob": 0.81
         },
         {
          "index": 971,
          "prob": 0.8300000000000001
         },
         {
          "index": 972,
          "prob": 0.71
         },
         {
          "index": 973,
          "prob": 0.72
         },
         {
          "index": 974,
          "prob": 0.85
         },
         {
          "index": 975,
          "prob": 0.74
         },
         {
          "index": 976,
          "prob": 0.86
         },
         {
          "index": 977,
          "prob": 0.45
         },
         {
          "index": 978,
          "prob": 0.47000000000000003
         },
         {
          "index": 979,
          "prob": 0.68
         },
         {
          "index": 980,
          "prob": 0.6
         },
         {
          "index": 981,
          "prob": 0.74
         },
         {
          "index": 982,
          "prob": 0.66
         },
         {
          "index": 983,
          "prob": 0.8
         },
         {
          "index": 984,
          "prob": 0.62
         },
         {
          "index": 985,
          "prob": 0.68
         },
         {
          "index": 986,
          "prob": 0.5700000000000001
         },
         {
          "index": 987,
          "prob": 0.86
         },
         {
          "index": 988,
          "prob": 0.6
         },
         {
          "index": 989,
          "prob": 0.6900000000000001
         },
         {
          "index": 990,
          "prob": 0.43
         },
         {
          "index": 991,
          "prob": 0.42
         },
         {
          "index": 992,
          "prob": 0.6
         },
         {
          "index": 993,
          "prob": 0.66
         },
         {
          "index": 994,
          "prob": 0.8
         },
         {
          "index": 995,
          "prob": 0.62
         },
         {
          "index": 996,
          "prob": 0.84
         },
         {
          "index": 997,
          "prob": 0.65
         },
         {
          "index": 998,
          "prob": 0.56
         },
         {
          "index": 999,
          "prob": 0.44
         },
         {
          "index": 1000,
          "prob": 0.54
         },
         {
          "index": 1001,
          "prob": 0.6900000000000001
         },
         {
          "index": 1002,
          "prob": 0.66
         },
         {
          "index": 1003,
          "prob": 0.45
         },
         {
          "index": 1004,
          "prob": 0.63
         },
         {
          "index": 1005,
          "prob": 0.65
         },
         {
          "index": 1006,
          "prob": 0.58
         },
         {
          "index": 1007,
          "prob": 0.76
         },
         {
          "index": 1008,
          "prob": 0.62
         },
         {
          "index": 1009,
          "prob": 0.65
         },
         {
          "index": 1010,
          "prob": 0.63
         },
         {
          "index": 1011,
          "prob": 0.59
         },
         {
          "index": 1012,
          "prob": 0.63
         },
         {
          "index": 1013,
          "prob": 0.72
         },
         {
          "index": 1014,
          "prob": 0.53
         },
         {
          "index": 1015,
          "prob": 0.58
         },
         {
          "index": 1016,
          "prob": 0.45
         },
         {
          "index": 1017,
          "prob": 0.24
         },
         {
          "index": 1018,
          "prob": 0.73
         },
         {
          "index": 1019,
          "prob": 0.24
         },
         {
          "index": 1020,
          "prob": 0.59
         },
         {
          "index": 1021,
          "prob": 0.39
         },
         {
          "index": 1022,
          "prob": 0.88
         },
         {
          "index": 1023,
          "prob": 0.48
         },
         {
          "index": 1024,
          "prob": 0.71
         },
         {
          "index": 1025,
          "prob": 0.75
         },
         {
          "index": 1026,
          "prob": 0.68
         },
         {
          "index": 1027,
          "prob": 0.38
         },
         {
          "index": 1028,
          "prob": 0.62
         },
         {
          "index": 1029,
          "prob": 0.71
         },
         {
          "index": 1030,
          "prob": 0.53
         },
         {
          "index": 1031,
          "prob": 0.79
         },
         {
          "index": 1032,
          "prob": 0.79
         },
         {
          "index": 1033,
          "prob": 0.62
         },
         {
          "index": 1034,
          "prob": 0.7000000000000001
         },
         {
          "index": 1035,
          "prob": 0.66
         },
         {
          "index": 1036,
          "prob": 0.5
         },
         {
          "index": 1037,
          "prob": 0.7000000000000001
         },
         {
          "index": 1038,
          "prob": 0.52
         },
         {
          "index": 1039,
          "prob": 0.62
         },
         {
          "index": 1040,
          "prob": 0.66
         },
         {
          "index": 1041,
          "prob": 0.59
         },
         {
          "index": 1042,
          "prob": 0.74
         },
         {
          "index": 1043,
          "prob": 0.62
         },
         {
          "index": 1044,
          "prob": 0.43
         },
         {
          "index": 1045,
          "prob": 0.61
         },
         {
          "index": 1046,
          "prob": 0.38
         },
         {
          "index": 1047,
          "prob": 0.56
         },
         {
          "index": 1048,
          "prob": 0.46
         },
         {
          "index": 1049,
          "prob": 0.8200000000000001
         },
         {
          "index": 1050,
          "prob": 0.64
         },
         {
          "index": 1051,
          "prob": 0.5700000000000001
         },
         {
          "index": 1052,
          "prob": 0.79
         },
         {
          "index": 1053,
          "prob": 0.65
         },
         {
          "index": 1054,
          "prob": 0.47000000000000003
         },
         {
          "index": 1055,
          "prob": 0.68
         },
         {
          "index": 1056,
          "prob": 0.55
         },
         {
          "index": 1057,
          "prob": 0.8
         },
         {
          "index": 1058,
          "prob": 0.46
         },
         {
          "index": 1059,
          "prob": 0.67
         },
         {
          "index": 1060,
          "prob": 0.75
         },
         {
          "index": 1061,
          "prob": 0.8200000000000001
         },
         {
          "index": 1062,
          "prob": 0.58
         },
         {
          "index": 1063,
          "prob": 0.62
         },
         {
          "index": 1064,
          "prob": 0.54
         },
         {
          "index": 1065,
          "prob": 0.91
         },
         {
          "index": 1066,
          "prob": 0.7000000000000001
         },
         {
          "index": 1067,
          "prob": 0.65
         },
         {
          "index": 1068,
          "prob": 0.65
         },
         {
          "index": 1069,
          "prob": 0.71
         },
         {
          "index": 1070,
          "prob": 0.56
         },
         {
          "index": 1071,
          "prob": 0.71
         },
         {
          "index": 1072,
          "prob": 0.73
         },
         {
          "index": 1073,
          "prob": 0.75
         },
         {
          "index": 1074,
          "prob": 0.59
         },
         {
          "index": 1075,
          "prob": 0.52
         },
         {
          "index": 1076,
          "prob": 0.54
         },
         {
          "index": 1077,
          "prob": 0.66
         },
         {
          "index": 1078,
          "prob": 0.8
         },
         {
          "index": 1079,
          "prob": 0.76
         },
         {
          "index": 1080,
          "prob": 0.5700000000000001
         },
         {
          "index": 1081,
          "prob": 0.53
         },
         {
          "index": 1082,
          "prob": 0.91
         },
         {
          "index": 1083,
          "prob": 0.48
         },
         {
          "index": 1084,
          "prob": 0.46
         },
         {
          "index": 1085,
          "prob": 0.58
         },
         {
          "index": 1086,
          "prob": 0.71
         },
         {
          "index": 1087,
          "prob": 0.36
         },
         {
          "index": 1088,
          "prob": 0.46
         },
         {
          "index": 1089,
          "prob": 0.65
         },
         {
          "index": 1090,
          "prob": 0.59
         },
         {
          "index": 1091,
          "prob": 0.6900000000000001
         },
         {
          "index": 1092,
          "prob": 0.77
         },
         {
          "index": 1093,
          "prob": 0.34
         },
         {
          "index": 1094,
          "prob": 0.72
         },
         {
          "index": 1095,
          "prob": 0.76
         },
         {
          "index": 1096,
          "prob": 0.52
         },
         {
          "index": 1097,
          "prob": 0.47000000000000003
         },
         {
          "index": 1098,
          "prob": 0.65
         },
         {
          "index": 1099,
          "prob": 0.62
         },
         {
          "index": 1100,
          "prob": 0.68
         },
         {
          "index": 1101,
          "prob": 0.76
         },
         {
          "index": 1102,
          "prob": 0.6
         },
         {
          "index": 1103,
          "prob": 0.68
         },
         {
          "index": 1104,
          "prob": 0.75
         },
         {
          "index": 1105,
          "prob": 0.8300000000000001
         },
         {
          "index": 1106,
          "prob": 0.47000000000000003
         },
         {
          "index": 1107,
          "prob": 0.5700000000000001
         },
         {
          "index": 1108,
          "prob": 0.87
         },
         {
          "index": 1109,
          "prob": 0.8300000000000001
         },
         {
          "index": 1110,
          "prob": 0.87
         },
         {
          "index": 1111,
          "prob": 0.8300000000000001
         },
         {
          "index": 1112,
          "prob": 0.64
         },
         {
          "index": 1113,
          "prob": 0.64
         },
         {
          "index": 1114,
          "prob": 0.84
         },
         {
          "index": 1115,
          "prob": 0.81
         },
         {
          "index": 1116,
          "prob": 0.79
         },
         {
          "index": 1117,
          "prob": 0.56
         },
         {
          "index": 1118,
          "prob": 0.46
         },
         {
          "index": 1119,
          "prob": 0.51
         },
         {
          "index": 1120,
          "prob": 0.76
         },
         {
          "index": 1121,
          "prob": 0.68
         },
         {
          "index": 1122,
          "prob": 0.55
         },
         {
          "index": 1123,
          "prob": 0.63
         },
         {
          "index": 1124,
          "prob": 0.54
         },
         {
          "index": 1125,
          "prob": 0.87
         },
         {
          "index": 1126,
          "prob": 0.63
         },
         {
          "index": 1127,
          "prob": 0.27
         },
         {
          "index": 1128,
          "prob": 0.6
         },
         {
          "index": 1129,
          "prob": 0.55
         },
         {
          "index": 1130,
          "prob": 0.52
         },
         {
          "index": 1131,
          "prob": 0.63
         },
         {
          "index": 1132,
          "prob": 0.6
         },
         {
          "index": 1133,
          "prob": 0.63
         },
         {
          "index": 1134,
          "prob": 0.87
         },
         {
          "index": 1135,
          "prob": 0.75
         },
         {
          "index": 1136,
          "prob": 0.6900000000000001
         },
         {
          "index": 1137,
          "prob": 0.49
         },
         {
          "index": 1138,
          "prob": 0.64
         },
         {
          "index": 1139,
          "prob": 0.33
         },
         {
          "index": 1140,
          "prob": 0.71
         },
         {
          "index": 1141,
          "prob": 0.46
         },
         {
          "index": 1142,
          "prob": 0.43
         },
         {
          "index": 1143,
          "prob": 0.6900000000000001
         },
         {
          "index": 1144,
          "prob": 0.6
         },
         {
          "index": 1145,
          "prob": 0.66
         },
         {
          "index": 1146,
          "prob": 0.73
         },
         {
          "index": 1147,
          "prob": 0.45
         },
         {
          "index": 1148,
          "prob": 0.7000000000000001
         },
         {
          "index": 1149,
          "prob": 0.63
         },
         {
          "index": 1150,
          "prob": 0.74
         },
         {
          "index": 1151,
          "prob": 0.73
         },
         {
          "index": 1152,
          "prob": 0.48
         },
         {
          "index": 1153,
          "prob": 0.64
         },
         {
          "index": 1154,
          "prob": 0.68
         },
         {
          "index": 1155,
          "prob": 0.53
         },
         {
          "index": 1156,
          "prob": 0.58
         },
         {
          "index": 1157,
          "prob": 0.55
         },
         {
          "index": 1158,
          "prob": 0.6
         },
         {
          "index": 1159,
          "prob": 0.58
         },
         {
          "index": 1160,
          "prob": 0.68
         },
         {
          "index": 1161,
          "prob": 0.63
         },
         {
          "index": 1162,
          "prob": 0.52
         },
         {
          "index": 1163,
          "prob": 0.34
         },
         {
          "index": 1164,
          "prob": 0.64
         },
         {
          "index": 1165,
          "prob": 0.76
         },
         {
          "index": 1166,
          "prob": 0.66
         },
         {
          "index": 1167,
          "prob": 0.39
         },
         {
          "index": 1168,
          "prob": 0.53
         },
         {
          "index": 1169,
          "prob": 0.77
         },
         {
          "index": 1170,
          "prob": 0.59
         },
         {
          "index": 1171,
          "prob": 0.62
         },
         {
          "index": 1172,
          "prob": 0.51
         },
         {
          "index": 1173,
          "prob": 0.52
         },
         {
          "index": 1174,
          "prob": 0.6900000000000001
         },
         {
          "index": 1175,
          "prob": 0.89
         },
         {
          "index": 1176,
          "prob": 0.68
         },
         {
          "index": 1177,
          "prob": 0.47000000000000003
         },
         {
          "index": 1178,
          "prob": 0.5
         },
         {
          "index": 1179,
          "prob": 0.49
         },
         {
          "index": 1180,
          "prob": 0.64
         },
         {
          "index": 1181,
          "prob": 0.66
         },
         {
          "index": 1182,
          "prob": 0.49
         },
         {
          "index": 1183,
          "prob": 0.66
         },
         {
          "index": 1184,
          "prob": 0.51
         },
         {
          "index": 1185,
          "prob": 0.73
         },
         {
          "index": 1186,
          "prob": 0.52
         },
         {
          "index": 1187,
          "prob": 0.55
         },
         {
          "index": 1188,
          "prob": 0.46
         },
         {
          "index": 1189,
          "prob": 0.71
         },
         {
          "index": 1190,
          "prob": 0.72
         },
         {
          "index": 1191,
          "prob": 0.66
         },
         {
          "index": 1192,
          "prob": 0.78
         },
         {
          "index": 1193,
          "prob": 0.9
         },
         {
          "index": 1194,
          "prob": 0.79
         },
         {
          "index": 1195,
          "prob": 0.76
         },
         {
          "index": 1196,
          "prob": 0.59
         },
         {
          "index": 1197,
          "prob": 0.54
         },
         {
          "index": 1198,
          "prob": 0.44
         },
         {
          "index": 1199,
          "prob": 0.73
         },
         {
          "index": 1200,
          "prob": 0.87
         },
         {
          "index": 1201,
          "prob": 0.68
         },
         {
          "index": 1202,
          "prob": 0.68
         },
         {
          "index": 1203,
          "prob": 0.55
         },
         {
          "index": 1204,
          "prob": 0.64
         },
         {
          "index": 1205,
          "prob": 0.49
         },
         {
          "index": 1206,
          "prob": 0.62
         },
         {
          "index": 1207,
          "prob": 0.71
         },
         {
          "index": 1208,
          "prob": 0.85
         },
         {
          "index": 1209,
          "prob": 0.8300000000000001
         },
         {
          "index": 1210,
          "prob": 0.76
         },
         {
          "index": 1211,
          "prob": 0.8300000000000001
         },
         {
          "index": 1212,
          "prob": 0.76
         },
         {
          "index": 1213,
          "prob": 0.7000000000000001
         },
         {
          "index": 1214,
          "prob": 0.8
         },
         {
          "index": 1215,
          "prob": 0.35000000000000003
         },
         {
          "index": 1216,
          "prob": 0.5700000000000001
         },
         {
          "index": 1217,
          "prob": 0.72
         },
         {
          "index": 1218,
          "prob": 0.68
         },
         {
          "index": 1219,
          "prob": 0.85
         },
         {
          "index": 1220,
          "prob": 0.5700000000000001
         },
         {
          "index": 1221,
          "prob": 0.73
         },
         {
          "index": 1222,
          "prob": 0.38
         },
         {
          "index": 1223,
          "prob": 0.7000000000000001
         },
         {
          "index": 1224,
          "prob": 0.61
         },
         {
          "index": 1225,
          "prob": 0.5700000000000001
         },
         {
          "index": 1226,
          "prob": 0.68
         },
         {
          "index": 1227,
          "prob": 0.55
         },
         {
          "index": 1228,
          "prob": 0.78
         },
         {
          "index": 1229,
          "prob": 0.53
         },
         {
          "index": 1230,
          "prob": 0.53
         },
         {
          "index": 1231,
          "prob": 0.5700000000000001
         },
         {
          "index": 1232,
          "prob": 0.75
         },
         {
          "index": 1233,
          "prob": 0.48
         },
         {
          "index": 1234,
          "prob": 0.67
         },
         {
          "index": 1235,
          "prob": 0.5700000000000001
         },
         {
          "index": 1236,
          "prob": 0.34
         },
         {
          "index": 1237,
          "prob": 0.63
         },
         {
          "index": 1238,
          "prob": 0.55
         },
         {
          "index": 1239,
          "prob": 0.62
         },
         {
          "index": 1240,
          "prob": 0.89
         },
         {
          "index": 1241,
          "prob": 0.74
         },
         {
          "index": 1242,
          "prob": 0.67
         },
         {
          "index": 1243,
          "prob": 0.77
         },
         {
          "index": 1244,
          "prob": 0.39
         },
         {
          "index": 1245,
          "prob": 0.48
         },
         {
          "index": 1246,
          "prob": 0.64
         },
         {
          "index": 1247,
          "prob": 0.49
         },
         {
          "index": 1248,
          "prob": 0.47000000000000003
         },
         {
          "index": 1249,
          "prob": 0.81
         },
         {
          "index": 1250,
          "prob": 0.68
         },
         {
          "index": 1251,
          "prob": 0.6900000000000001
         },
         {
          "index": 1252,
          "prob": 0.6
         },
         {
          "index": 1253,
          "prob": 0.51
         },
         {
          "index": 1254,
          "prob": 0.51
         },
         {
          "index": 1255,
          "prob": 0.71
         },
         {
          "index": 1256,
          "prob": 0.7000000000000001
         },
         {
          "index": 1257,
          "prob": 0.66
         },
         {
          "index": 1258,
          "prob": 0.86
         },
         {
          "index": 1259,
          "prob": 0.79
         },
         {
          "index": 1260,
          "prob": 0.78
         },
         {
          "index": 1261,
          "prob": 0.74
         },
         {
          "index": 1262,
          "prob": 0.56
         },
         {
          "index": 1263,
          "prob": 0.51
         },
         {
          "index": 1264,
          "prob": 0.5700000000000001
         },
         {
          "index": 1265,
          "prob": 0.5700000000000001
         },
         {
          "index": 1266,
          "prob": 0.59
         },
         {
          "index": 1267,
          "prob": 0.79
         },
         {
          "index": 1268,
          "prob": 0.72
         },
         {
          "index": 1269,
          "prob": 0.52
         },
         {
          "index": 1270,
          "prob": 0.6
         },
         {
          "index": 1271,
          "prob": 0.5700000000000001
         },
         {
          "index": 1272,
          "prob": 0.55
         },
         {
          "index": 1273,
          "prob": 0.85
         },
         {
          "index": 1274,
          "prob": 0.53
         },
         {
          "index": 1275,
          "prob": 0.36
         },
         {
          "index": 1276,
          "prob": 0.42
         },
         {
          "index": 1277,
          "prob": 0.66
         },
         {
          "index": 1278,
          "prob": 0.53
         },
         {
          "index": 1279,
          "prob": 0.48
         },
         {
          "index": 1280,
          "prob": 0.75
         },
         {
          "index": 1281,
          "prob": 0.6900000000000001
         },
         {
          "index": 1282,
          "prob": 0.4
         },
         {
          "index": 1283,
          "prob": 0.65
         },
         {
          "index": 1284,
          "prob": 0.46
         },
         {
          "index": 1285,
          "prob": 0.49
         },
         {
          "index": 1286,
          "prob": 0.67
         },
         {
          "index": 1287,
          "prob": 0.67
         },
         {
          "index": 1288,
          "prob": 0.39
         },
         {
          "index": 1289,
          "prob": 0.79
         },
         {
          "index": 1290,
          "prob": 0.68
         },
         {
          "index": 1291,
          "prob": 0.66
         },
         {
          "index": 1292,
          "prob": 0.7000000000000001
         },
         {
          "index": 1293,
          "prob": 0.55
         },
         {
          "index": 1294,
          "prob": 0.7000000000000001
         },
         {
          "index": 1295,
          "prob": 0.44
         },
         {
          "index": 1296,
          "prob": 0.62
         },
         {
          "index": 1297,
          "prob": 0.9400000000000001
         },
         {
          "index": 1298,
          "prob": 0.61
         },
         {
          "index": 1299,
          "prob": 0.52
         },
         {
          "index": 1300,
          "prob": 0.65
         },
         {
          "index": 1301,
          "prob": 0.54
         },
         {
          "index": 1302,
          "prob": 0.72
         },
         {
          "index": 1303,
          "prob": 0.9
         },
         {
          "index": 1304,
          "prob": 0.75
         },
         {
          "index": 1305,
          "prob": 0.52
         },
         {
          "index": 1306,
          "prob": 0.71
         },
         {
          "index": 1307,
          "prob": 0.4
         },
         {
          "index": 1308,
          "prob": 0.68
         },
         {
          "index": 1309,
          "prob": 0.74
         },
         {
          "index": 1310,
          "prob": 0.74
         },
         {
          "index": 1311,
          "prob": 0.84
         },
         {
          "index": 1312,
          "prob": 0.89
         },
         {
          "index": 1313,
          "prob": 0.93
         },
         {
          "index": 1314,
          "prob": 0.62
         },
         {
          "index": 1315,
          "prob": 0.65
         },
         {
          "index": 1316,
          "prob": 0.7000000000000001
         },
         {
          "index": 1317,
          "prob": 0.59
         },
         {
          "index": 1318,
          "prob": 0.72
         },
         {
          "index": 1319,
          "prob": 0.7000000000000001
         },
         {
          "index": 1320,
          "prob": 0.6900000000000001
         },
         {
          "index": 1321,
          "prob": 0.54
         },
         {
          "index": 1322,
          "prob": 0.81
         },
         {
          "index": 1323,
          "prob": 0.66
         },
         {
          "index": 1324,
          "prob": 0.5
         },
         {
          "index": 1325,
          "prob": 0.5700000000000001
         },
         {
          "index": 1326,
          "prob": 0.5
         },
         {
          "index": 1327,
          "prob": 0.7000000000000001
         },
         {
          "index": 1328,
          "prob": 0.47000000000000003
         },
         {
          "index": 1329,
          "prob": 0.44
         },
         {
          "index": 1330,
          "prob": 0.61
         },
         {
          "index": 1331,
          "prob": 0.62
         },
         {
          "index": 1332,
          "prob": 0.58
         },
         {
          "index": 1333,
          "prob": 0.67
         },
         {
          "index": 1334,
          "prob": 0.6
         },
         {
          "index": 1335,
          "prob": 0.43
         },
         {
          "index": 1336,
          "prob": 0.73
         },
         {
          "index": 1337,
          "prob": 0.52
         },
         {
          "index": 1338,
          "prob": 0.75
         },
         {
          "index": 1339,
          "prob": 0.81
         },
         {
          "index": 1340,
          "prob": 0.56
         },
         {
          "index": 1341,
          "prob": 0.59
         },
         {
          "index": 1342,
          "prob": 0.86
         },
         {
          "index": 1343,
          "prob": 0.7000000000000001
         },
         {
          "index": 1344,
          "prob": 0.6900000000000001
         },
         {
          "index": 1345,
          "prob": 0.87
         },
         {
          "index": 1346,
          "prob": 0.65
         },
         {
          "index": 1347,
          "prob": 0.47000000000000003
         },
         {
          "index": 1348,
          "prob": 0.44
         },
         {
          "index": 1349,
          "prob": 0.8
         },
         {
          "index": 1350,
          "prob": 0.46
         },
         {
          "index": 1351,
          "prob": 0.49
         },
         {
          "index": 1352,
          "prob": 0.72
         },
         {
          "index": 1353,
          "prob": 0.6900000000000001
         },
         {
          "index": 1354,
          "prob": 0.54
         },
         {
          "index": 1355,
          "prob": 0.68
         },
         {
          "index": 1356,
          "prob": 0.59
         },
         {
          "index": 1357,
          "prob": 0.63
         },
         {
          "index": 1358,
          "prob": 0.64
         },
         {
          "index": 1359,
          "prob": 0.87
         },
         {
          "index": 1360,
          "prob": 0.72
         },
         {
          "index": 1361,
          "prob": 0.42
         },
         {
          "index": 1362,
          "prob": 0.5700000000000001
         },
         {
          "index": 1363,
          "prob": 0.76
         },
         {
          "index": 1364,
          "prob": 0.55
         },
         {
          "index": 1365,
          "prob": 0.41000000000000003
         },
         {
          "index": 1366,
          "prob": 0.71
         },
         {
          "index": 1367,
          "prob": 0.6
         },
         {
          "index": 1368,
          "prob": 0.78
         },
         {
          "index": 1369,
          "prob": 0.6
         },
         {
          "index": 1370,
          "prob": 0.49
         },
         {
          "index": 1371,
          "prob": 0.47000000000000003
         },
         {
          "index": 1372,
          "prob": 0.65
         },
         {
          "index": 1373,
          "prob": 0.52
         },
         {
          "index": 1374,
          "prob": 0.47000000000000003
         },
         {
          "index": 1375,
          "prob": 0.54
         },
         {
          "index": 1376,
          "prob": 0.39
         },
         {
          "index": 1377,
          "prob": 0.79
         },
         {
          "index": 1378,
          "prob": 0.6900000000000001
         },
         {
          "index": 1379,
          "prob": 0.8200000000000001
         },
         {
          "index": 1380,
          "prob": 0.84
         },
         {
          "index": 1381,
          "prob": 0.4
         },
         {
          "index": 1382,
          "prob": 0.23
         },
         {
          "index": 1383,
          "prob": 0.61
         },
         {
          "index": 1384,
          "prob": 0.58
         },
         {
          "index": 1385,
          "prob": 0.86
         },
         {
          "index": 1386,
          "prob": 0.79
         },
         {
          "index": 1387,
          "prob": 0.93
         },
         {
          "index": 1388,
          "prob": 0.5
         },
         {
          "index": 1389,
          "prob": 0.62
         },
         {
          "index": 1390,
          "prob": 0.72
         },
         {
          "index": 1391,
          "prob": 0.66
         },
         {
          "index": 1392,
          "prob": 0.78
         },
         {
          "index": 1393,
          "prob": 0.52
         },
         {
          "index": 1394,
          "prob": 0.5
         },
         {
          "index": 1395,
          "prob": 0.22
         },
         {
          "index": 1396,
          "prob": 0.65
         },
         {
          "index": 1397,
          "prob": 0.71
         },
         {
          "index": 1398,
          "prob": 0.55
         },
         {
          "index": 1399,
          "prob": 0.55
         },
         {
          "index": 1400,
          "prob": 0.71
         },
         {
          "index": 1401,
          "prob": 0.35000000000000003
         },
         {
          "index": 1402,
          "prob": 0.48
         },
         {
          "index": 1403,
          "prob": 0.79
         },
         {
          "index": 1404,
          "prob": 0.5700000000000001
         },
         {
          "index": 1405,
          "prob": 0.6900000000000001
         },
         {
          "index": 1406,
          "prob": 0.71
         },
         {
          "index": 1407,
          "prob": 0.63
         },
         {
          "index": 1408,
          "prob": 0.6900000000000001
         },
         {
          "index": 1409,
          "prob": 0.62
         },
         {
          "index": 1410,
          "prob": 0.64
         },
         {
          "index": 1411,
          "prob": 0.62
         },
         {
          "index": 1412,
          "prob": 0.5700000000000001
         },
         {
          "index": 1413,
          "prob": 0.84
         },
         {
          "index": 1414,
          "prob": 0.44
         },
         {
          "index": 1415,
          "prob": 0.48
         },
         {
          "index": 1416,
          "prob": 0.46
         },
         {
          "index": 1417,
          "prob": 0.74
         },
         {
          "index": 1418,
          "prob": 0.8300000000000001
         },
         {
          "index": 1419,
          "prob": 0.63
         },
         {
          "index": 1420,
          "prob": 0.51
         },
         {
          "index": 1421,
          "prob": 0.5700000000000001
         },
         {
          "index": 1422,
          "prob": 0.46
         },
         {
          "index": 1423,
          "prob": 0.58
         },
         {
          "index": 1424,
          "prob": 0.91
         },
         {
          "index": 1425,
          "prob": 0.75
         },
         {
          "index": 1426,
          "prob": 0.76
         },
         {
          "index": 1427,
          "prob": 0.41000000000000003
         },
         {
          "index": 1428,
          "prob": 0.34
         },
         {
          "index": 1429,
          "prob": 0.27
         },
         {
          "index": 1430,
          "prob": 0.8
         },
         {
          "index": 1431,
          "prob": 0.62
         },
         {
          "index": 1432,
          "prob": 0.77
         },
         {
          "index": 1433,
          "prob": 0.77
         },
         {
          "index": 1434,
          "prob": 0.6
         },
         {
          "index": 1435,
          "prob": 0.58
         },
         {
          "index": 1436,
          "prob": 0.66
         },
         {
          "index": 1437,
          "prob": 0.38
         },
         {
          "index": 1438,
          "prob": 0.63
         },
         {
          "index": 1439,
          "prob": 0.6900000000000001
         },
         {
          "index": 1440,
          "prob": 0.41000000000000003
         },
         {
          "index": 1441,
          "prob": 0.9
         },
         {
          "index": 1442,
          "prob": 0.35000000000000003
         },
         {
          "index": 1443,
          "prob": 0.43
         },
         {
          "index": 1444,
          "prob": 0.38
         },
         {
          "index": 1445,
          "prob": 0.58
         },
         {
          "index": 1446,
          "prob": 0.77
         },
         {
          "index": 1447,
          "prob": 0.89
         },
         {
          "index": 1448,
          "prob": 0.44
         },
         {
          "index": 1449,
          "prob": 0.87
         },
         {
          "index": 1450,
          "prob": 0.88
         },
         {
          "index": 1451,
          "prob": 0.85
         },
         {
          "index": 1452,
          "prob": 0.7000000000000001
         },
         {
          "index": 1453,
          "prob": 0.71
         },
         {
          "index": 1454,
          "prob": 0.68
         },
         {
          "index": 1455,
          "prob": 0.49
         },
         {
          "index": 1456,
          "prob": 0.46
         },
         {
          "index": 1457,
          "prob": 0.68
         },
         {
          "index": 1458,
          "prob": 0.64
         },
         {
          "index": 1459,
          "prob": 0.77
         },
         {
          "index": 1460,
          "prob": 0.56
         },
         {
          "index": 1461,
          "prob": 0.71
         },
         {
          "index": 1462,
          "prob": 0.44
         },
         {
          "index": 1463,
          "prob": 0.63
         },
         {
          "index": 1464,
          "prob": 0.45
         },
         {
          "index": 1465,
          "prob": 0.5700000000000001
         },
         {
          "index": 1466,
          "prob": 0.59
         },
         {
          "index": 1467,
          "prob": 0.56
         },
         {
          "index": 1468,
          "prob": 0.6
         },
         {
          "index": 1469,
          "prob": 0.77
         },
         {
          "index": 1470,
          "prob": 0.71
         },
         {
          "index": 1471,
          "prob": 0.8
         },
         {
          "index": 1472,
          "prob": 0.56
         },
         {
          "index": 1473,
          "prob": 0.75
         },
         {
          "index": 1474,
          "prob": 0.45
         },
         {
          "index": 1475,
          "prob": 0.85
         },
         {
          "index": 1476,
          "prob": 0.5700000000000001
         },
         {
          "index": 1477,
          "prob": 0.64
         },
         {
          "index": 1478,
          "prob": 0.41000000000000003
         },
         {
          "index": 1479,
          "prob": 0.48
         },
         {
          "index": 1480,
          "prob": 0.8200000000000001
         },
         {
          "index": 1481,
          "prob": 0.71
         },
         {
          "index": 1482,
          "prob": 0.5
         },
         {
          "index": 1483,
          "prob": 0.76
         },
         {
          "index": 1484,
          "prob": 0.79
         },
         {
          "index": 1485,
          "prob": 0.74
         },
         {
          "index": 1486,
          "prob": 0.8
         },
         {
          "index": 1487,
          "prob": 0.51
         },
         {
          "index": 1488,
          "prob": 0.54
         },
         {
          "index": 1489,
          "prob": 0.6900000000000001
         },
         {
          "index": 1490,
          "prob": 0.65
         },
         {
          "index": 1491,
          "prob": 0.73
         },
         {
          "index": 1492,
          "prob": 0.56
         },
         {
          "index": 1493,
          "prob": 0.55
         },
         {
          "index": 1494,
          "prob": 0.72
         },
         {
          "index": 1495,
          "prob": 0.64
         },
         {
          "index": 1496,
          "prob": 0.77
         },
         {
          "index": 1497,
          "prob": 0.41000000000000003
         },
         {
          "index": 1498,
          "prob": 0.64
         },
         {
          "index": 1499,
          "prob": 0.87
         },
         {
          "index": 1500,
          "prob": 0.72
         },
         {
          "index": 1501,
          "prob": 0.75
         },
         {
          "index": 1502,
          "prob": 0.76
         },
         {
          "index": 1503,
          "prob": 0.43
         },
         {
          "index": 1504,
          "prob": 0.51
         },
         {
          "index": 1505,
          "prob": 0.66
         },
         {
          "index": 1506,
          "prob": 0.7000000000000001
         },
         {
          "index": 1507,
          "prob": 0.7000000000000001
         },
         {
          "index": 1508,
          "prob": 0.52
         },
         {
          "index": 1509,
          "prob": 0.79
         },
         {
          "index": 1510,
          "prob": 0.51
         },
         {
          "index": 1511,
          "prob": 0.74
         },
         {
          "index": 1512,
          "prob": 0.89
         },
         {
          "index": 1513,
          "prob": 0.63
         },
         {
          "index": 1514,
          "prob": 0.84
         },
         {
          "index": 1515,
          "prob": 0.66
         },
         {
          "index": 1516,
          "prob": 0.52
         },
         {
          "index": 1517,
          "prob": 0.48
         },
         {
          "index": 1518,
          "prob": 0.51
         },
         {
          "index": 1519,
          "prob": 0.75
         },
         {
          "index": 1520,
          "prob": 0.36
         },
         {
          "index": 1521,
          "prob": 0.66
         },
         {
          "index": 1522,
          "prob": 0.52
         },
         {
          "index": 1523,
          "prob": 0.81
         },
         {
          "index": 1524,
          "prob": 0.54
         },
         {
          "index": 1525,
          "prob": 0.55
         },
         {
          "index": 1526,
          "prob": 0.56
         },
         {
          "index": 1527,
          "prob": 0.6900000000000001
         },
         {
          "index": 1528,
          "prob": 0.8
         },
         {
          "index": 1529,
          "prob": 0.53
         },
         {
          "index": 1530,
          "prob": 0.56
         },
         {
          "index": 1531,
          "prob": 0.77
         },
         {
          "index": 1532,
          "prob": 0.61
         },
         {
          "index": 1533,
          "prob": 0.61
         },
         {
          "index": 1534,
          "prob": 0.8300000000000001
         },
         {
          "index": 1535,
          "prob": 0.54
         },
         {
          "index": 1536,
          "prob": 0.67
         },
         {
          "index": 1537,
          "prob": 0.51
         },
         {
          "index": 1538,
          "prob": 0.8
         },
         {
          "index": 1539,
          "prob": 0.41000000000000003
         },
         {
          "index": 1540,
          "prob": 0.35000000000000003
         },
         {
          "index": 1541,
          "prob": 0.72
         },
         {
          "index": 1542,
          "prob": 0.86
         },
         {
          "index": 1543,
          "prob": 0.4
         },
         {
          "index": 1544,
          "prob": 0.42
         },
         {
          "index": 1545,
          "prob": 0.35000000000000003
         },
         {
          "index": 1546,
          "prob": 0.68
         },
         {
          "index": 1547,
          "prob": 0.74
         },
         {
          "index": 1548,
          "prob": 0.34
         },
         {
          "index": 1549,
          "prob": 0.53
         },
         {
          "index": 1550,
          "prob": 0.64
         },
         {
          "index": 1551,
          "prob": 0.5
         },
         {
          "index": 1552,
          "prob": 0.75
         },
         {
          "index": 1553,
          "prob": 0.76
         },
         {
          "index": 1554,
          "prob": 0.4
         },
         {
          "index": 1555,
          "prob": 0.74
         },
         {
          "index": 1556,
          "prob": 0.41000000000000003
         },
         {
          "index": 1557,
          "prob": 0.74
         },
         {
          "index": 1558,
          "prob": 0.8
         },
         {
          "index": 1559,
          "prob": 0.75
         },
         {
          "index": 1560,
          "prob": 0.76
         },
         {
          "index": 1561,
          "prob": 0.81
         },
         {
          "index": 1562,
          "prob": 0.56
         },
         {
          "index": 1563,
          "prob": 0.6900000000000001
         },
         {
          "index": 1564,
          "prob": 0.64
         },
         {
          "index": 1565,
          "prob": 0.63
         },
         {
          "index": 1566,
          "prob": 0.72
         },
         {
          "index": 1567,
          "prob": 0.75
         },
         {
          "index": 1568,
          "prob": 0.63
         },
         {
          "index": 1569,
          "prob": 0.58
         },
         {
          "index": 1570,
          "prob": 0.77
         },
         {
          "index": 1571,
          "prob": 0.96
         },
         {
          "index": 1572,
          "prob": 0.86
         },
         {
          "index": 1573,
          "prob": 0.47000000000000003
         },
         {
          "index": 1574,
          "prob": 0.72
         },
         {
          "index": 1575,
          "prob": 0.62
         },
         {
          "index": 1576,
          "prob": 0.65
         },
         {
          "index": 1577,
          "prob": 0.76
         },
         {
          "index": 1578,
          "prob": 0.27
         },
         {
          "index": 1579,
          "prob": 0.75
         },
         {
          "index": 1580,
          "prob": 0.76
         },
         {
          "index": 1581,
          "prob": 0.6900000000000001
         },
         {
          "index": 1582,
          "prob": 0.55
         },
         {
          "index": 1583,
          "prob": 0.61
         },
         {
          "index": 1584,
          "prob": 0.77
         },
         {
          "index": 1585,
          "prob": 0.53
         },
         {
          "index": 1586,
          "prob": 0.51
         },
         {
          "index": 1587,
          "prob": 0.81
         },
         {
          "index": 1588,
          "prob": 0.56
         },
         {
          "index": 1589,
          "prob": 0.4
         },
         {
          "index": 1590,
          "prob": 0.8300000000000001
         },
         {
          "index": 1591,
          "prob": 0.76
         },
         {
          "index": 1592,
          "prob": 0.43
         },
         {
          "index": 1593,
          "prob": 0.72
         },
         {
          "index": 1594,
          "prob": 0.97
         },
         {
          "index": 1595,
          "prob": 0.64
         },
         {
          "index": 1596,
          "prob": 0.45
         },
         {
          "index": 1597,
          "prob": 0.42
         },
         {
          "index": 1598,
          "prob": 0.86
         },
         {
          "index": 1599,
          "prob": 0.61
         },
         {
          "index": 1600,
          "prob": 0.54
         },
         {
          "index": 1601,
          "prob": 0.73
         },
         {
          "index": 1602,
          "prob": 0.48
         },
         {
          "index": 1603,
          "prob": 0.38
         },
         {
          "index": 1604,
          "prob": 0.44
         },
         {
          "index": 1605,
          "prob": 0.71
         },
         {
          "index": 1606,
          "prob": 0.61
         },
         {
          "index": 1607,
          "prob": 0.59
         },
         {
          "index": 1608,
          "prob": 0.8200000000000001
         },
         {
          "index": 1609,
          "prob": 0.61
         },
         {
          "index": 1610,
          "prob": 0.44
         },
         {
          "index": 1611,
          "prob": 0.6
         },
         {
          "index": 1612,
          "prob": 0.43
         },
         {
          "index": 1613,
          "prob": 0.8300000000000001
         },
         {
          "index": 1614,
          "prob": 0.58
         },
         {
          "index": 1615,
          "prob": 0.48
         },
         {
          "index": 1616,
          "prob": 0.65
         },
         {
          "index": 1617,
          "prob": 0.51
         },
         {
          "index": 1618,
          "prob": 0.67
         },
         {
          "index": 1619,
          "prob": 0.6900000000000001
         },
         {
          "index": 1620,
          "prob": 0.53
         },
         {
          "index": 1621,
          "prob": 0.43
         },
         {
          "index": 1622,
          "prob": 0.9
         },
         {
          "index": 1623,
          "prob": 0.56
         },
         {
          "index": 1624,
          "prob": 0.43
         },
         {
          "index": 1625,
          "prob": 0.61
         },
         {
          "index": 1626,
          "prob": 0.32
         },
         {
          "index": 1627,
          "prob": 0.48
         },
         {
          "index": 1628,
          "prob": 0.52
         },
         {
          "index": 1629,
          "prob": 0.66
         },
         {
          "index": 1630,
          "prob": 0.66
         },
         {
          "index": 1631,
          "prob": 0.78
         },
         {
          "index": 1632,
          "prob": 0.54
         },
         {
          "index": 1633,
          "prob": 0.56
         },
         {
          "index": 1634,
          "prob": 0.67
         },
         {
          "index": 1635,
          "prob": 0.89
         },
         {
          "index": 1636,
          "prob": 0.67
         },
         {
          "index": 1637,
          "prob": 0.73
         },
         {
          "index": 1638,
          "prob": 0.74
         },
         {
          "index": 1639,
          "prob": 0.76
         },
         {
          "index": 1640,
          "prob": 0.87
         },
         {
          "index": 1641,
          "prob": 0.67
         },
         {
          "index": 1642,
          "prob": 0.54
         },
         {
          "index": 1643,
          "prob": 0.74
         },
         {
          "index": 1644,
          "prob": 0.54
         },
         {
          "index": 1645,
          "prob": 0.66
         },
         {
          "index": 1646,
          "prob": 0.45
         },
         {
          "index": 1647,
          "prob": 0.75
         },
         {
          "index": 1648,
          "prob": 0.59
         },
         {
          "index": 1649,
          "prob": 0.64
         },
         {
          "index": 1650,
          "prob": 0.63
         },
         {
          "index": 1651,
          "prob": 0.63
         },
         {
          "index": 1652,
          "prob": 0.85
         },
         {
          "index": 1653,
          "prob": 0.81
         },
         {
          "index": 1654,
          "prob": 0.61
         },
         {
          "index": 1655,
          "prob": 0.67
         },
         {
          "index": 1656,
          "prob": 0.52
         },
         {
          "index": 1657,
          "prob": 0.61
         },
         {
          "index": 1658,
          "prob": 0.6900000000000001
         },
         {
          "index": 1659,
          "prob": 0.77
         },
         {
          "index": 1660,
          "prob": 0.76
         },
         {
          "index": 1661,
          "prob": 0.67
         },
         {
          "index": 1662,
          "prob": 0.84
         },
         {
          "index": 1663,
          "prob": 0.62
         },
         {
          "index": 1664,
          "prob": 0.67
         },
         {
          "index": 1665,
          "prob": 0.47000000000000003
         },
         {
          "index": 1666,
          "prob": 0.53
         },
         {
          "index": 1667,
          "prob": 0.6900000000000001
         },
         {
          "index": 1668,
          "prob": 0.41000000000000003
         },
         {
          "index": 1669,
          "prob": 0.79
         },
         {
          "index": 1670,
          "prob": 0.56
         },
         {
          "index": 1671,
          "prob": 0.54
         },
         {
          "index": 1672,
          "prob": 0.59
         },
         {
          "index": 1673,
          "prob": 0.63
         },
         {
          "index": 1674,
          "prob": 0.37
         },
         {
          "index": 1675,
          "prob": 0.8200000000000001
         },
         {
          "index": 1676,
          "prob": 0.49
         },
         {
          "index": 1677,
          "prob": 0.84
         },
         {
          "index": 1678,
          "prob": 0.8
         },
         {
          "index": 1679,
          "prob": 0.72
         },
         {
          "index": 1680,
          "prob": 0.56
         },
         {
          "index": 1681,
          "prob": 0.7000000000000001
         },
         {
          "index": 1682,
          "prob": 0.25
         },
         {
          "index": 1683,
          "prob": 0.72
         },
         {
          "index": 1684,
          "prob": 0.49
         },
         {
          "index": 1685,
          "prob": 0.5700000000000001
         },
         {
          "index": 1686,
          "prob": 0.62
         },
         {
          "index": 1687,
          "prob": 0.56
         },
         {
          "index": 1688,
          "prob": 0.54
         },
         {
          "index": 1689,
          "prob": 0.52
         },
         {
          "index": 1690,
          "prob": 0.77
         },
         {
          "index": 1691,
          "prob": 0.7000000000000001
         },
         {
          "index": 1692,
          "prob": 0.59
         },
         {
          "index": 1693,
          "prob": 0.74
         },
         {
          "index": 1694,
          "prob": 0.61
         },
         {
          "index": 1695,
          "prob": 0.62
         },
         {
          "index": 1696,
          "prob": 0.49
         },
         {
          "index": 1697,
          "prob": 0.71
         },
         {
          "index": 1698,
          "prob": 0.51
         },
         {
          "index": 1699,
          "prob": 0.58
         },
         {
          "index": 1700,
          "prob": 0.66
         },
         {
          "index": 1701,
          "prob": 0.8
         },
         {
          "index": 1702,
          "prob": 0.86
         },
         {
          "index": 1703,
          "prob": 0.84
         },
         {
          "index": 1704,
          "prob": 0.46
         },
         {
          "index": 1705,
          "prob": 0.55
         },
         {
          "index": 1706,
          "prob": 0.77
         },
         {
          "index": 1707,
          "prob": 0.46
         },
         {
          "index": 1708,
          "prob": 0.66
         },
         {
          "index": 1709,
          "prob": 0.8
         },
         {
          "index": 1710,
          "prob": 0.88
         },
         {
          "index": 1711,
          "prob": 0.71
         },
         {
          "index": 1712,
          "prob": 0.51
         },
         {
          "index": 1713,
          "prob": 0.5700000000000001
         },
         {
          "index": 1714,
          "prob": 0.54
         },
         {
          "index": 1715,
          "prob": 0.53
         },
         {
          "index": 1716,
          "prob": 0.64
         },
         {
          "index": 1717,
          "prob": 0.47000000000000003
         },
         {
          "index": 1718,
          "prob": 0.49
         },
         {
          "index": 1719,
          "prob": 0.46
         },
         {
          "index": 1720,
          "prob": 0.48
         },
         {
          "index": 1721,
          "prob": 0.87
         },
         {
          "index": 1722,
          "prob": 0.5700000000000001
         },
         {
          "index": 1723,
          "prob": 0.56
         },
         {
          "index": 1724,
          "prob": 0.35000000000000003
         },
         {
          "index": 1725,
          "prob": 0.68
         },
         {
          "index": 1726,
          "prob": 0.71
         },
         {
          "index": 1727,
          "prob": 0.76
         },
         {
          "index": 1728,
          "prob": 0.42
         },
         {
          "index": 1729,
          "prob": 0.78
         },
         {
          "index": 1730,
          "prob": 0.58
         },
         {
          "index": 1731,
          "prob": 0.67
         },
         {
          "index": 1732,
          "prob": 0.75
         },
         {
          "index": 1733,
          "prob": 0.6
         },
         {
          "index": 1734,
          "prob": 0.49
         },
         {
          "index": 1735,
          "prob": 0.71
         },
         {
          "index": 1736,
          "prob": 0.67
         },
         {
          "index": 1737,
          "prob": 0.72
         },
         {
          "index": 1738,
          "prob": 0.45
         },
         {
          "index": 1739,
          "prob": 0.43
         },
         {
          "index": 1740,
          "prob": 0.76
         },
         {
          "index": 1741,
          "prob": 0.73
         },
         {
          "index": 1742,
          "prob": 0.53
         },
         {
          "index": 1743,
          "prob": 0.8
         },
         {
          "index": 1744,
          "prob": 0.7000000000000001
         },
         {
          "index": 1745,
          "prob": 0.6
         },
         {
          "index": 1746,
          "prob": 0.37
         },
         {
          "index": 1747,
          "prob": 0.8300000000000001
         },
         {
          "index": 1748,
          "prob": 0.62
         },
         {
          "index": 1749,
          "prob": 0.48
         },
         {
          "index": 1750,
          "prob": 0.72
         },
         {
          "index": 1751,
          "prob": 0.5700000000000001
         },
         {
          "index": 1752,
          "prob": 0.63
         },
         {
          "index": 1753,
          "prob": 0.54
         },
         {
          "index": 1754,
          "prob": 0.46
         },
         {
          "index": 1755,
          "prob": 0.73
         },
         {
          "index": 1756,
          "prob": 0.6
         },
         {
          "index": 1757,
          "prob": 0.72
         },
         {
          "index": 1758,
          "prob": 0.79
         },
         {
          "index": 1759,
          "prob": 0.59
         },
         {
          "index": 1760,
          "prob": 0.5
         },
         {
          "index": 1761,
          "prob": 0.76
         },
         {
          "index": 1762,
          "prob": 0.75
         },
         {
          "index": 1763,
          "prob": 0.76
         },
         {
          "index": 1764,
          "prob": 0.67
         },
         {
          "index": 1765,
          "prob": 0.62
         },
         {
          "index": 1766,
          "prob": 0.64
         },
         {
          "index": 1767,
          "prob": 0.86
         },
         {
          "index": 1768,
          "prob": 0.47000000000000003
         },
         {
          "index": 1769,
          "prob": 0.81
         },
         {
          "index": 1770,
          "prob": 0.74
         },
         {
          "index": 1771,
          "prob": 0.58
         },
         {
          "index": 1772,
          "prob": 0.88
         },
         {
          "index": 1773,
          "prob": 0.7000000000000001
         },
         {
          "index": 1774,
          "prob": 0.92
         },
         {
          "index": 1775,
          "prob": 0.42
         },
         {
          "index": 1776,
          "prob": 0.8300000000000001
         },
         {
          "index": 1777,
          "prob": 0.62
         },
         {
          "index": 1778,
          "prob": 0.6
         },
         {
          "index": 1779,
          "prob": 0.68
         },
         {
          "index": 1780,
          "prob": 0.51
         },
         {
          "index": 1781,
          "prob": 0.39
         },
         {
          "index": 1782,
          "prob": 0.66
         },
         {
          "index": 1783,
          "prob": 0.37
         },
         {
          "index": 1784,
          "prob": 0.86
         },
         {
          "index": 1785,
          "prob": 0.73
         },
         {
          "index": 1786,
          "prob": 0.77
         },
         {
          "index": 1787,
          "prob": 0.88
         },
         {
          "index": 1788,
          "prob": 0.56
         },
         {
          "index": 1789,
          "prob": 0.52
         },
         {
          "index": 1790,
          "prob": 0.59
         },
         {
          "index": 1791,
          "prob": 0.75
         },
         {
          "index": 1792,
          "prob": 0.54
         },
         {
          "index": 1793,
          "prob": 0.62
         },
         {
          "index": 1794,
          "prob": 0.49
         },
         {
          "index": 1795,
          "prob": 0.67
         },
         {
          "index": 1796,
          "prob": 0.37
         },
         {
          "index": 1797,
          "prob": 0.91
         },
         {
          "index": 1798,
          "prob": 0.56
         },
         {
          "index": 1799,
          "prob": 0.42
         },
         {
          "index": 1800,
          "prob": 0.8200000000000001
         },
         {
          "index": 1801,
          "prob": 0.65
         },
         {
          "index": 1802,
          "prob": 0.55
         },
         {
          "index": 1803,
          "prob": 0.49
         },
         {
          "index": 1804,
          "prob": 0.62
         },
         {
          "index": 1805,
          "prob": 0.48
         },
         {
          "index": 1806,
          "prob": 0.6900000000000001
         },
         {
          "index": 1807,
          "prob": 0.87
         },
         {
          "index": 1808,
          "prob": 0.67
         },
         {
          "index": 1809,
          "prob": 0.73
         },
         {
          "index": 1810,
          "prob": 0.8
         },
         {
          "index": 1811,
          "prob": 0.7000000000000001
         },
         {
          "index": 1812,
          "prob": 0.72
         },
         {
          "index": 1813,
          "prob": 0.73
         },
         {
          "index": 1814,
          "prob": 0.68
         },
         {
          "index": 1815,
          "prob": 0.89
         },
         {
          "index": 1816,
          "prob": 0.72
         },
         {
          "index": 1817,
          "prob": 0.87
         },
         {
          "index": 1818,
          "prob": 0.52
         },
         {
          "index": 1819,
          "prob": 0.67
         },
         {
          "index": 1820,
          "prob": 0.38
         },
         {
          "index": 1821,
          "prob": 0.79
         },
         {
          "index": 1822,
          "prob": 0.49
         },
         {
          "index": 1823,
          "prob": 0.37
         },
         {
          "index": 1824,
          "prob": 0.64
         },
         {
          "index": 1825,
          "prob": 0.74
         },
         {
          "index": 1826,
          "prob": 0.81
         },
         {
          "index": 1827,
          "prob": 0.61
         },
         {
          "index": 1828,
          "prob": 0.45
         },
         {
          "index": 1829,
          "prob": 0.42
         },
         {
          "index": 1830,
          "prob": 0.61
         },
         {
          "index": 1831,
          "prob": 0.8200000000000001
         },
         {
          "index": 1832,
          "prob": 0.52
         },
         {
          "index": 1833,
          "prob": 0.5
         },
         {
          "index": 1834,
          "prob": 0.64
         },
         {
          "index": 1835,
          "prob": 0.91
         },
         {
          "index": 1836,
          "prob": 0.71
         },
         {
          "index": 1837,
          "prob": 0.65
         },
         {
          "index": 1838,
          "prob": 0.73
         },
         {
          "index": 1839,
          "prob": 0.56
         },
         {
          "index": 1840,
          "prob": 0.53
         },
         {
          "index": 1841,
          "prob": 0.72
         },
         {
          "index": 1842,
          "prob": 0.75
         },
         {
          "index": 1843,
          "prob": 0.6
         },
         {
          "index": 1844,
          "prob": 0.8200000000000001
         },
         {
          "index": 1845,
          "prob": 0.65
         },
         {
          "index": 1846,
          "prob": 0.41000000000000003
         },
         {
          "index": 1847,
          "prob": 0.5
         },
         {
          "index": 1848,
          "prob": 0.59
         },
         {
          "index": 1849,
          "prob": 0.5700000000000001
         },
         {
          "index": 1850,
          "prob": 0.43
         },
         {
          "index": 1851,
          "prob": 0.71
         },
         {
          "index": 1852,
          "prob": 0.78
         },
         {
          "index": 1853,
          "prob": 0.71
         },
         {
          "index": 1854,
          "prob": 0.87
         },
         {
          "index": 1855,
          "prob": 0.48
         },
         {
          "index": 1856,
          "prob": 0.56
         },
         {
          "index": 1857,
          "prob": 0.72
         },
         {
          "index": 1858,
          "prob": 0.87
         },
         {
          "index": 1859,
          "prob": 0.75
         },
         {
          "index": 1860,
          "prob": 0.79
         },
         {
          "index": 1861,
          "prob": 0.5
         },
         {
          "index": 1862,
          "prob": 0.51
         },
         {
          "index": 1863,
          "prob": 0.5700000000000001
         },
         {
          "index": 1864,
          "prob": 0.55
         },
         {
          "index": 1865,
          "prob": 0.63
         },
         {
          "index": 1866,
          "prob": 0.67
         },
         {
          "index": 1867,
          "prob": 0.66
         },
         {
          "index": 1868,
          "prob": 0.59
         },
         {
          "index": 1869,
          "prob": 0.91
         },
         {
          "index": 1870,
          "prob": 0.5700000000000001
         },
         {
          "index": 1871,
          "prob": 0.59
         },
         {
          "index": 1872,
          "prob": 0.49
         },
         {
          "index": 1873,
          "prob": 0.8
         },
         {
          "index": 1874,
          "prob": 0.59
         },
         {
          "index": 1875,
          "prob": 0.8
         },
         {
          "index": 1876,
          "prob": 0.53
         },
         {
          "index": 1877,
          "prob": 0.63
         },
         {
          "index": 1878,
          "prob": 0.63
         },
         {
          "index": 1879,
          "prob": 0.8
         },
         {
          "index": 1880,
          "prob": 0.41000000000000003
         },
         {
          "index": 1881,
          "prob": 0.55
         },
         {
          "index": 1882,
          "prob": 0.64
         },
         {
          "index": 1883,
          "prob": 0.59
         },
         {
          "index": 1884,
          "prob": 0.61
         },
         {
          "index": 1885,
          "prob": 0.75
         },
         {
          "index": 1886,
          "prob": 0.61
         },
         {
          "index": 1887,
          "prob": 0.85
         },
         {
          "index": 1888,
          "prob": 0.58
         },
         {
          "index": 1889,
          "prob": 0.56
         },
         {
          "index": 1890,
          "prob": 0.62
         },
         {
          "index": 1891,
          "prob": 0.54
         },
         {
          "index": 1892,
          "prob": 0.47000000000000003
         },
         {
          "index": 1893,
          "prob": 0.67
         },
         {
          "index": 1894,
          "prob": 0.5700000000000001
         },
         {
          "index": 1895,
          "prob": 0.5700000000000001
         },
         {
          "index": 1896,
          "prob": 0.24
         },
         {
          "index": 1897,
          "prob": 0.71
         },
         {
          "index": 1898,
          "prob": 0.39
         },
         {
          "index": 1899,
          "prob": 0.63
         },
         {
          "index": 1900,
          "prob": 0.51
         },
         {
          "index": 1901,
          "prob": 0.63
         },
         {
          "index": 1902,
          "prob": 0.53
         },
         {
          "index": 1903,
          "prob": 0.41000000000000003
         },
         {
          "index": 1904,
          "prob": 0.81
         },
         {
          "index": 1905,
          "prob": 0.76
         },
         {
          "index": 1906,
          "prob": 0.7000000000000001
         },
         {
          "index": 1907,
          "prob": 0.74
         },
         {
          "index": 1908,
          "prob": 0.58
         },
         {
          "index": 1909,
          "prob": 0.56
         },
         {
          "index": 1910,
          "prob": 0.49
         },
         {
          "index": 1911,
          "prob": 0.64
         },
         {
          "index": 1912,
          "prob": 0.56
         },
         {
          "index": 1913,
          "prob": 0.86
         },
         {
          "index": 1914,
          "prob": 0.64
         },
         {
          "index": 1915,
          "prob": 0.75
         },
         {
          "index": 1916,
          "prob": 0.76
         },
         {
          "index": 1917,
          "prob": 0.32
         },
         {
          "index": 1918,
          "prob": 0.68
         },
         {
          "index": 1919,
          "prob": 0.49
         },
         {
          "index": 1920,
          "prob": 0.5
         },
         {
          "index": 1921,
          "prob": 0.86
         },
         {
          "index": 1922,
          "prob": 0.63
         },
         {
          "index": 1923,
          "prob": 0.65
         },
         {
          "index": 1924,
          "prob": 0.81
         },
         {
          "index": 1925,
          "prob": 0.6
         },
         {
          "index": 1926,
          "prob": 0.77
         },
         {
          "index": 1927,
          "prob": 0.87
         },
         {
          "index": 1928,
          "prob": 0.6
         },
         {
          "index": 1929,
          "prob": 0.87
         },
         {
          "index": 1930,
          "prob": 0.47000000000000003
         },
         {
          "index": 1931,
          "prob": 0.76
         },
         {
          "index": 1932,
          "prob": 0.56
         },
         {
          "index": 1933,
          "prob": 0.77
         },
         {
          "index": 1934,
          "prob": 0.45
         },
         {
          "index": 1935,
          "prob": 0.75
         },
         {
          "index": 1936,
          "prob": 0.74
         },
         {
          "index": 1937,
          "prob": 0.68
         },
         {
          "index": 1938,
          "prob": 0.55
         },
         {
          "index": 1939,
          "prob": 0.64
         },
         {
          "index": 1940,
          "prob": 0.55
         },
         {
          "index": 1941,
          "prob": 0.65
         },
         {
          "index": 1942,
          "prob": 0.36
         },
         {
          "index": 1943,
          "prob": 0.64
         },
         {
          "index": 1944,
          "prob": 0.59
         },
         {
          "index": 1945,
          "prob": 0.42
         },
         {
          "index": 1946,
          "prob": 0.55
         },
         {
          "index": 1947,
          "prob": 0.75
         },
         {
          "index": 1948,
          "prob": 0.45
         },
         {
          "index": 1949,
          "prob": 0.55
         },
         {
          "index": 1950,
          "prob": 0.5700000000000001
         },
         {
          "index": 1951,
          "prob": 0.8
         },
         {
          "index": 1952,
          "prob": 0.66
         },
         {
          "index": 1953,
          "prob": 0.54
         },
         {
          "index": 1954,
          "prob": 0.8
         },
         {
          "index": 1955,
          "prob": 0.62
         },
         {
          "index": 1956,
          "prob": 0.31
         },
         {
          "index": 1957,
          "prob": 0.78
         },
         {
          "index": 1958,
          "prob": 0.59
         },
         {
          "index": 1959,
          "prob": 0.73
         },
         {
          "index": 1960,
          "prob": 0.27
         },
         {
          "index": 1961,
          "prob": 0.77
         },
         {
          "index": 1962,
          "prob": 0.49
         },
         {
          "index": 1963,
          "prob": 0.76
         },
         {
          "index": 1964,
          "prob": 0.51
         },
         {
          "index": 1965,
          "prob": 0.7000000000000001
         },
         {
          "index": 1966,
          "prob": 0.33
         },
         {
          "index": 1967,
          "prob": 0.5700000000000001
         },
         {
          "index": 1968,
          "prob": 0.68
         },
         {
          "index": 1969,
          "prob": 0.86
         },
         {
          "index": 1970,
          "prob": 0.5700000000000001
         },
         {
          "index": 1971,
          "prob": 0.73
         },
         {
          "index": 1972,
          "prob": 0.51
         },
         {
          "index": 1973,
          "prob": 0.68
         },
         {
          "index": 1974,
          "prob": 0.72
         },
         {
          "index": 1975,
          "prob": 0.81
         },
         {
          "index": 1976,
          "prob": 0.46
         },
         {
          "index": 1977,
          "prob": 0.58
         },
         {
          "index": 1978,
          "prob": 0.6
         },
         {
          "index": 1979,
          "prob": 0.54
         },
         {
          "index": 1980,
          "prob": 0.63
         },
         {
          "index": 1981,
          "prob": 0.63
         },
         {
          "index": 1982,
          "prob": 0.65
         },
         {
          "index": 1983,
          "prob": 0.54
         },
         {
          "index": 1984,
          "prob": 0.7000000000000001
         },
         {
          "index": 1985,
          "prob": 0.43
         },
         {
          "index": 1986,
          "prob": 0.4
         },
         {
          "index": 1987,
          "prob": 0.42
         },
         {
          "index": 1988,
          "prob": 0.7000000000000001
         },
         {
          "index": 1989,
          "prob": 0.55
         },
         {
          "index": 1990,
          "prob": 0.77
         },
         {
          "index": 1991,
          "prob": 0.63
         },
         {
          "index": 1992,
          "prob": 0.51
         },
         {
          "index": 1993,
          "prob": 0.56
         },
         {
          "index": 1994,
          "prob": 0.77
         },
         {
          "index": 1995,
          "prob": 0.47000000000000003
         },
         {
          "index": 1996,
          "prob": 0.8
         },
         {
          "index": 1997,
          "prob": 0.51
         },
         {
          "index": 1998,
          "prob": 0.19
         },
         {
          "index": 1999,
          "prob": 0.62
         },
         {
          "index": 2000,
          "prob": 0.56
         },
         {
          "index": 2001,
          "prob": 0.85
         },
         {
          "index": 2002,
          "prob": 0.47000000000000003
         },
         {
          "index": 2003,
          "prob": 0.73
         },
         {
          "index": 2004,
          "prob": 0.8
         },
         {
          "index": 2005,
          "prob": 0.92
         },
         {
          "index": 2006,
          "prob": 0.66
         },
         {
          "index": 2007,
          "prob": 0.42
         },
         {
          "index": 2008,
          "prob": 0.5
         },
         {
          "index": 2009,
          "prob": 0.47000000000000003
         },
         {
          "index": 2010,
          "prob": 0.87
         },
         {
          "index": 2011,
          "prob": 0.6
         },
         {
          "index": 2012,
          "prob": 0.54
         },
         {
          "index": 2013,
          "prob": 0.25
         },
         {
          "index": 2014,
          "prob": 0.73
         },
         {
          "index": 2015,
          "prob": 0.76
         },
         {
          "index": 2016,
          "prob": 0.81
         },
         {
          "index": 2017,
          "prob": 0.39
         },
         {
          "index": 2018,
          "prob": 0.73
         },
         {
          "index": 2019,
          "prob": 0.4
         },
         {
          "index": 2020,
          "prob": 0.66
         },
         {
          "index": 2021,
          "prob": 0.43
         },
         {
          "index": 2022,
          "prob": 0.65
         },
         {
          "index": 2023,
          "prob": 0.49
         },
         {
          "index": 2024,
          "prob": 0.47000000000000003
         },
         {
          "index": 2025,
          "prob": 0.72
         },
         {
          "index": 2026,
          "prob": 0.7000000000000001
         },
         {
          "index": 2027,
          "prob": 0.77
         },
         {
          "index": 2028,
          "prob": 0.68
         },
         {
          "index": 2029,
          "prob": 0.66
         },
         {
          "index": 2030,
          "prob": 0.8
         },
         {
          "index": 2031,
          "prob": 0.8300000000000001
         },
         {
          "index": 2032,
          "prob": 0.58
         },
         {
          "index": 2033,
          "prob": 0.62
         },
         {
          "index": 2034,
          "prob": 0.34
         },
         {
          "index": 2035,
          "prob": 0.8
         },
         {
          "index": 2036,
          "prob": 0.55
         },
         {
          "index": 2037,
          "prob": 0.84
         },
         {
          "index": 2038,
          "prob": 0.68
         },
         {
          "index": 2039,
          "prob": 0.86
         },
         {
          "index": 2040,
          "prob": 0.85
         },
         {
          "index": 2041,
          "prob": 0.42
         },
         {
          "index": 2042,
          "prob": 0.43
         },
         {
          "index": 2043,
          "prob": 0.53
         },
         {
          "index": 2044,
          "prob": 0.77
         },
         {
          "index": 2045,
          "prob": 0.67
         },
         {
          "index": 2046,
          "prob": 0.61
         },
         {
          "index": 2047,
          "prob": 0.73
         },
         {
          "index": 2048,
          "prob": 0.78
         },
         {
          "index": 2049,
          "prob": 0.55
         },
         {
          "index": 2050,
          "prob": 0.65
         },
         {
          "index": 2051,
          "prob": 0.61
         },
         {
          "index": 2052,
          "prob": 0.8
         },
         {
          "index": 2053,
          "prob": 0.29
         },
         {
          "index": 2054,
          "prob": 0.55
         },
         {
          "index": 2055,
          "prob": 0.65
         },
         {
          "index": 2056,
          "prob": 0.86
         },
         {
          "index": 2057,
          "prob": 0.75
         },
         {
          "index": 2058,
          "prob": 0.68
         },
         {
          "index": 2059,
          "prob": 0.56
         },
         {
          "index": 2060,
          "prob": 0.81
         },
         {
          "index": 2061,
          "prob": 0.87
         },
         {
          "index": 2062,
          "prob": 0.59
         },
         {
          "index": 2063,
          "prob": 0.59
         },
         {
          "index": 2064,
          "prob": 0.64
         },
         {
          "index": 2065,
          "prob": 0.67
         },
         {
          "index": 2066,
          "prob": 0.71
         },
         {
          "index": 2067,
          "prob": 0.55
         },
         {
          "index": 2068,
          "prob": 0.6900000000000001
         },
         {
          "index": 2069,
          "prob": 0.31
         },
         {
          "index": 2070,
          "prob": 0.61
         },
         {
          "index": 2071,
          "prob": 0.64
         },
         {
          "index": 2072,
          "prob": 0.71
         },
         {
          "index": 2073,
          "prob": 0.56
         },
         {
          "index": 2074,
          "prob": 0.73
         },
         {
          "index": 2075,
          "prob": 0.71
         },
         {
          "index": 2076,
          "prob": 0.75
         },
         {
          "index": 2077,
          "prob": 0.74
         },
         {
          "index": 2078,
          "prob": 0.81
         },
         {
          "index": 2079,
          "prob": 0.8200000000000001
         },
         {
          "index": 2080,
          "prob": 0.78
         },
         {
          "index": 2081,
          "prob": 0.89
         },
         {
          "index": 2082,
          "prob": 0.51
         },
         {
          "index": 2083,
          "prob": 0.5
         },
         {
          "index": 2084,
          "prob": 0.68
         },
         {
          "index": 2085,
          "prob": 0.46
         },
         {
          "index": 2086,
          "prob": 0.75
         },
         {
          "index": 2087,
          "prob": 0.62
         },
         {
          "index": 2088,
          "prob": 0.6
         },
         {
          "index": 2089,
          "prob": 0.6900000000000001
         },
         {
          "index": 2090,
          "prob": 0.96
         },
         {
          "index": 2091,
          "prob": 0.8
         },
         {
          "index": 2092,
          "prob": 0.58
         },
         {
          "index": 2093,
          "prob": 0.71
         },
         {
          "index": 2094,
          "prob": 0.84
         },
         {
          "index": 2095,
          "prob": 0.84
         },
         {
          "index": 2096,
          "prob": 0.79
         },
         {
          "index": 2097,
          "prob": 0.39
         },
         {
          "index": 2098,
          "prob": 0.52
         },
         {
          "index": 2099,
          "prob": 0.76
         },
         {
          "index": 2100,
          "prob": 0.74
         },
         {
          "index": 2101,
          "prob": 0.75
         },
         {
          "index": 2102,
          "prob": 0.7000000000000001
         },
         {
          "index": 2103,
          "prob": 0.5700000000000001
         },
         {
          "index": 2104,
          "prob": 0.7000000000000001
         },
         {
          "index": 2105,
          "prob": 0.8200000000000001
         },
         {
          "index": 2106,
          "prob": 0.38
         },
         {
          "index": 2107,
          "prob": 0.53
         },
         {
          "index": 2108,
          "prob": 0.63
         },
         {
          "index": 2109,
          "prob": 0.68
         },
         {
          "index": 2110,
          "prob": 0.84
         },
         {
          "index": 2111,
          "prob": 0.76
         },
         {
          "index": 2112,
          "prob": 0.72
         },
         {
          "index": 2113,
          "prob": 0.81
         },
         {
          "index": 2114,
          "prob": 0.65
         },
         {
          "index": 2115,
          "prob": 0.85
         },
         {
          "index": 2116,
          "prob": 0.65
         },
         {
          "index": 2117,
          "prob": 0.59
         },
         {
          "index": 2118,
          "prob": 0.42
         },
         {
          "index": 2119,
          "prob": 0.54
         },
         {
          "index": 2120,
          "prob": 0.78
         },
         {
          "index": 2121,
          "prob": 0.67
         },
         {
          "index": 2122,
          "prob": 0.71
         },
         {
          "index": 2123,
          "prob": 0.63
         },
         {
          "index": 2124,
          "prob": 0.49
         },
         {
          "index": 2125,
          "prob": 0.74
         },
         {
          "index": 2126,
          "prob": 0.65
         },
         {
          "index": 2127,
          "prob": 0.47000000000000003
         },
         {
          "index": 2128,
          "prob": 0.71
         },
         {
          "index": 2129,
          "prob": 0.92
         },
         {
          "index": 2130,
          "prob": 0.59
         },
         {
          "index": 2131,
          "prob": 0.78
         },
         {
          "index": 2132,
          "prob": 0.72
         },
         {
          "index": 2133,
          "prob": 0.62
         },
         {
          "index": 2134,
          "prob": 0.8300000000000001
         },
         {
          "index": 2135,
          "prob": 0.62
         },
         {
          "index": 2136,
          "prob": 0.67
         },
         {
          "index": 2137,
          "prob": 0.41000000000000003
         },
         {
          "index": 2138,
          "prob": 0.81
         },
         {
          "index": 2139,
          "prob": 0.93
         },
         {
          "index": 2140,
          "prob": 0.62
         },
         {
          "index": 2141,
          "prob": 0.73
         },
         {
          "index": 2142,
          "prob": 0.76
         },
         {
          "index": 2143,
          "prob": 0.49
         },
         {
          "index": 2144,
          "prob": 0.6900000000000001
         },
         {
          "index": 2145,
          "prob": 0.52
         },
         {
          "index": 2146,
          "prob": 0.68
         },
         {
          "index": 2147,
          "prob": 0.8300000000000001
         },
         {
          "index": 2148,
          "prob": 0.61
         },
         {
          "index": 2149,
          "prob": 0.73
         },
         {
          "index": 2150,
          "prob": 0.5700000000000001
         },
         {
          "index": 2151,
          "prob": 0.73
         },
         {
          "index": 2152,
          "prob": 0.54
         },
         {
          "index": 2153,
          "prob": 0.66
         },
         {
          "index": 2154,
          "prob": 0.55
         },
         {
          "index": 2155,
          "prob": 0.7000000000000001
         },
         {
          "index": 2156,
          "prob": 0.63
         },
         {
          "index": 2157,
          "prob": 0.53
         },
         {
          "index": 2158,
          "prob": 0.61
         },
         {
          "index": 2159,
          "prob": 0.7000000000000001
         },
         {
          "index": 2160,
          "prob": 0.5700000000000001
         },
         {
          "index": 2161,
          "prob": 0.73
         },
         {
          "index": 2162,
          "prob": 0.85
         },
         {
          "index": 2163,
          "prob": 0.5700000000000001
         },
         {
          "index": 2164,
          "prob": 0.58
         },
         {
          "index": 2165,
          "prob": 0.53
         },
         {
          "index": 2166,
          "prob": 0.62
         },
         {
          "index": 2167,
          "prob": 0.76
         },
         {
          "index": 2168,
          "prob": 0.53
         },
         {
          "index": 2169,
          "prob": 0.31
         },
         {
          "index": 2170,
          "prob": 0.66
         },
         {
          "index": 2171,
          "prob": 0.76
         },
         {
          "index": 2172,
          "prob": 0.77
         },
         {
          "index": 2173,
          "prob": 0.43
         },
         {
          "index": 2174,
          "prob": 0.32
         },
         {
          "index": 2175,
          "prob": 0.43
         },
         {
          "index": 2176,
          "prob": 0.59
         },
         {
          "index": 2177,
          "prob": 0.58
         },
         {
          "index": 2178,
          "prob": 0.46
         },
         {
          "index": 2179,
          "prob": 0.45
         },
         {
          "index": 2180,
          "prob": 0.5700000000000001
         },
         {
          "index": 2181,
          "prob": 0.32
         },
         {
          "index": 2182,
          "prob": 0.67
         },
         {
          "index": 2183,
          "prob": 0.6
         },
         {
          "index": 2184,
          "prob": 0.8300000000000001
         },
         {
          "index": 2185,
          "prob": 0.72
         },
         {
          "index": 2186,
          "prob": 0.8200000000000001
         },
         {
          "index": 2187,
          "prob": 0.68
         },
         {
          "index": 2188,
          "prob": 0.47000000000000003
         },
         {
          "index": 2189,
          "prob": 0.68
         },
         {
          "index": 2190,
          "prob": 0.46
         },
         {
          "index": 2191,
          "prob": 0.92
         },
         {
          "index": 2192,
          "prob": 0.47000000000000003
         },
         {
          "index": 2193,
          "prob": 0.5700000000000001
         },
         {
          "index": 2194,
          "prob": 0.76
         },
         {
          "index": 2195,
          "prob": 0.65
         },
         {
          "index": 2196,
          "prob": 0.87
         },
         {
          "index": 2197,
          "prob": 0.47000000000000003
         },
         {
          "index": 2198,
          "prob": 0.89
         },
         {
          "index": 2199,
          "prob": 0.72
         },
         {
          "index": 2200,
          "prob": 0.76
         },
         {
          "index": 2201,
          "prob": 0.79
         },
         {
          "index": 2202,
          "prob": 0.38
         },
         {
          "index": 2203,
          "prob": 0.66
         },
         {
          "index": 2204,
          "prob": 0.74
         },
         {
          "index": 2205,
          "prob": 0.71
         },
         {
          "index": 2206,
          "prob": 0.85
         },
         {
          "index": 2207,
          "prob": 0.71
         },
         {
          "index": 2208,
          "prob": 0.89
         },
         {
          "index": 2209,
          "prob": 0.54
         },
         {
          "index": 2210,
          "prob": 0.54
         },
         {
          "index": 2211,
          "prob": 0.72
         },
         {
          "index": 2212,
          "prob": 0.8
         },
         {
          "index": 2213,
          "prob": 0.7000000000000001
         },
         {
          "index": 2214,
          "prob": 0.59
         },
         {
          "index": 2215,
          "prob": 0.66
         },
         {
          "index": 2216,
          "prob": 0.76
         },
         {
          "index": 2217,
          "prob": 0.42
         },
         {
          "index": 2218,
          "prob": 0.6
         },
         {
          "index": 2219,
          "prob": 0.63
         },
         {
          "index": 2220,
          "prob": 0.7000000000000001
         },
         {
          "index": 2221,
          "prob": 0.65
         },
         {
          "index": 2222,
          "prob": 0.77
         },
         {
          "index": 2223,
          "prob": 0.73
         },
         {
          "index": 2224,
          "prob": 0.79
         },
         {
          "index": 2225,
          "prob": 0.81
         },
         {
          "index": 2226,
          "prob": 0.79
         },
         {
          "index": 2227,
          "prob": 0.78
         },
         {
          "index": 2228,
          "prob": 0.5700000000000001
         },
         {
          "index": 2229,
          "prob": 0.63
         },
         {
          "index": 2230,
          "prob": 0.62
         },
         {
          "index": 2231,
          "prob": 0.85
         },
         {
          "index": 2232,
          "prob": 0.56
         },
         {
          "index": 2233,
          "prob": 0.78
         },
         {
          "index": 2234,
          "prob": 0.5700000000000001
         },
         {
          "index": 2235,
          "prob": 0.67
         },
         {
          "index": 2236,
          "prob": 0.65
         },
         {
          "index": 2237,
          "prob": 0.9
         },
         {
          "index": 2238,
          "prob": 0.54
         },
         {
          "index": 2239,
          "prob": 0.8
         },
         {
          "index": 2240,
          "prob": 0.51
         },
         {
          "index": 2241,
          "prob": 0.63
         },
         {
          "index": 2242,
          "prob": 0.8
         },
         {
          "index": 2243,
          "prob": 0.8
         },
         {
          "index": 2244,
          "prob": 0.5700000000000001
         },
         {
          "index": 2245,
          "prob": 0.71
         },
         {
          "index": 2246,
          "prob": 0.58
         },
         {
          "index": 2247,
          "prob": 0.73
         },
         {
          "index": 2248,
          "prob": 0.52
         },
         {
          "index": 2249,
          "prob": 0.79
         },
         {
          "index": 2250,
          "prob": 0.81
         },
         {
          "index": 2251,
          "prob": 0.61
         },
         {
          "index": 2252,
          "prob": 0.37
         },
         {
          "index": 2253,
          "prob": 0.37
         },
         {
          "index": 2254,
          "prob": 0.63
         },
         {
          "index": 2255,
          "prob": 0.59
         },
         {
          "index": 2256,
          "prob": 0.78
         },
         {
          "index": 2257,
          "prob": 0.76
         },
         {
          "index": 2258,
          "prob": 0.7000000000000001
         },
         {
          "index": 2259,
          "prob": 0.5700000000000001
         },
         {
          "index": 2260,
          "prob": 0.41000000000000003
         },
         {
          "index": 2261,
          "prob": 0.42
         },
         {
          "index": 2262,
          "prob": 0.6900000000000001
         },
         {
          "index": 2263,
          "prob": 0.74
         },
         {
          "index": 2264,
          "prob": 0.42
         },
         {
          "index": 2265,
          "prob": 0.56
         },
         {
          "index": 2266,
          "prob": 0.91
         },
         {
          "index": 2267,
          "prob": 0.43
         },
         {
          "index": 2268,
          "prob": 0.36
         },
         {
          "index": 2269,
          "prob": 0.58
         },
         {
          "index": 2270,
          "prob": 0.6900000000000001
         },
         {
          "index": 2271,
          "prob": 0.46
         },
         {
          "index": 2272,
          "prob": 0.89
         },
         {
          "index": 2273,
          "prob": 0.45
         },
         {
          "index": 2274,
          "prob": 0.5
         },
         {
          "index": 2275,
          "prob": 0.5700000000000001
         },
         {
          "index": 2276,
          "prob": 0.7000000000000001
         },
         {
          "index": 2277,
          "prob": 0.63
         },
         {
          "index": 2278,
          "prob": 0.68
         },
         {
          "index": 2279,
          "prob": 0.39
         },
         {
          "index": 2280,
          "prob": 0.78
         },
         {
          "index": 2281,
          "prob": 0.7000000000000001
         },
         {
          "index": 2282,
          "prob": 0.42
         },
         {
          "index": 2283,
          "prob": 0.72
         },
         {
          "index": 2284,
          "prob": 0.76
         },
         {
          "index": 2285,
          "prob": 0.53
         },
         {
          "index": 2286,
          "prob": 0.5700000000000001
         },
         {
          "index": 2287,
          "prob": 0.6
         },
         {
          "index": 2288,
          "prob": 0.77
         },
         {
          "index": 2289,
          "prob": 0.5
         },
         {
          "index": 2290,
          "prob": 0.61
         },
         {
          "index": 2291,
          "prob": 0.42
         },
         {
          "index": 2292,
          "prob": 0.31
         },
         {
          "index": 2293,
          "prob": 0.39
         },
         {
          "index": 2294,
          "prob": 0.71
         },
         {
          "index": 2295,
          "prob": 0.92
         },
         {
          "index": 2296,
          "prob": 0.5700000000000001
         },
         {
          "index": 2297,
          "prob": 0.29
         },
         {
          "index": 2298,
          "prob": 0.45
         },
         {
          "index": 2299,
          "prob": 0.65
         },
         {
          "index": 2300,
          "prob": 0.71
         },
         {
          "index": 2301,
          "prob": 0.53
         },
         {
          "index": 2302,
          "prob": 0.7000000000000001
         },
         {
          "index": 2303,
          "prob": 0.49
         },
         {
          "index": 2304,
          "prob": 0.73
         },
         {
          "index": 2305,
          "prob": 0.7000000000000001
         },
         {
          "index": 2306,
          "prob": 0.66
         },
         {
          "index": 2307,
          "prob": 0.32
         },
         {
          "index": 2308,
          "prob": 0.68
         },
         {
          "index": 2309,
          "prob": 0.52
         },
         {
          "index": 2310,
          "prob": 0.5
         },
         {
          "index": 2311,
          "prob": 0.25
         },
         {
          "index": 2312,
          "prob": 0.58
         },
         {
          "index": 2313,
          "prob": 0.78
         },
         {
          "index": 2314,
          "prob": 0.67
         },
         {
          "index": 2315,
          "prob": 0.71
         },
         {
          "index": 2316,
          "prob": 0.79
         },
         {
          "index": 2317,
          "prob": 0.61
         },
         {
          "index": 2318,
          "prob": 0.78
         },
         {
          "index": 2319,
          "prob": 0.56
         },
         {
          "index": 2320,
          "prob": 0.78
         },
         {
          "index": 2321,
          "prob": 0.41000000000000003
         },
         {
          "index": 2322,
          "prob": 0.55
         },
         {
          "index": 2323,
          "prob": 0.59
         },
         {
          "index": 2324,
          "prob": 0.76
         },
         {
          "index": 2325,
          "prob": 0.74
         },
         {
          "index": 2326,
          "prob": 0.58
         },
         {
          "index": 2327,
          "prob": 0.68
         },
         {
          "index": 2328,
          "prob": 0.7000000000000001
         },
         {
          "index": 2329,
          "prob": 0.5
         },
         {
          "index": 2330,
          "prob": 0.56
         },
         {
          "index": 2331,
          "prob": 0.5700000000000001
         },
         {
          "index": 2332,
          "prob": 0.59
         },
         {
          "index": 2333,
          "prob": 0.76
         },
         {
          "index": 2334,
          "prob": 0.44
         },
         {
          "index": 2335,
          "prob": 0.89
         },
         {
          "index": 2336,
          "prob": 0.4
         },
         {
          "index": 2337,
          "prob": 0.39
         },
         {
          "index": 2338,
          "prob": 0.59
         },
         {
          "index": 2339,
          "prob": 0.59
         },
         {
          "index": 2340,
          "prob": 0.65
         },
         {
          "index": 2341,
          "prob": 0.62
         },
         {
          "index": 2342,
          "prob": 0.8
         },
         {
          "index": 2343,
          "prob": 0.55
         },
         {
          "index": 2344,
          "prob": 0.79
         },
         {
          "index": 2345,
          "prob": 0.86
         },
         {
          "index": 2346,
          "prob": 0.67
         },
         {
          "index": 2347,
          "prob": 0.78
         },
         {
          "index": 2348,
          "prob": 0.79
         },
         {
          "index": 2349,
          "prob": 0.81
         },
         {
          "index": 2350,
          "prob": 0.59
         },
         {
          "index": 2351,
          "prob": 0.55
         },
         {
          "index": 2352,
          "prob": 0.48
         },
         {
          "index": 2353,
          "prob": 0.5700000000000001
         },
         {
          "index": 2354,
          "prob": 0.87
         },
         {
          "index": 2355,
          "prob": 0.7000000000000001
         },
         {
          "index": 2356,
          "prob": 0.55
         },
         {
          "index": 2357,
          "prob": 0.73
         },
         {
          "index": 2358,
          "prob": 0.66
         },
         {
          "index": 2359,
          "prob": 0.81
         },
         {
          "index": 2360,
          "prob": 0.52
         },
         {
          "index": 2361,
          "prob": 0.68
         },
         {
          "index": 2362,
          "prob": 0.6900000000000001
         },
         {
          "index": 2363,
          "prob": 0.59
         },
         {
          "index": 2364,
          "prob": 0.62
         },
         {
          "index": 2365,
          "prob": 0.92
         },
         {
          "index": 2366,
          "prob": 0.84
         },
         {
          "index": 2367,
          "prob": 0.58
         },
         {
          "index": 2368,
          "prob": 0.9
         },
         {
          "index": 2369,
          "prob": 0.77
         },
         {
          "index": 2370,
          "prob": 0.44
         },
         {
          "index": 2371,
          "prob": 0.59
         },
         {
          "index": 2372,
          "prob": 0.5700000000000001
         },
         {
          "index": 2373,
          "prob": 0.45
         },
         {
          "index": 2374,
          "prob": 0.75
         },
         {
          "index": 2375,
          "prob": 0.59
         },
         {
          "index": 2376,
          "prob": 0.77
         },
         {
          "index": 2377,
          "prob": 0.71
         },
         {
          "index": 2378,
          "prob": 0.6900000000000001
         },
         {
          "index": 2379,
          "prob": 0.73
         },
         {
          "index": 2380,
          "prob": 0.51
         },
         {
          "index": 2381,
          "prob": 0.66
         },
         {
          "index": 2382,
          "prob": 0.7000000000000001
         },
         {
          "index": 2383,
          "prob": 0.4
         },
         {
          "index": 2384,
          "prob": 0.8300000000000001
         },
         {
          "index": 2385,
          "prob": 0.46
         },
         {
          "index": 2386,
          "prob": 0.58
         },
         {
          "index": 2387,
          "prob": 0.67
         },
         {
          "index": 2388,
          "prob": 0.65
         },
         {
          "index": 2389,
          "prob": 0.6900000000000001
         },
         {
          "index": 2390,
          "prob": 0.74
         },
         {
          "index": 2391,
          "prob": 0.58
         },
         {
          "index": 2392,
          "prob": 0.54
         },
         {
          "index": 2393,
          "prob": 0.62
         },
         {
          "index": 2394,
          "prob": 0.6900000000000001
         },
         {
          "index": 2395,
          "prob": 0.51
         },
         {
          "index": 2396,
          "prob": 0.68
         },
         {
          "index": 2397,
          "prob": 0.56
         },
         {
          "index": 2398,
          "prob": 0.66
         },
         {
          "index": 2399,
          "prob": 0.5700000000000001
         },
         {
          "index": 2400,
          "prob": 0.71
         },
         {
          "index": 2401,
          "prob": 0.59
         },
         {
          "index": 2402,
          "prob": 0.44
         },
         {
          "index": 2403,
          "prob": 0.59
         },
         {
          "index": 2404,
          "prob": 0.24
         },
         {
          "index": 2405,
          "prob": 0.42
         },
         {
          "index": 2406,
          "prob": 0.61
         },
         {
          "index": 2407,
          "prob": 0.74
         },
         {
          "index": 2408,
          "prob": 0.71
         },
         {
          "index": 2409,
          "prob": 0.79
         },
         {
          "index": 2410,
          "prob": 0.7000000000000001
         },
         {
          "index": 2411,
          "prob": 0.64
         },
         {
          "index": 2412,
          "prob": 0.44
         },
         {
          "index": 2413,
          "prob": 0.58
         },
         {
          "index": 2414,
          "prob": 0.81
         },
         {
          "index": 2415,
          "prob": 0.44
         },
         {
          "index": 2416,
          "prob": 0.58
         },
         {
          "index": 2417,
          "prob": 0.47000000000000003
         },
         {
          "index": 2418,
          "prob": 0.7000000000000001
         },
         {
          "index": 2419,
          "prob": 0.58
         },
         {
          "index": 2420,
          "prob": 0.71
         },
         {
          "index": 2421,
          "prob": 0.77
         },
         {
          "index": 2422,
          "prob": 0.63
         },
         {
          "index": 2423,
          "prob": 0.56
         },
         {
          "index": 2424,
          "prob": 0.62
         },
         {
          "index": 2425,
          "prob": 0.56
         },
         {
          "index": 2426,
          "prob": 0.66
         },
         {
          "index": 2427,
          "prob": 0.87
         },
         {
          "index": 2428,
          "prob": 0.34
         },
         {
          "index": 2429,
          "prob": 0.73
         },
         {
          "index": 2430,
          "prob": 0.8200000000000001
         },
         {
          "index": 2431,
          "prob": 0.73
         },
         {
          "index": 2432,
          "prob": 0.8300000000000001
         },
         {
          "index": 2433,
          "prob": 0.8300000000000001
         },
         {
          "index": 2434,
          "prob": 0.46
         },
         {
          "index": 2435,
          "prob": 0.56
         },
         {
          "index": 2436,
          "prob": 0.75
         },
         {
          "index": 2437,
          "prob": 0.54
         },
         {
          "index": 2438,
          "prob": 0.45
         },
         {
          "index": 2439,
          "prob": 0.65
         },
         {
          "index": 2440,
          "prob": 0.6900000000000001
         },
         {
          "index": 2441,
          "prob": 0.88
         },
         {
          "index": 2442,
          "prob": 0.63
         },
         {
          "index": 2443,
          "prob": 0.62
         },
         {
          "index": 2444,
          "prob": 0.59
         },
         {
          "index": 2445,
          "prob": 0.53
         },
         {
          "index": 2446,
          "prob": 0.67
         },
         {
          "index": 2447,
          "prob": 0.61
         },
         {
          "index": 2448,
          "prob": 0.87
         },
         {
          "index": 2449,
          "prob": 0.39
         },
         {
          "index": 2450,
          "prob": 0.36
         },
         {
          "index": 2451,
          "prob": 0.8200000000000001
         },
         {
          "index": 2452,
          "prob": 0.68
         },
         {
          "index": 2453,
          "prob": 0.88
         },
         {
          "index": 2454,
          "prob": 0.53
         },
         {
          "index": 2455,
          "prob": 0.55
         },
         {
          "index": 2456,
          "prob": 0.75
         },
         {
          "index": 2457,
          "prob": 0.37
         },
         {
          "index": 2458,
          "prob": 0.6900000000000001
         },
         {
          "index": 2459,
          "prob": 0.26
         },
         {
          "index": 2460,
          "prob": 0.77
         },
         {
          "index": 2461,
          "prob": 0.52
         },
         {
          "index": 2462,
          "prob": 0.72
         },
         {
          "index": 2463,
          "prob": 0.51
         },
         {
          "index": 2464,
          "prob": 0.76
         },
         {
          "index": 2465,
          "prob": 0.54
         },
         {
          "index": 2466,
          "prob": 0.67
         },
         {
          "index": 2467,
          "prob": 0.7000000000000001
         },
         {
          "index": 2468,
          "prob": 0.52
         },
         {
          "index": 2469,
          "prob": 0.5700000000000001
         },
         {
          "index": 2470,
          "prob": 0.53
         },
         {
          "index": 2471,
          "prob": 0.33
         },
         {
          "index": 2472,
          "prob": 0.56
         },
         {
          "index": 2473,
          "prob": 0.81
         },
         {
          "index": 2474,
          "prob": 0.8200000000000001
         },
         {
          "index": 2475,
          "prob": 0.77
         },
         {
          "index": 2476,
          "prob": 0.72
         },
         {
          "index": 2477,
          "prob": 0.56
         },
         {
          "index": 2478,
          "prob": 0.58
         },
         {
          "index": 2479,
          "prob": 0.48
         },
         {
          "index": 2480,
          "prob": 0.77
         },
         {
          "index": 2481,
          "prob": 0.52
         },
         {
          "index": 2482,
          "prob": 0.43
         },
         {
          "index": 2483,
          "prob": 0.55
         },
         {
          "index": 2484,
          "prob": 0.52
         },
         {
          "index": 2485,
          "prob": 0.51
         },
         {
          "index": 2486,
          "prob": 0.7000000000000001
         },
         {
          "index": 2487,
          "prob": 0.42
         },
         {
          "index": 2488,
          "prob": 0.63
         },
         {
          "index": 2489,
          "prob": 0.67
         },
         {
          "index": 2490,
          "prob": 0.63
         },
         {
          "index": 2491,
          "prob": 0.65
         },
         {
          "index": 2492,
          "prob": 0.56
         },
         {
          "index": 2493,
          "prob": 0.64
         },
         {
          "index": 2494,
          "prob": 0.51
         },
         {
          "index": 2495,
          "prob": 0.64
         },
         {
          "index": 2496,
          "prob": 0.79
         },
         {
          "index": 2497,
          "prob": 0.78
         },
         {
          "index": 2498,
          "prob": 0.87
         },
         {
          "index": 2499,
          "prob": 0.72
         },
         {
          "index": 2500,
          "prob": 0.66
         },
         {
          "index": 2501,
          "prob": 0.85
         },
         {
          "index": 2502,
          "prob": 0.71
         },
         {
          "index": 2503,
          "prob": 0.48
         },
         {
          "index": 2504,
          "prob": 0.85
         },
         {
          "index": 2505,
          "prob": 0.62
         },
         {
          "index": 2506,
          "prob": 0.55
         },
         {
          "index": 2507,
          "prob": 0.78
         },
         {
          "index": 2508,
          "prob": 0.78
         },
         {
          "index": 2509,
          "prob": 0.58
         },
         {
          "index": 2510,
          "prob": 0.84
         },
         {
          "index": 2511,
          "prob": 0.72
         },
         {
          "index": 2512,
          "prob": 0.6900000000000001
         },
         {
          "index": 2513,
          "prob": 0.66
         },
         {
          "index": 2514,
          "prob": 0.48
         },
         {
          "index": 2515,
          "prob": 0.71
         },
         {
          "index": 2516,
          "prob": 0.71
         },
         {
          "index": 2517,
          "prob": 0.58
         },
         {
          "index": 2518,
          "prob": 0.48
         },
         {
          "index": 2519,
          "prob": 0.74
         },
         {
          "index": 2520,
          "prob": 0.46
         },
         {
          "index": 2521,
          "prob": 0.3
         },
         {
          "index": 2522,
          "prob": 0.73
         },
         {
          "index": 2523,
          "prob": 0.77
         },
         {
          "index": 2524,
          "prob": 0.6
         },
         {
          "index": 2525,
          "prob": 0.56
         },
         {
          "index": 2526,
          "prob": 0.42
         },
         {
          "index": 2527,
          "prob": 0.81
         },
         {
          "index": 2528,
          "prob": 0.59
         },
         {
          "index": 2529,
          "prob": 0.67
         },
         {
          "index": 2530,
          "prob": 0.66
         },
         {
          "index": 2531,
          "prob": 0.68
         },
         {
          "index": 2532,
          "prob": 0.66
         },
         {
          "index": 2533,
          "prob": 0.65
         },
         {
          "index": 2534,
          "prob": 0.74
         },
         {
          "index": 2535,
          "prob": 0.47000000000000003
         },
         {
          "index": 2536,
          "prob": 0.6
         },
         {
          "index": 2537,
          "prob": 0.87
         },
         {
          "index": 2538,
          "prob": 0.43
         },
         {
          "index": 2539,
          "prob": 0.66
         },
         {
          "index": 2540,
          "prob": 0.46
         },
         {
          "index": 2541,
          "prob": 0.7000000000000001
         },
         {
          "index": 2542,
          "prob": 0.56
         },
         {
          "index": 2543,
          "prob": 0.62
         },
         {
          "index": 2544,
          "prob": 0.49
         },
         {
          "index": 2545,
          "prob": 0.85
         },
         {
          "index": 2546,
          "prob": 0.44
         },
         {
          "index": 2547,
          "prob": 0.6900000000000001
         },
         {
          "index": 2548,
          "prob": 0.75
         },
         {
          "index": 2549,
          "prob": 0.52
         },
         {
          "index": 2550,
          "prob": 0.63
         },
         {
          "index": 2551,
          "prob": 0.81
         },
         {
          "index": 2552,
          "prob": 0.63
         },
         {
          "index": 2553,
          "prob": 0.5700000000000001
         },
         {
          "index": 2554,
          "prob": 0.78
         },
         {
          "index": 2555,
          "prob": 0.43
         },
         {
          "index": 2556,
          "prob": 0.32
         },
         {
          "index": 2557,
          "prob": 0.77
         },
         {
          "index": 2558,
          "prob": 0.79
         },
         {
          "index": 2559,
          "prob": 0.75
         },
         {
          "index": 2560,
          "prob": 0.8
         },
         {
          "index": 2561,
          "prob": 0.9
         },
         {
          "index": 2562,
          "prob": 0.4
         },
         {
          "index": 2563,
          "prob": 0.49
         },
         {
          "index": 2564,
          "prob": 0.54
         },
         {
          "index": 2565,
          "prob": 0.56
         },
         {
          "index": 2566,
          "prob": 0.53
         },
         {
          "index": 2567,
          "prob": 0.68
         },
         {
          "index": 2568,
          "prob": 0.55
         },
         {
          "index": 2569,
          "prob": 0.8
         },
         {
          "index": 2570,
          "prob": 0.47000000000000003
         },
         {
          "index": 2571,
          "prob": 0.77
         },
         {
          "index": 2572,
          "prob": 0.51
         },
         {
          "index": 2573,
          "prob": 0.49
         },
         {
          "index": 2574,
          "prob": 0.74
         },
         {
          "index": 2575,
          "prob": 0.74
         },
         {
          "index": 2576,
          "prob": 0.6
         },
         {
          "index": 2577,
          "prob": 0.75
         },
         {
          "index": 2578,
          "prob": 0.75
         },
         {
          "index": 2579,
          "prob": 0.46
         },
         {
          "index": 2580,
          "prob": 0.71
         },
         {
          "index": 2581,
          "prob": 0.91
         },
         {
          "index": 2582,
          "prob": 0.48
         },
         {
          "index": 2583,
          "prob": 0.81
         },
         {
          "index": 2584,
          "prob": 0.71
         },
         {
          "index": 2585,
          "prob": 0.52
         },
         {
          "index": 2586,
          "prob": 0.73
         },
         {
          "index": 2587,
          "prob": 0.5
         },
         {
          "index": 2588,
          "prob": 0.54
         },
         {
          "index": 2589,
          "prob": 0.81
         },
         {
          "index": 2590,
          "prob": 0.61
         },
         {
          "index": 2591,
          "prob": 0.66
         },
         {
          "index": 2592,
          "prob": 0.66
         },
         {
          "index": 2593,
          "prob": 0.54
         },
         {
          "index": 2594,
          "prob": 0.54
         },
         {
          "index": 2595,
          "prob": 0.58
         },
         {
          "index": 2596,
          "prob": 0.8
         },
         {
          "index": 2597,
          "prob": 0.56
         },
         {
          "index": 2598,
          "prob": 0.88
         },
         {
          "index": 2599,
          "prob": 0.71
         },
         {
          "index": 2600,
          "prob": 0.63
         },
         {
          "index": 2601,
          "prob": 0.48
         },
         {
          "index": 2602,
          "prob": 0.53
         },
         {
          "index": 2603,
          "prob": 0.59
         },
         {
          "index": 2604,
          "prob": 0.8300000000000001
         },
         {
          "index": 2605,
          "prob": 0.55
         },
         {
          "index": 2606,
          "prob": 0.44
         },
         {
          "index": 2607,
          "prob": 0.32
         },
         {
          "index": 2608,
          "prob": 0.79
         },
         {
          "index": 2609,
          "prob": 0.71
         },
         {
          "index": 2610,
          "prob": 0.56
         },
         {
          "index": 2611,
          "prob": 0.81
         },
         {
          "index": 2612,
          "prob": 0.6
         },
         {
          "index": 2613,
          "prob": 0.66
         },
         {
          "index": 2614,
          "prob": 0.71
         },
         {
          "index": 2615,
          "prob": 0.68
         },
         {
          "index": 2616,
          "prob": 0.7000000000000001
         },
         {
          "index": 2617,
          "prob": 0.65
         },
         {
          "index": 2618,
          "prob": 0.43
         },
         {
          "index": 2619,
          "prob": 0.24
         },
         {
          "index": 2620,
          "prob": 0.72
         },
         {
          "index": 2621,
          "prob": 0.66
         },
         {
          "index": 2622,
          "prob": 0.66
         },
         {
          "index": 2623,
          "prob": 0.53
         },
         {
          "index": 2624,
          "prob": 0.7000000000000001
         },
         {
          "index": 2625,
          "prob": 0.7000000000000001
         },
         {
          "index": 2626,
          "prob": 0.26
         },
         {
          "index": 2627,
          "prob": 0.77
         },
         {
          "index": 2628,
          "prob": 0.87
         },
         {
          "index": 2629,
          "prob": 0.46
         },
         {
          "index": 2630,
          "prob": 0.64
         },
         {
          "index": 2631,
          "prob": 0.41000000000000003
         },
         {
          "index": 2632,
          "prob": 0.76
         },
         {
          "index": 2633,
          "prob": 0.76
         },
         {
          "index": 2634,
          "prob": 0.6900000000000001
         },
         {
          "index": 2635,
          "prob": 0.72
         },
         {
          "index": 2636,
          "prob": 0.64
         },
         {
          "index": 2637,
          "prob": 0.63
         },
         {
          "index": 2638,
          "prob": 0.34
         },
         {
          "index": 2639,
          "prob": 0.6900000000000001
         },
         {
          "index": 2640,
          "prob": 0.33
         },
         {
          "index": 2641,
          "prob": 0.67
         },
         {
          "index": 2642,
          "prob": 0.52
         },
         {
          "index": 2643,
          "prob": 0.34
         },
         {
          "index": 2644,
          "prob": 0.72
         },
         {
          "index": 2645,
          "prob": 0.5700000000000001
         },
         {
          "index": 2646,
          "prob": 0.78
         },
         {
          "index": 2647,
          "prob": 0.66
         },
         {
          "index": 2648,
          "prob": 0.62
         },
         {
          "index": 2649,
          "prob": 0.81
         },
         {
          "index": 2650,
          "prob": 0.46
         },
         {
          "index": 2651,
          "prob": 0.61
         },
         {
          "index": 2652,
          "prob": 0.5700000000000001
         },
         {
          "index": 2653,
          "prob": 0.56
         },
         {
          "index": 2654,
          "prob": 0.45
         },
         {
          "index": 2655,
          "prob": 0.52
         },
         {
          "index": 2656,
          "prob": 0.61
         },
         {
          "index": 2657,
          "prob": 0.77
         },
         {
          "index": 2658,
          "prob": 0.56
         },
         {
          "index": 2659,
          "prob": 0.3
         },
         {
          "index": 2660,
          "prob": 0.6
         },
         {
          "index": 2661,
          "prob": 0.63
         },
         {
          "index": 2662,
          "prob": 0.78
         },
         {
          "index": 2663,
          "prob": 0.5
         },
         {
          "index": 2664,
          "prob": 0.6900000000000001
         },
         {
          "index": 2665,
          "prob": 0.81
         },
         {
          "index": 2666,
          "prob": 0.36
         },
         {
          "index": 2667,
          "prob": 0.87
         },
         {
          "index": 2668,
          "prob": 0.56
         },
         {
          "index": 2669,
          "prob": 0.65
         },
         {
          "index": 2670,
          "prob": 0.62
         },
         {
          "index": 2671,
          "prob": 0.5700000000000001
         },
         {
          "index": 2672,
          "prob": 0.56
         },
         {
          "index": 2673,
          "prob": 0.46
         },
         {
          "index": 2674,
          "prob": 0.81
         },
         {
          "index": 2675,
          "prob": 0.89
         },
         {
          "index": 2676,
          "prob": 0.76
         },
         {
          "index": 2677,
          "prob": 0.5700000000000001
         },
         {
          "index": 2678,
          "prob": 0.52
         },
         {
          "index": 2679,
          "prob": 0.4
         },
         {
          "index": 2680,
          "prob": 0.68
         },
         {
          "index": 2681,
          "prob": 0.64
         },
         {
          "index": 2682,
          "prob": 0.66
         },
         {
          "index": 2683,
          "prob": 0.63
         },
         {
          "index": 2684,
          "prob": 0.58
         },
         {
          "index": 2685,
          "prob": 0.71
         },
         {
          "index": 2686,
          "prob": 0.54
         },
         {
          "index": 2687,
          "prob": 0.85
         },
         {
          "index": 2688,
          "prob": 0.5700000000000001
         },
         {
          "index": 2689,
          "prob": 0.35000000000000003
         },
         {
          "index": 2690,
          "prob": 0.92
         },
         {
          "index": 2691,
          "prob": 0.62
         },
         {
          "index": 2692,
          "prob": 0.76
         },
         {
          "index": 2693,
          "prob": 0.61
         },
         {
          "index": 2694,
          "prob": 0.62
         },
         {
          "index": 2695,
          "prob": 0.53
         },
         {
          "index": 2696,
          "prob": 0.61
         },
         {
          "index": 2697,
          "prob": 0.61
         },
         {
          "index": 2698,
          "prob": 0.88
         },
         {
          "index": 2699,
          "prob": 0.6900000000000001
         },
         {
          "index": 2700,
          "prob": 0.79
         },
         {
          "index": 2701,
          "prob": 0.51
         },
         {
          "index": 2702,
          "prob": 0.54
         },
         {
          "index": 2703,
          "prob": 0.52
         },
         {
          "index": 2704,
          "prob": 0.67
         },
         {
          "index": 2705,
          "prob": 0.75
         },
         {
          "index": 2706,
          "prob": 0.59
         },
         {
          "index": 2707,
          "prob": 0.59
         },
         {
          "index": 2708,
          "prob": 0.74
         },
         {
          "index": 2709,
          "prob": 0.68
         },
         {
          "index": 2710,
          "prob": 0.7000000000000001
         },
         {
          "index": 2711,
          "prob": 0.6
         },
         {
          "index": 2712,
          "prob": 0.52
         },
         {
          "index": 2713,
          "prob": 0.65
         },
         {
          "index": 2714,
          "prob": 0.78
         },
         {
          "index": 2715,
          "prob": 0.9500000000000001
         },
         {
          "index": 2716,
          "prob": 0.55
         },
         {
          "index": 2717,
          "prob": 0.77
         },
         {
          "index": 2718,
          "prob": 0.5700000000000001
         },
         {
          "index": 2719,
          "prob": 0.39
         },
         {
          "index": 2720,
          "prob": 0.5700000000000001
         },
         {
          "index": 2721,
          "prob": 0.4
         },
         {
          "index": 2722,
          "prob": 0.6
         },
         {
          "index": 2723,
          "prob": 0.62
         },
         {
          "index": 2724,
          "prob": 0.62
         },
         {
          "index": 2725,
          "prob": 0.85
         },
         {
          "index": 2726,
          "prob": 0.54
         },
         {
          "index": 2727,
          "prob": 0.54
         },
         {
          "index": 2728,
          "prob": 0.47000000000000003
         },
         {
          "index": 2729,
          "prob": 0.71
         },
         {
          "index": 2730,
          "prob": 0.6
         },
         {
          "index": 2731,
          "prob": 0.76
         },
         {
          "index": 2732,
          "prob": 0.73
         },
         {
          "index": 2733,
          "prob": 0.74
         },
         {
          "index": 2734,
          "prob": 0.62
         },
         {
          "index": 2735,
          "prob": 0.75
         },
         {
          "index": 2736,
          "prob": 0.8300000000000001
         },
         {
          "index": 2737,
          "prob": 0.67
         },
         {
          "index": 2738,
          "prob": 0.59
         },
         {
          "index": 2739,
          "prob": 0.62
         },
         {
          "index": 2740,
          "prob": 0.79
         },
         {
          "index": 2741,
          "prob": 0.76
         },
         {
          "index": 2742,
          "prob": 0.63
         },
         {
          "index": 2743,
          "prob": 0.75
         },
         {
          "index": 2744,
          "prob": 0.67
         },
         {
          "index": 2745,
          "prob": 0.52
         },
         {
          "index": 2746,
          "prob": 0.56
         },
         {
          "index": 2747,
          "prob": 0.86
         },
         {
          "index": 2748,
          "prob": 0.49
         },
         {
          "index": 2749,
          "prob": 0.71
         },
         {
          "index": 2750,
          "prob": 0.53
         },
         {
          "index": 2751,
          "prob": 0.58
         },
         {
          "index": 2752,
          "prob": 0.62
         },
         {
          "index": 2753,
          "prob": 0.73
         },
         {
          "index": 2754,
          "prob": 0.71
         },
         {
          "index": 2755,
          "prob": 0.6
         },
         {
          "index": 2756,
          "prob": 0.68
         },
         {
          "index": 2757,
          "prob": 0.8
         },
         {
          "index": 2758,
          "prob": 0.72
         },
         {
          "index": 2759,
          "prob": 0.45
         },
         {
          "index": 2760,
          "prob": 0.47000000000000003
         },
         {
          "index": 2761,
          "prob": 0.51
         },
         {
          "index": 2762,
          "prob": 0.56
         },
         {
          "index": 2763,
          "prob": 0.31
         },
         {
          "index": 2764,
          "prob": 0.68
         },
         {
          "index": 2765,
          "prob": 0.58
         },
         {
          "index": 2766,
          "prob": 0.8300000000000001
         },
         {
          "index": 2767,
          "prob": 0.59
         },
         {
          "index": 2768,
          "prob": 0.62
         },
         {
          "index": 2769,
          "prob": 0.61
         },
         {
          "index": 2770,
          "prob": 0.48
         },
         {
          "index": 2771,
          "prob": 0.79
         },
         {
          "index": 2772,
          "prob": 0.53
         },
         {
          "index": 2773,
          "prob": 0.45
         },
         {
          "index": 2774,
          "prob": 0.72
         },
         {
          "index": 2775,
          "prob": 0.36
         },
         {
          "index": 2776,
          "prob": 0.58
         },
         {
          "index": 2777,
          "prob": 0.46
         },
         {
          "index": 2778,
          "prob": 0.68
         },
         {
          "index": 2779,
          "prob": 0.54
         },
         {
          "index": 2780,
          "prob": 0.75
         },
         {
          "index": 2781,
          "prob": 0.71
         },
         {
          "index": 2782,
          "prob": 0.5700000000000001
         },
         {
          "index": 2783,
          "prob": 0.54
         },
         {
          "index": 2784,
          "prob": 0.49
         },
         {
          "index": 2785,
          "prob": 0.68
         },
         {
          "index": 2786,
          "prob": 0.55
         },
         {
          "index": 2787,
          "prob": 0.55
         },
         {
          "index": 2788,
          "prob": 0.49
         },
         {
          "index": 2789,
          "prob": 0.68
         },
         {
          "index": 2790,
          "prob": 0.49
         },
         {
          "index": 2791,
          "prob": 0.75
         },
         {
          "index": 2792,
          "prob": 0.65
         },
         {
          "index": 2793,
          "prob": 0.71
         },
         {
          "index": 2794,
          "prob": 0.9
         },
         {
          "index": 2795,
          "prob": 0.5
         },
         {
          "index": 2796,
          "prob": 0.8300000000000001
         },
         {
          "index": 2797,
          "prob": 0.36
         },
         {
          "index": 2798,
          "prob": 0.58
         },
         {
          "index": 2799,
          "prob": 0.6900000000000001
         },
         {
          "index": 2800,
          "prob": 0.45
         },
         {
          "index": 2801,
          "prob": 0.76
         },
         {
          "index": 2802,
          "prob": 0.85
         },
         {
          "index": 2803,
          "prob": 0.33
         },
         {
          "index": 2804,
          "prob": 0.62
         },
         {
          "index": 2805,
          "prob": 0.67
         },
         {
          "index": 2806,
          "prob": 0.75
         },
         {
          "index": 2807,
          "prob": 0.47000000000000003
         },
         {
          "index": 2808,
          "prob": 0.59
         },
         {
          "index": 2809,
          "prob": 0.54
         },
         {
          "index": 2810,
          "prob": 0.78
         },
         {
          "index": 2811,
          "prob": 0.66
         },
         {
          "index": 2812,
          "prob": 0.71
         },
         {
          "index": 2813,
          "prob": 0.62
         },
         {
          "index": 2814,
          "prob": 0.8200000000000001
         },
         {
          "index": 2815,
          "prob": 0.85
         },
         {
          "index": 2816,
          "prob": 0.64
         },
         {
          "index": 2817,
          "prob": 0.44
         },
         {
          "index": 2818,
          "prob": 0.48
         },
         {
          "index": 2819,
          "prob": 0.85
         },
         {
          "index": 2820,
          "prob": 0.32
         },
         {
          "index": 2821,
          "prob": 0.59
         },
         {
          "index": 2822,
          "prob": 0.46
         },
         {
          "index": 2823,
          "prob": 0.76
         },
         {
          "index": 2824,
          "prob": 0.81
         },
         {
          "index": 2825,
          "prob": 0.26
         },
         {
          "index": 2826,
          "prob": 0.71
         },
         {
          "index": 2827,
          "prob": 0.49
         },
         {
          "index": 2828,
          "prob": 0.73
         },
         {
          "index": 2829,
          "prob": 0.41000000000000003
         },
         {
          "index": 2830,
          "prob": 0.33
         },
         {
          "index": 2831,
          "prob": 0.6
         },
         {
          "index": 2832,
          "prob": 0.72
         },
         {
          "index": 2833,
          "prob": 0.87
         },
         {
          "index": 2834,
          "prob": 0.58
         },
         {
          "index": 2835,
          "prob": 0.64
         },
         {
          "index": 2836,
          "prob": 0.77
         },
         {
          "index": 2837,
          "prob": 0.61
         },
         {
          "index": 2838,
          "prob": 0.7000000000000001
         },
         {
          "index": 2839,
          "prob": 0.75
         },
         {
          "index": 2840,
          "prob": 0.51
         },
         {
          "index": 2841,
          "prob": 0.63
         },
         {
          "index": 2842,
          "prob": 0.67
         },
         {
          "index": 2843,
          "prob": 0.61
         },
         {
          "index": 2844,
          "prob": 0.8200000000000001
         },
         {
          "index": 2845,
          "prob": 0.54
         },
         {
          "index": 2846,
          "prob": 0.75
         },
         {
          "index": 2847,
          "prob": 0.45
         },
         {
          "index": 2848,
          "prob": 0.61
         },
         {
          "index": 2849,
          "prob": 0.67
         },
         {
          "index": 2850,
          "prob": 0.56
         },
         {
          "index": 2851,
          "prob": 0.45
         },
         {
          "index": 2852,
          "prob": 0.38
         },
         {
          "index": 2853,
          "prob": 0.71
         },
         {
          "index": 2854,
          "prob": 0.55
         },
         {
          "index": 2855,
          "prob": 0.66
         },
         {
          "index": 2856,
          "prob": 0.71
         },
         {
          "index": 2857,
          "prob": 0.49
         },
         {
          "index": 2858,
          "prob": 0.66
         },
         {
          "index": 2859,
          "prob": 0.76
         },
         {
          "index": 2860,
          "prob": 0.67
         },
         {
          "index": 2861,
          "prob": 0.72
         },
         {
          "index": 2862,
          "prob": 0.53
         },
         {
          "index": 2863,
          "prob": 0.47000000000000003
         },
         {
          "index": 2864,
          "prob": 0.61
         },
         {
          "index": 2865,
          "prob": 0.55
         },
         {
          "index": 2866,
          "prob": 0.65
         },
         {
          "index": 2867,
          "prob": 0.59
         },
         {
          "index": 2868,
          "prob": 0.32
         },
         {
          "index": 2869,
          "prob": 0.42
         },
         {
          "index": 2870,
          "prob": 0.47000000000000003
         },
         {
          "index": 2871,
          "prob": 0.73
         },
         {
          "index": 2872,
          "prob": 0.38
         },
         {
          "index": 2873,
          "prob": 0.43
         },
         {
          "index": 2874,
          "prob": 0.8200000000000001
         },
         {
          "index": 2875,
          "prob": 0.63
         },
         {
          "index": 2876,
          "prob": 0.65
         },
         {
          "index": 2877,
          "prob": 0.6
         },
         {
          "index": 2878,
          "prob": 0.39
         },
         {
          "index": 2879,
          "prob": 0.79
         },
         {
          "index": 2880,
          "prob": 0.52
         },
         {
          "index": 2881,
          "prob": 0.79
         },
         {
          "index": 2882,
          "prob": 0.39
         },
         {
          "index": 2883,
          "prob": 0.62
         },
         {
          "index": 2884,
          "prob": 0.52
         },
         {
          "index": 2885,
          "prob": 0.72
         },
         {
          "index": 2886,
          "prob": 0.5700000000000001
         },
         {
          "index": 2887,
          "prob": 0.8300000000000001
         },
         {
          "index": 2888,
          "prob": 0.85
         },
         {
          "index": 2889,
          "prob": 0.55
         },
         {
          "index": 2890,
          "prob": 0.79
         },
         {
          "index": 2891,
          "prob": 0.63
         },
         {
          "index": 2892,
          "prob": 0.81
         },
         {
          "index": 2893,
          "prob": 0.6
         },
         {
          "index": 2894,
          "prob": 0.56
         },
         {
          "index": 2895,
          "prob": 0.62
         },
         {
          "index": 2896,
          "prob": 0.75
         },
         {
          "index": 2897,
          "prob": 0.7000000000000001
         },
         {
          "index": 2898,
          "prob": 0.67
         },
         {
          "index": 2899,
          "prob": 0.52
         },
         {
          "index": 2900,
          "prob": 0.66
         },
         {
          "index": 2901,
          "prob": 0.73
         },
         {
          "index": 2902,
          "prob": 0.53
         },
         {
          "index": 2903,
          "prob": 0.65
         },
         {
          "index": 2904,
          "prob": 0.98
         },
         {
          "index": 2905,
          "prob": 0.55
         },
         {
          "index": 2906,
          "prob": 0.76
         },
         {
          "index": 2907,
          "prob": 0.66
         },
         {
          "index": 2908,
          "prob": 0.67
         },
         {
          "index": 2909,
          "prob": 0.41000000000000003
         },
         {
          "index": 2910,
          "prob": 0.67
         },
         {
          "index": 2911,
          "prob": 0.65
         },
         {
          "index": 2912,
          "prob": 0.71
         },
         {
          "index": 2913,
          "prob": 0.6
         },
         {
          "index": 2914,
          "prob": 0.67
         },
         {
          "index": 2915,
          "prob": 0.61
         },
         {
          "index": 2916,
          "prob": 0.75
         },
         {
          "index": 2917,
          "prob": 0.56
         },
         {
          "index": 2918,
          "prob": 0.37
         },
         {
          "index": 2919,
          "prob": 0.44
         },
         {
          "index": 2920,
          "prob": 0.7000000000000001
         },
         {
          "index": 2921,
          "prob": 0.5700000000000001
         },
         {
          "index": 2922,
          "prob": 0.8
         },
         {
          "index": 2923,
          "prob": 0.91
         },
         {
          "index": 2924,
          "prob": 0.5700000000000001
         },
         {
          "index": 2925,
          "prob": 0.64
         },
         {
          "index": 2926,
          "prob": 0.85
         },
         {
          "index": 2927,
          "prob": 0.76
         },
         {
          "index": 2928,
          "prob": 0.5700000000000001
         },
         {
          "index": 2929,
          "prob": 0.71
         },
         {
          "index": 2930,
          "prob": 0.67
         },
         {
          "index": 2931,
          "prob": 0.68
         },
         {
          "index": 2932,
          "prob": 0.38
         },
         {
          "index": 2933,
          "prob": 0.63
         },
         {
          "index": 2934,
          "prob": 0.8300000000000001
         },
         {
          "index": 2935,
          "prob": 0.39
         },
         {
          "index": 2936,
          "prob": 0.66
         },
         {
          "index": 2937,
          "prob": 0.6900000000000001
         },
         {
          "index": 2938,
          "prob": 0.63
         },
         {
          "index": 2939,
          "prob": 0.62
         },
         {
          "index": 2940,
          "prob": 0.66
         },
         {
          "index": 2941,
          "prob": 0.48
         },
         {
          "index": 2942,
          "prob": 0.78
         },
         {
          "index": 2943,
          "prob": 0.74
         },
         {
          "index": 2944,
          "prob": 0.55
         },
         {
          "index": 2945,
          "prob": 0.63
         },
         {
          "index": 2946,
          "prob": 0.5700000000000001
         },
         {
          "index": 2947,
          "prob": 0.68
         },
         {
          "index": 2948,
          "prob": 0.61
         },
         {
          "index": 2949,
          "prob": 0.53
         },
         {
          "index": 2950,
          "prob": 0.36
         },
         {
          "index": 2951,
          "prob": 0.58
         },
         {
          "index": 2952,
          "prob": 0.6900000000000001
         },
         {
          "index": 2953,
          "prob": 0.29
         },
         {
          "index": 2954,
          "prob": 0.52
         },
         {
          "index": 2955,
          "prob": 0.49
         },
         {
          "index": 2956,
          "prob": 0.81
         },
         {
          "index": 2957,
          "prob": 0.59
         },
         {
          "index": 2958,
          "prob": 0.76
         },
         {
          "index": 2959,
          "prob": 0.7000000000000001
         },
         {
          "index": 2960,
          "prob": 0.29
         },
         {
          "index": 2961,
          "prob": 0.49
         },
         {
          "index": 2962,
          "prob": 0.72
         },
         {
          "index": 2963,
          "prob": 0.6
         },
         {
          "index": 2964,
          "prob": 0.67
         },
         {
          "index": 2965,
          "prob": 0.47000000000000003
         },
         {
          "index": 2966,
          "prob": 0.77
         },
         {
          "index": 2967,
          "prob": 0.8
         },
         {
          "index": 2968,
          "prob": 0.58
         },
         {
          "index": 2969,
          "prob": 0.56
         },
         {
          "index": 2970,
          "prob": 0.48
         },
         {
          "index": 2971,
          "prob": 0.55
         },
         {
          "index": 2972,
          "prob": 0.8200000000000001
         },
         {
          "index": 2973,
          "prob": 0.67
         },
         {
          "index": 2974,
          "prob": 0.64
         },
         {
          "index": 2975,
          "prob": 0.5700000000000001
         },
         {
          "index": 2976,
          "prob": 0.59
         },
         {
          "index": 2977,
          "prob": 0.62
         },
         {
          "index": 2978,
          "prob": 0.67
         },
         {
          "index": 2979,
          "prob": 0.49
         },
         {
          "index": 2980,
          "prob": 0.46
         },
         {
          "index": 2981,
          "prob": 0.92
         },
         {
          "index": 2982,
          "prob": 0.5700000000000001
         },
         {
          "index": 2983,
          "prob": 0.78
         },
         {
          "index": 2984,
          "prob": 0.71
         },
         {
          "index": 2985,
          "prob": 0.81
         },
         {
          "index": 2986,
          "prob": 0.38
         },
         {
          "index": 2987,
          "prob": 0.45
         },
         {
          "index": 2988,
          "prob": 0.5700000000000001
         },
         {
          "index": 2989,
          "prob": 0.54
         },
         {
          "index": 2990,
          "prob": 0.68
         },
         {
          "index": 2991,
          "prob": 0.55
         },
         {
          "index": 2992,
          "prob": 0.6900000000000001
         },
         {
          "index": 2993,
          "prob": 0.72
         },
         {
          "index": 2994,
          "prob": 0.33
         },
         {
          "index": 2995,
          "prob": 0.53
         },
         {
          "index": 2996,
          "prob": 0.41000000000000003
         },
         {
          "index": 2997,
          "prob": 0.56
         },
         {
          "index": 2998,
          "prob": 0.53
         },
         {
          "index": 2999,
          "prob": 0.39
         },
         {
          "index": 3000,
          "prob": 0.38
         },
         {
          "index": 3001,
          "prob": 0.61
         },
         {
          "index": 3002,
          "prob": 0.75
         },
         {
          "index": 3003,
          "prob": 0.51
         },
         {
          "index": 3004,
          "prob": 0.55
         },
         {
          "index": 3005,
          "prob": 0.71
         },
         {
          "index": 3006,
          "prob": 0.48
         },
         {
          "index": 3007,
          "prob": 0.79
         },
         {
          "index": 3008,
          "prob": 0.59
         },
         {
          "index": 3009,
          "prob": 0.71
         },
         {
          "index": 3010,
          "prob": 0.66
         },
         {
          "index": 3011,
          "prob": 0.63
         },
         {
          "index": 3012,
          "prob": 0.67
         },
         {
          "index": 3013,
          "prob": 0.8200000000000001
         },
         {
          "index": 3014,
          "prob": 0.6900000000000001
         },
         {
          "index": 3015,
          "prob": 0.6900000000000001
         },
         {
          "index": 3016,
          "prob": 0.68
         },
         {
          "index": 3017,
          "prob": 0.68
         },
         {
          "index": 3018,
          "prob": 0.66
         },
         {
          "index": 3019,
          "prob": 0.5700000000000001
         },
         {
          "index": 3020,
          "prob": 0.63
         },
         {
          "index": 3021,
          "prob": 0.5700000000000001
         },
         {
          "index": 3022,
          "prob": 0.8300000000000001
         },
         {
          "index": 3023,
          "prob": 0.58
         },
         {
          "index": 3024,
          "prob": 0.74
         },
         {
          "index": 3025,
          "prob": 0.54
         },
         {
          "index": 3026,
          "prob": 0.64
         },
         {
          "index": 3027,
          "prob": 0.67
         },
         {
          "index": 3028,
          "prob": 0.56
         },
         {
          "index": 3029,
          "prob": 0.61
         },
         {
          "index": 3030,
          "prob": 0.53
         },
         {
          "index": 3031,
          "prob": 0.65
         },
         {
          "index": 3032,
          "prob": 0.75
         },
         {
          "index": 3033,
          "prob": 0.59
         },
         {
          "index": 3034,
          "prob": 0.48
         },
         {
          "index": 3035,
          "prob": 0.68
         },
         {
          "index": 3036,
          "prob": 0.8300000000000001
         },
         {
          "index": 3037,
          "prob": 0.51
         },
         {
          "index": 3038,
          "prob": 0.72
         },
         {
          "index": 3039,
          "prob": 0.63
         },
         {
          "index": 3040,
          "prob": 0.34
         },
         {
          "index": 3041,
          "prob": 0.45
         },
         {
          "index": 3042,
          "prob": 0.65
         },
         {
          "index": 3043,
          "prob": 0.71
         },
         {
          "index": 3044,
          "prob": 0.63
         },
         {
          "index": 3045,
          "prob": 0.48
         },
         {
          "index": 3046,
          "prob": 0.59
         },
         {
          "index": 3047,
          "prob": 0.74
         },
         {
          "index": 3048,
          "prob": 0.5700000000000001
         },
         {
          "index": 3049,
          "prob": 0.79
         },
         {
          "index": 3050,
          "prob": 0.79
         },
         {
          "index": 3051,
          "prob": 0.75
         },
         {
          "index": 3052,
          "prob": 0.76
         },
         {
          "index": 3053,
          "prob": 0.44
         },
         {
          "index": 3054,
          "prob": 0.79
         },
         {
          "index": 3055,
          "prob": 0.43
         },
         {
          "index": 3056,
          "prob": 0.7000000000000001
         },
         {
          "index": 3057,
          "prob": 0.62
         },
         {
          "index": 3058,
          "prob": 0.46
         },
         {
          "index": 3059,
          "prob": 0.92
         },
         {
          "index": 3060,
          "prob": 0.39
         },
         {
          "index": 3061,
          "prob": 0.8
         },
         {
          "index": 3062,
          "prob": 0.52
         },
         {
          "index": 3063,
          "prob": 0.67
         },
         {
          "index": 3064,
          "prob": 0.65
         },
         {
          "index": 3065,
          "prob": 0.7000000000000001
         },
         {
          "index": 3066,
          "prob": 0.8200000000000001
         },
         {
          "index": 3067,
          "prob": 0.66
         },
         {
          "index": 3068,
          "prob": 0.5
         },
         {
          "index": 3069,
          "prob": 0.67
         },
         {
          "index": 3070,
          "prob": 0.49
         },
         {
          "index": 3071,
          "prob": 0.62
         },
         {
          "index": 3072,
          "prob": 0.73
         },
         {
          "index": 3073,
          "prob": 0.64
         },
         {
          "index": 3074,
          "prob": 0.59
         },
         {
          "index": 3075,
          "prob": 0.7000000000000001
         },
         {
          "index": 3076,
          "prob": 0.59
         },
         {
          "index": 3077,
          "prob": 0.81
         },
         {
          "index": 3078,
          "prob": 0.91
         },
         {
          "index": 3079,
          "prob": 0.61
         },
         {
          "index": 3080,
          "prob": 0.8200000000000001
         },
         {
          "index": 3081,
          "prob": 0.58
         },
         {
          "index": 3082,
          "prob": 0.42
         },
         {
          "index": 3083,
          "prob": 0.44
         },
         {
          "index": 3084,
          "prob": 0.56
         },
         {
          "index": 3085,
          "prob": 0.74
         },
         {
          "index": 3086,
          "prob": 0.74
         },
         {
          "index": 3087,
          "prob": 0.71
         },
         {
          "index": 3088,
          "prob": 0.6900000000000001
         },
         {
          "index": 3089,
          "prob": 0.42
         },
         {
          "index": 3090,
          "prob": 0.42
         },
         {
          "index": 3091,
          "prob": 0.81
         },
         {
          "index": 3092,
          "prob": 0.85
         },
         {
          "index": 3093,
          "prob": 0.67
         },
         {
          "index": 3094,
          "prob": 0.65
         },
         {
          "index": 3095,
          "prob": 0.42
         },
         {
          "index": 3096,
          "prob": 0.66
         },
         {
          "index": 3097,
          "prob": 0.71
         },
         {
          "index": 3098,
          "prob": 0.58
         },
         {
          "index": 3099,
          "prob": 0.65
         },
         {
          "index": 3100,
          "prob": 0.61
         },
         {
          "index": 3101,
          "prob": 0.9
         },
         {
          "index": 3102,
          "prob": 0.65
         },
         {
          "index": 3103,
          "prob": 0.4
         },
         {
          "index": 3104,
          "prob": 0.65
         },
         {
          "index": 3105,
          "prob": 0.5
         },
         {
          "index": 3106,
          "prob": 0.5700000000000001
         },
         {
          "index": 3107,
          "prob": 0.53
         },
         {
          "index": 3108,
          "prob": 0.91
         },
         {
          "index": 3109,
          "prob": 0.47000000000000003
         },
         {
          "index": 3110,
          "prob": 0.7000000000000001
         },
         {
          "index": 3111,
          "prob": 0.68
         },
         {
          "index": 3112,
          "prob": 0.8200000000000001
         },
         {
          "index": 3113,
          "prob": 0.64
         },
         {
          "index": 3114,
          "prob": 0.66
         },
         {
          "index": 3115,
          "prob": 0.65
         },
         {
          "index": 3116,
          "prob": 0.5700000000000001
         },
         {
          "index": 3117,
          "prob": 0.78
         },
         {
          "index": 3118,
          "prob": 0.72
         },
         {
          "index": 3119,
          "prob": 0.6
         },
         {
          "index": 3120,
          "prob": 0.4
         },
         {
          "index": 3121,
          "prob": 0.62
         },
         {
          "index": 3122,
          "prob": 0.51
         },
         {
          "index": 3123,
          "prob": 0.36
         },
         {
          "index": 3124,
          "prob": 0.46
         },
         {
          "index": 3125,
          "prob": 0.44
         },
         {
          "index": 3126,
          "prob": 0.58
         },
         {
          "index": 3127,
          "prob": 0.79
         },
         {
          "index": 3128,
          "prob": 0.76
         },
         {
          "index": 3129,
          "prob": 0.55
         },
         {
          "index": 3130,
          "prob": 0.77
         },
         {
          "index": 3131,
          "prob": 0.55
         },
         {
          "index": 3132,
          "prob": 0.8300000000000001
         },
         {
          "index": 3133,
          "prob": 0.48
         },
         {
          "index": 3134,
          "prob": 0.54
         },
         {
          "index": 3135,
          "prob": 0.56
         },
         {
          "index": 3136,
          "prob": 0.52
         },
         {
          "index": 3137,
          "prob": 0.74
         },
         {
          "index": 3138,
          "prob": 0.49
         },
         {
          "index": 3139,
          "prob": 0.77
         },
         {
          "index": 3140,
          "prob": 0.76
         },
         {
          "index": 3141,
          "prob": 0.74
         },
         {
          "index": 3142,
          "prob": 0.65
         },
         {
          "index": 3143,
          "prob": 0.35000000000000003
         },
         {
          "index": 3144,
          "prob": 0.78
         },
         {
          "index": 3145,
          "prob": 0.66
         },
         {
          "index": 3146,
          "prob": 0.6
         },
         {
          "index": 3147,
          "prob": 0.45
         },
         {
          "index": 3148,
          "prob": 0.75
         },
         {
          "index": 3149,
          "prob": 0.65
         },
         {
          "index": 3150,
          "prob": 0.79
         },
         {
          "index": 3151,
          "prob": 0.61
         },
         {
          "index": 3152,
          "prob": 0.61
         },
         {
          "index": 3153,
          "prob": 0.54
         },
         {
          "index": 3154,
          "prob": 0.49
         },
         {
          "index": 3155,
          "prob": 0.31
         },
         {
          "index": 3156,
          "prob": 0.71
         },
         {
          "index": 3157,
          "prob": 0.5
         },
         {
          "index": 3158,
          "prob": 0.73
         },
         {
          "index": 3159,
          "prob": 0.8300000000000001
         },
         {
          "index": 3160,
          "prob": 0.77
         },
         {
          "index": 3161,
          "prob": 0.75
         },
         {
          "index": 3162,
          "prob": 0.81
         },
         {
          "index": 3163,
          "prob": 0.75
         },
         {
          "index": 3164,
          "prob": 0.7000000000000001
         },
         {
          "index": 3165,
          "prob": 0.88
         },
         {
          "index": 3166,
          "prob": 0.58
         },
         {
          "index": 3167,
          "prob": 0.38
         },
         {
          "index": 3168,
          "prob": 0.64
         },
         {
          "index": 3169,
          "prob": 0.8200000000000001
         },
         {
          "index": 3170,
          "prob": 0.8
         },
         {
          "index": 3171,
          "prob": 0.2
         },
         {
          "index": 3172,
          "prob": 0.21
         },
         {
          "index": 3173,
          "prob": 0.45
         },
         {
          "index": 3174,
          "prob": 0.5
         },
         {
          "index": 3175,
          "prob": 0.84
         },
         {
          "index": 3176,
          "prob": 0.81
         },
         {
          "index": 3177,
          "prob": 0.64
         },
         {
          "index": 3178,
          "prob": 0.52
         },
         {
          "index": 3179,
          "prob": 0.68
         },
         {
          "index": 3180,
          "prob": 0.65
         },
         {
          "index": 3181,
          "prob": 0.55
         },
         {
          "index": 3182,
          "prob": 0.59
         },
         {
          "index": 3183,
          "prob": 0.7000000000000001
         },
         {
          "index": 3184,
          "prob": 0.74
         },
         {
          "index": 3185,
          "prob": 0.78
         },
         {
          "index": 3186,
          "prob": 0.74
         },
         {
          "index": 3187,
          "prob": 0.58
         },
         {
          "index": 3188,
          "prob": 0.39
         },
         {
          "index": 3189,
          "prob": 0.44
         },
         {
          "index": 3190,
          "prob": 0.72
         },
         {
          "index": 3191,
          "prob": 0.73
         },
         {
          "index": 3192,
          "prob": 0.45
         },
         {
          "index": 3193,
          "prob": 0.87
         },
         {
          "index": 3194,
          "prob": 0.74
         },
         {
          "index": 3195,
          "prob": 0.74
         },
         {
          "index": 3196,
          "prob": 0.66
         },
         {
          "index": 3197,
          "prob": 0.67
         },
         {
          "index": 3198,
          "prob": 0.74
         },
         {
          "index": 3199,
          "prob": 0.74
         },
         {
          "index": 3200,
          "prob": 0.74
         },
         {
          "index": 3201,
          "prob": 0.51
         },
         {
          "index": 3202,
          "prob": 0.59
         },
         {
          "index": 3203,
          "prob": 0.7000000000000001
         },
         {
          "index": 3204,
          "prob": 0.79
         },
         {
          "index": 3205,
          "prob": 0.63
         },
         {
          "index": 3206,
          "prob": 0.76
         },
         {
          "index": 3207,
          "prob": 0.65
         },
         {
          "index": 3208,
          "prob": 0.49
         },
         {
          "index": 3209,
          "prob": 0.71
         },
         {
          "index": 3210,
          "prob": 0.67
         },
         {
          "index": 3211,
          "prob": 0.64
         },
         {
          "index": 3212,
          "prob": 0.67
         },
         {
          "index": 3213,
          "prob": 0.68
         },
         {
          "index": 3214,
          "prob": 0.8
         },
         {
          "index": 3215,
          "prob": 0.9400000000000001
         },
         {
          "index": 3216,
          "prob": 0.67
         },
         {
          "index": 3217,
          "prob": 0.64
         },
         {
          "index": 3218,
          "prob": 0.44
         },
         {
          "index": 3219,
          "prob": 0.7000000000000001
         },
         {
          "index": 3220,
          "prob": 0.52
         },
         {
          "index": 3221,
          "prob": 0.64
         },
         {
          "index": 3222,
          "prob": 0.38
         },
         {
          "index": 3223,
          "prob": 0.47000000000000003
         },
         {
          "index": 3224,
          "prob": 0.46
         },
         {
          "index": 3225,
          "prob": 0.58
         },
         {
          "index": 3226,
          "prob": 0.76
         },
         {
          "index": 3227,
          "prob": 0.68
         },
         {
          "index": 3228,
          "prob": 0.75
         },
         {
          "index": 3229,
          "prob": 0.49
         },
         {
          "index": 3230,
          "prob": 0.58
         },
         {
          "index": 3231,
          "prob": 0.8200000000000001
         },
         {
          "index": 3232,
          "prob": 0.42
         },
         {
          "index": 3233,
          "prob": 0.62
         },
         {
          "index": 3234,
          "prob": 0.6900000000000001
         },
         {
          "index": 3235,
          "prob": 0.73
         },
         {
          "index": 3236,
          "prob": 0.78
         },
         {
          "index": 3237,
          "prob": 0.53
         },
         {
          "index": 3238,
          "prob": 0.48
         },
         {
          "index": 3239,
          "prob": 0.46
         },
         {
          "index": 3240,
          "prob": 0.64
         },
         {
          "index": 3241,
          "prob": 0.85
         },
         {
          "index": 3242,
          "prob": 0.8
         },
         {
          "index": 3243,
          "prob": 0.77
         },
         {
          "index": 3244,
          "prob": 0.62
         },
         {
          "index": 3245,
          "prob": 0.72
         },
         {
          "index": 3246,
          "prob": 0.65
         },
         {
          "index": 3247,
          "prob": 0.63
         },
         {
          "index": 3248,
          "prob": 0.34
         },
         {
          "index": 3249,
          "prob": 0.71
         },
         {
          "index": 3250,
          "prob": 0.71
         },
         {
          "index": 3251,
          "prob": 0.63
         },
         {
          "index": 3252,
          "prob": 0.62
         },
         {
          "index": 3253,
          "prob": 0.48
         },
         {
          "index": 3254,
          "prob": 0.77
         },
         {
          "index": 3255,
          "prob": 0.27
         },
         {
          "index": 3256,
          "prob": 0.58
         },
         {
          "index": 3257,
          "prob": 0.65
         },
         {
          "index": 3258,
          "prob": 0.29
         },
         {
          "index": 3259,
          "prob": 0.6900000000000001
         },
         {
          "index": 3260,
          "prob": 0.5700000000000001
         },
         {
          "index": 3261,
          "prob": 0.62
         },
         {
          "index": 3262,
          "prob": 0.67
         },
         {
          "index": 3263,
          "prob": 0.74
         },
         {
          "index": 3264,
          "prob": 0.6
         },
         {
          "index": 3265,
          "prob": 0.63
         },
         {
          "index": 3266,
          "prob": 0.55
         },
         {
          "index": 3267,
          "prob": 0.41000000000000003
         },
         {
          "index": 3268,
          "prob": 0.67
         },
         {
          "index": 3269,
          "prob": 0.71
         },
         {
          "index": 3270,
          "prob": 0.47000000000000003
         },
         {
          "index": 3271,
          "prob": 0.8300000000000001
         },
         {
          "index": 3272,
          "prob": 0.84
         },
         {
          "index": 3273,
          "prob": 0.72
         },
         {
          "index": 3274,
          "prob": 0.6
         },
         {
          "index": 3275,
          "prob": 0.54
         },
         {
          "index": 3276,
          "prob": 0.44
         },
         {
          "index": 3277,
          "prob": 0.77
         },
         {
          "index": 3278,
          "prob": 0.72
         },
         {
          "index": 3279,
          "prob": 0.5700000000000001
         },
         {
          "index": 3280,
          "prob": 0.44
         },
         {
          "index": 3281,
          "prob": 0.66
         },
         {
          "index": 3282,
          "prob": 0.85
         },
         {
          "index": 3283,
          "prob": 0.62
         },
         {
          "index": 3284,
          "prob": 0.68
         },
         {
          "index": 3285,
          "prob": 0.55
         },
         {
          "index": 3286,
          "prob": 0.68
         },
         {
          "index": 3287,
          "prob": 0.52
         },
         {
          "index": 3288,
          "prob": 0.67
         },
         {
          "index": 3289,
          "prob": 0.71
         },
         {
          "index": 3290,
          "prob": 0.75
         },
         {
          "index": 3291,
          "prob": 0.76
         },
         {
          "index": 3292,
          "prob": 0.62
         },
         {
          "index": 3293,
          "prob": 0.71
         },
         {
          "index": 3294,
          "prob": 0.44
         },
         {
          "index": 3295,
          "prob": 0.64
         },
         {
          "index": 3296,
          "prob": 0.5
         },
         {
          "index": 3297,
          "prob": 0.18
         },
         {
          "index": 3298,
          "prob": 0.37
         },
         {
          "index": 3299,
          "prob": 0.84
         },
         {
          "index": 3300,
          "prob": 0.71
         },
         {
          "index": 3301,
          "prob": 0.58
         },
         {
          "index": 3302,
          "prob": 0.7000000000000001
         },
         {
          "index": 3303,
          "prob": 0.68
         },
         {
          "index": 3304,
          "prob": 0.73
         },
         {
          "index": 3305,
          "prob": 0.6
         },
         {
          "index": 3306,
          "prob": 0.8300000000000001
         },
         {
          "index": 3307,
          "prob": 0.75
         },
         {
          "index": 3308,
          "prob": 0.76
         },
         {
          "index": 3309,
          "prob": 0.38
         },
         {
          "index": 3310,
          "prob": 0.42
         },
         {
          "index": 3311,
          "prob": 0.62
         },
         {
          "index": 3312,
          "prob": 0.64
         },
         {
          "index": 3313,
          "prob": 0.61
         },
         {
          "index": 3314,
          "prob": 0.64
         },
         {
          "index": 3315,
          "prob": 0.64
         },
         {
          "index": 3316,
          "prob": 0.54
         },
         {
          "index": 3317,
          "prob": 0.67
         },
         {
          "index": 3318,
          "prob": 0.75
         },
         {
          "index": 3319,
          "prob": 0.37
         },
         {
          "index": 3320,
          "prob": 0.59
         },
         {
          "index": 3321,
          "prob": 0.56
         },
         {
          "index": 3322,
          "prob": 0.78
         },
         {
          "index": 3323,
          "prob": 0.8200000000000001
         },
         {
          "index": 3324,
          "prob": 0.84
         },
         {
          "index": 3325,
          "prob": 0.66
         },
         {
          "index": 3326,
          "prob": 0.77
         },
         {
          "index": 3327,
          "prob": 0.85
         },
         {
          "index": 3328,
          "prob": 0.46
         },
         {
          "index": 3329,
          "prob": 0.42
         },
         {
          "index": 3330,
          "prob": 0.8300000000000001
         },
         {
          "index": 3331,
          "prob": 0.5700000000000001
         },
         {
          "index": 3332,
          "prob": 0.52
         },
         {
          "index": 3333,
          "prob": 0.6900000000000001
         },
         {
          "index": 3334,
          "prob": 0.58
         },
         {
          "index": 3335,
          "prob": 0.32
         },
         {
          "index": 3336,
          "prob": 0.47000000000000003
         },
         {
          "index": 3337,
          "prob": 0.84
         },
         {
          "index": 3338,
          "prob": 0.74
         },
         {
          "index": 3339,
          "prob": 0.71
         },
         {
          "index": 3340,
          "prob": 0.65
         },
         {
          "index": 3341,
          "prob": 0.76
         },
         {
          "index": 3342,
          "prob": 0.72
         },
         {
          "index": 3343,
          "prob": 0.56
         },
         {
          "index": 3344,
          "prob": 0.43
         },
         {
          "index": 3345,
          "prob": 0.54
         },
         {
          "index": 3346,
          "prob": 0.52
         },
         {
          "index": 3347,
          "prob": 0.71
         },
         {
          "index": 3348,
          "prob": 0.63
         },
         {
          "index": 3349,
          "prob": 0.66
         },
         {
          "index": 3350,
          "prob": 0.59
         },
         {
          "index": 3351,
          "prob": 0.84
         },
         {
          "index": 3352,
          "prob": 0.37
         },
         {
          "index": 3353,
          "prob": 0.43
         },
         {
          "index": 3354,
          "prob": 0.38
         },
         {
          "index": 3355,
          "prob": 0.72
         },
         {
          "index": 3356,
          "prob": 0.48
         },
         {
          "index": 3357,
          "prob": 0.61
         },
         {
          "index": 3358,
          "prob": 0.81
         },
         {
          "index": 3359,
          "prob": 0.5700000000000001
         },
         {
          "index": 3360,
          "prob": 0.66
         },
         {
          "index": 3361,
          "prob": 0.61
         },
         {
          "index": 3362,
          "prob": 0.67
         },
         {
          "index": 3363,
          "prob": 0.78
         },
         {
          "index": 3364,
          "prob": 0.33
         },
         {
          "index": 3365,
          "prob": 0.9400000000000001
         },
         {
          "index": 3366,
          "prob": 0.42
         },
         {
          "index": 3367,
          "prob": 0.65
         },
         {
          "index": 3368,
          "prob": 0.59
         },
         {
          "index": 3369,
          "prob": 0.48
         },
         {
          "index": 3370,
          "prob": 0.67
         },
         {
          "index": 3371,
          "prob": 0.7000000000000001
         },
         {
          "index": 3372,
          "prob": 0.8200000000000001
         },
         {
          "index": 3373,
          "prob": 0.72
         },
         {
          "index": 3374,
          "prob": 0.25
         },
         {
          "index": 3375,
          "prob": 0.61
         },
         {
          "index": 3376,
          "prob": 0.56
         },
         {
          "index": 3377,
          "prob": 0.42
         },
         {
          "index": 3378,
          "prob": 0.64
         },
         {
          "index": 3379,
          "prob": 0.55
         },
         {
          "index": 3380,
          "prob": 0.59
         },
         {
          "index": 3381,
          "prob": 0.43
         },
         {
          "index": 3382,
          "prob": 0.77
         },
         {
          "index": 3383,
          "prob": 0.7000000000000001
         },
         {
          "index": 3384,
          "prob": 0.56
         },
         {
          "index": 3385,
          "prob": 0.8
         },
         {
          "index": 3386,
          "prob": 0.6900000000000001
         },
         {
          "index": 3387,
          "prob": 0.61
         },
         {
          "index": 3388,
          "prob": 0.76
         },
         {
          "index": 3389,
          "prob": 0.78
         },
         {
          "index": 3390,
          "prob": 0.48
         },
         {
          "index": 3391,
          "prob": 0.44
         },
         {
          "index": 3392,
          "prob": 0.66
         },
         {
          "index": 3393,
          "prob": 0.63
         },
         {
          "index": 3394,
          "prob": 0.5700000000000001
         },
         {
          "index": 3395,
          "prob": 0.52
         },
         {
          "index": 3396,
          "prob": 0.8200000000000001
         },
         {
          "index": 3397,
          "prob": 0.42
         },
         {
          "index": 3398,
          "prob": 0.72
         },
         {
          "index": 3399,
          "prob": 0.6
         },
         {
          "index": 3400,
          "prob": 0.72
         },
         {
          "index": 3401,
          "prob": 0.46
         },
         {
          "index": 3402,
          "prob": 0.77
         },
         {
          "index": 3403,
          "prob": 0.55
         },
         {
          "index": 3404,
          "prob": 0.65
         },
         {
          "index": 3405,
          "prob": 0.77
         },
         {
          "index": 3406,
          "prob": 0.7000000000000001
         },
         {
          "index": 3407,
          "prob": 0.7000000000000001
         },
         {
          "index": 3408,
          "prob": 0.76
         },
         {
          "index": 3409,
          "prob": 0.41000000000000003
         },
         {
          "index": 3410,
          "prob": 0.41000000000000003
         },
         {
          "index": 3411,
          "prob": 0.51
         },
         {
          "index": 3412,
          "prob": 0.67
         },
         {
          "index": 3413,
          "prob": 0.7000000000000001
         },
         {
          "index": 3414,
          "prob": 0.61
         },
         {
          "index": 3415,
          "prob": 0.55
         },
         {
          "index": 3416,
          "prob": 0.4
         },
         {
          "index": 3417,
          "prob": 0.58
         },
         {
          "index": 3418,
          "prob": 0.34
         },
         {
          "index": 3419,
          "prob": 0.73
         },
         {
          "index": 3420,
          "prob": 0.62
         },
         {
          "index": 3421,
          "prob": 0.37
         },
         {
          "index": 3422,
          "prob": 0.84
         },
         {
          "index": 3423,
          "prob": 0.64
         },
         {
          "index": 3424,
          "prob": 0.64
         },
         {
          "index": 3425,
          "prob": 0.45
         },
         {
          "index": 3426,
          "prob": 0.53
         },
         {
          "index": 3427,
          "prob": 0.88
         },
         {
          "index": 3428,
          "prob": 0.5
         },
         {
          "index": 3429,
          "prob": 0.8200000000000001
         },
         {
          "index": 3430,
          "prob": 0.71
         },
         {
          "index": 3431,
          "prob": 0.72
         },
         {
          "index": 3432,
          "prob": 0.8
         },
         {
          "index": 3433,
          "prob": 0.61
         },
         {
          "index": 3434,
          "prob": 0.81
         },
         {
          "index": 3435,
          "prob": 0.67
         },
         {
          "index": 3436,
          "prob": 0.47000000000000003
         },
         {
          "index": 3437,
          "prob": 0.38
         },
         {
          "index": 3438,
          "prob": 0.63
         },
         {
          "index": 3439,
          "prob": 0.77
         },
         {
          "index": 3440,
          "prob": 0.52
         },
         {
          "index": 3441,
          "prob": 0.45
         },
         {
          "index": 3442,
          "prob": 0.76
         },
         {
          "index": 3443,
          "prob": 0.71
         },
         {
          "index": 3444,
          "prob": 0.6
         },
         {
          "index": 3445,
          "prob": 0.56
         },
         {
          "index": 3446,
          "prob": 0.72
         },
         {
          "index": 3447,
          "prob": 0.7000000000000001
         },
         {
          "index": 3448,
          "prob": 0.8300000000000001
         },
         {
          "index": 3449,
          "prob": 0.74
         },
         {
          "index": 3450,
          "prob": 0.35000000000000003
         },
         {
          "index": 3451,
          "prob": 0.33
         },
         {
          "index": 3452,
          "prob": 0.72
         },
         {
          "index": 3453,
          "prob": 0.46
         },
         {
          "index": 3454,
          "prob": 0.41000000000000003
         },
         {
          "index": 3455,
          "prob": 0.48
         },
         {
          "index": 3456,
          "prob": 0.79
         },
         {
          "index": 3457,
          "prob": 0.58
         },
         {
          "index": 3458,
          "prob": 0.81
         },
         {
          "index": 3459,
          "prob": 0.51
         },
         {
          "index": 3460,
          "prob": 0.5
         },
         {
          "index": 3461,
          "prob": 0.59
         },
         {
          "index": 3462,
          "prob": 0.58
         },
         {
          "index": 3463,
          "prob": 0.56
         },
         {
          "index": 3464,
          "prob": 0.77
         },
         {
          "index": 3465,
          "prob": 0.67
         },
         {
          "index": 3466,
          "prob": 0.48
         },
         {
          "index": 3467,
          "prob": 0.64
         },
         {
          "index": 3468,
          "prob": 0.78
         },
         {
          "index": 3469,
          "prob": 0.68
         },
         {
          "index": 3470,
          "prob": 0.44
         },
         {
          "index": 3471,
          "prob": 0.74
         },
         {
          "index": 3472,
          "prob": 0.64
         },
         {
          "index": 3473,
          "prob": 0.61
         },
         {
          "index": 3474,
          "prob": 0.88
         },
         {
          "index": 3475,
          "prob": 0.6
         },
         {
          "index": 3476,
          "prob": 0.79
         },
         {
          "index": 3477,
          "prob": 0.8200000000000001
         },
         {
          "index": 3478,
          "prob": 0.89
         },
         {
          "index": 3479,
          "prob": 0.54
         },
         {
          "index": 3480,
          "prob": 0.47000000000000003
         },
         {
          "index": 3481,
          "prob": 0.87
         },
         {
          "index": 3482,
          "prob": 0.71
         },
         {
          "index": 3483,
          "prob": 0.59
         },
         {
          "index": 3484,
          "prob": 0.39
         },
         {
          "index": 3485,
          "prob": 0.34
         },
         {
          "index": 3486,
          "prob": 0.55
         },
         {
          "index": 3487,
          "prob": 0.71
         },
         {
          "index": 3488,
          "prob": 0.8300000000000001
         },
         {
          "index": 3489,
          "prob": 0.67
         },
         {
          "index": 3490,
          "prob": 0.63
         },
         {
          "index": 3491,
          "prob": 0.55
         },
         {
          "index": 3492,
          "prob": 0.46
         },
         {
          "index": 3493,
          "prob": 0.73
         },
         {
          "index": 3494,
          "prob": 0.67
         },
         {
          "index": 3495,
          "prob": 0.75
         },
         {
          "index": 3496,
          "prob": 0.17
         },
         {
          "index": 3497,
          "prob": 0.67
         },
         {
          "index": 3498,
          "prob": 0.72
         },
         {
          "index": 3499,
          "prob": 0.63
         },
         {
          "index": 3500,
          "prob": 0.6900000000000001
         },
         {
          "index": 3501,
          "prob": 0.64
         },
         {
          "index": 3502,
          "prob": 0.62
         },
         {
          "index": 3503,
          "prob": 0.54
         },
         {
          "index": 3504,
          "prob": 0.65
         },
         {
          "index": 3505,
          "prob": 0.54
         },
         {
          "index": 3506,
          "prob": 0.63
         },
         {
          "index": 3507,
          "prob": 0.74
         },
         {
          "index": 3508,
          "prob": 0.72
         },
         {
          "index": 3509,
          "prob": 0.74
         },
         {
          "index": 3510,
          "prob": 0.59
         },
         {
          "index": 3511,
          "prob": 0.59
         },
         {
          "index": 3512,
          "prob": 0.5700000000000001
         },
         {
          "index": 3513,
          "prob": 0.75
         },
         {
          "index": 3514,
          "prob": 0.47000000000000003
         },
         {
          "index": 3515,
          "prob": 0.55
         },
         {
          "index": 3516,
          "prob": 0.77
         },
         {
          "index": 3517,
          "prob": 0.84
         },
         {
          "index": 3518,
          "prob": 0.77
         },
         {
          "index": 3519,
          "prob": 0.71
         },
         {
          "index": 3520,
          "prob": 0.67
         },
         {
          "index": 3521,
          "prob": 0.8200000000000001
         },
         {
          "index": 3522,
          "prob": 0.58
         },
         {
          "index": 3523,
          "prob": 0.62
         },
         {
          "index": 3524,
          "prob": 0.64
         },
         {
          "index": 3525,
          "prob": 0.5
         },
         {
          "index": 3526,
          "prob": 0.65
         },
         {
          "index": 3527,
          "prob": 0.75
         },
         {
          "index": 3528,
          "prob": 0.79
         },
         {
          "index": 3529,
          "prob": 0.72
         },
         {
          "index": 3530,
          "prob": 0.9
         },
         {
          "index": 3531,
          "prob": 0.85
         },
         {
          "index": 3532,
          "prob": 0.59
         },
         {
          "index": 3533,
          "prob": 0.78
         },
         {
          "index": 3534,
          "prob": 0.7000000000000001
         },
         {
          "index": 3535,
          "prob": 0.51
         },
         {
          "index": 3536,
          "prob": 0.52
         },
         {
          "index": 3537,
          "prob": 0.8200000000000001
         },
         {
          "index": 3538,
          "prob": 0.62
         },
         {
          "index": 3539,
          "prob": 0.45
         },
         {
          "index": 3540,
          "prob": 0.54
         },
         {
          "index": 3541,
          "prob": 0.76
         },
         {
          "index": 3542,
          "prob": 0.44
         },
         {
          "index": 3543,
          "prob": 0.46
         },
         {
          "index": 3544,
          "prob": 0.62
         },
         {
          "index": 3545,
          "prob": 0.72
         },
         {
          "index": 3546,
          "prob": 0.63
         },
         {
          "index": 3547,
          "prob": 0.46
         },
         {
          "index": 3548,
          "prob": 0.72
         },
         {
          "index": 3549,
          "prob": 0.58
         },
         {
          "index": 3550,
          "prob": 0.61
         },
         {
          "index": 3551,
          "prob": 0.62
         },
         {
          "index": 3552,
          "prob": 0.72
         },
         {
          "index": 3553,
          "prob": 0.66
         },
         {
          "index": 3554,
          "prob": 0.72
         },
         {
          "index": 3555,
          "prob": 0.43
         },
         {
          "index": 3556,
          "prob": 0.67
         },
         {
          "index": 3557,
          "prob": 0.52
         },
         {
          "index": 3558,
          "prob": 0.9
         },
         {
          "index": 3559,
          "prob": 0.74
         },
         {
          "index": 3560,
          "prob": 0.75
         },
         {
          "index": 3561,
          "prob": 0.58
         },
         {
          "index": 3562,
          "prob": 0.4
         },
         {
          "index": 3563,
          "prob": 0.81
         },
         {
          "index": 3564,
          "prob": 0.59
         },
         {
          "index": 3565,
          "prob": 0.8300000000000001
         },
         {
          "index": 3566,
          "prob": 0.42
         },
         {
          "index": 3567,
          "prob": 0.8200000000000001
         },
         {
          "index": 3568,
          "prob": 0.46
         },
         {
          "index": 3569,
          "prob": 0.39
         },
         {
          "index": 3570,
          "prob": 0.87
         },
         {
          "index": 3571,
          "prob": 0.8
         },
         {
          "index": 3572,
          "prob": 0.72
         },
         {
          "index": 3573,
          "prob": 0.75
         },
         {
          "index": 3574,
          "prob": 0.4
         },
         {
          "index": 3575,
          "prob": 0.77
         },
         {
          "index": 3576,
          "prob": 0.62
         },
         {
          "index": 3577,
          "prob": 0.87
         },
         {
          "index": 3578,
          "prob": 0.63
         },
         {
          "index": 3579,
          "prob": 0.46
         },
         {
          "index": 3580,
          "prob": 0.86
         },
         {
          "index": 3581,
          "prob": 0.71
         },
         {
          "index": 3582,
          "prob": 0.64
         },
         {
          "index": 3583,
          "prob": 0.59
         },
         {
          "index": 3584,
          "prob": 0.81
         },
         {
          "index": 3585,
          "prob": 0.4
         },
         {
          "index": 3586,
          "prob": 0.79
         },
         {
          "index": 3587,
          "prob": 0.59
         },
         {
          "index": 3588,
          "prob": 0.6
         },
         {
          "index": 3589,
          "prob": 0.79
         },
         {
          "index": 3590,
          "prob": 0.66
         },
         {
          "index": 3591,
          "prob": 0.55
         },
         {
          "index": 3592,
          "prob": 0.79
         },
         {
          "index": 3593,
          "prob": 0.73
         },
         {
          "index": 3594,
          "prob": 0.54
         },
         {
          "index": 3595,
          "prob": 0.72
         },
         {
          "index": 3596,
          "prob": 0.71
         },
         {
          "index": 3597,
          "prob": 0.58
         },
         {
          "index": 3598,
          "prob": 0.54
         },
         {
          "index": 3599,
          "prob": 0.77
         },
         {
          "index": 3600,
          "prob": 0.64
         },
         {
          "index": 3601,
          "prob": 0.56
         },
         {
          "index": 3602,
          "prob": 0.6
         },
         {
          "index": 3603,
          "prob": 0.67
         },
         {
          "index": 3604,
          "prob": 0.71
         },
         {
          "index": 3605,
          "prob": 0.75
         },
         {
          "index": 3606,
          "prob": 0.6
         },
         {
          "index": 3607,
          "prob": 0.52
         },
         {
          "index": 3608,
          "prob": 0.7000000000000001
         },
         {
          "index": 3609,
          "prob": 0.37
         },
         {
          "index": 3610,
          "prob": 0.72
         },
         {
          "index": 3611,
          "prob": 0.51
         },
         {
          "index": 3612,
          "prob": 0.37
         },
         {
          "index": 3613,
          "prob": 0.8300000000000001
         },
         {
          "index": 3614,
          "prob": 0.43
         },
         {
          "index": 3615,
          "prob": 0.53
         },
         {
          "index": 3616,
          "prob": 0.49
         },
         {
          "index": 3617,
          "prob": 0.51
         },
         {
          "index": 3618,
          "prob": 0.63
         },
         {
          "index": 3619,
          "prob": 0.66
         },
         {
          "index": 3620,
          "prob": 0.63
         },
         {
          "index": 3621,
          "prob": 0.7000000000000001
         },
         {
          "index": 3622,
          "prob": 0.8
         },
         {
          "index": 3623,
          "prob": 0.67
         },
         {
          "index": 3624,
          "prob": 0.93
         },
         {
          "index": 3625,
          "prob": 0.79
         },
         {
          "index": 3626,
          "prob": 0.54
         },
         {
          "index": 3627,
          "prob": 0.58
         },
         {
          "index": 3628,
          "prob": 0.6
         },
         {
          "index": 3629,
          "prob": 0.77
         },
         {
          "index": 3630,
          "prob": 0.58
         },
         {
          "index": 3631,
          "prob": 0.81
         },
         {
          "index": 3632,
          "prob": 0.78
         },
         {
          "index": 3633,
          "prob": 0.45
         },
         {
          "index": 3634,
          "prob": 0.63
         },
         {
          "index": 3635,
          "prob": 0.38
         },
         {
          "index": 3636,
          "prob": 0.62
         },
         {
          "index": 3637,
          "prob": 0.7000000000000001
         },
         {
          "index": 3638,
          "prob": 0.67
         },
         {
          "index": 3639,
          "prob": 0.81
         },
         {
          "index": 3640,
          "prob": 0.74
         },
         {
          "index": 3641,
          "prob": 0.53
         },
         {
          "index": 3642,
          "prob": 0.74
         },
         {
          "index": 3643,
          "prob": 0.78
         },
         {
          "index": 3644,
          "prob": 0.68
         },
         {
          "index": 3645,
          "prob": 0.71
         },
         {
          "index": 3646,
          "prob": 0.53
         },
         {
          "index": 3647,
          "prob": 0.58
         },
         {
          "index": 3648,
          "prob": 0.32
         },
         {
          "index": 3649,
          "prob": 0.71
         },
         {
          "index": 3650,
          "prob": 0.77
         },
         {
          "index": 3651,
          "prob": 0.84
         },
         {
          "index": 3652,
          "prob": 0.92
         },
         {
          "index": 3653,
          "prob": 0.66
         },
         {
          "index": 3654,
          "prob": 0.79
         },
         {
          "index": 3655,
          "prob": 0.5
         },
         {
          "index": 3656,
          "prob": 0.65
         },
         {
          "index": 3657,
          "prob": 0.5700000000000001
         },
         {
          "index": 3658,
          "prob": 0.81
         },
         {
          "index": 3659,
          "prob": 0.49
         },
         {
          "index": 3660,
          "prob": 0.8200000000000001
         },
         {
          "index": 3661,
          "prob": 0.44
         },
         {
          "index": 3662,
          "prob": 0.35000000000000003
         },
         {
          "index": 3663,
          "prob": 0.67
         },
         {
          "index": 3664,
          "prob": 0.65
         },
         {
          "index": 3665,
          "prob": 0.68
         },
         {
          "index": 3666,
          "prob": 0.73
         },
         {
          "index": 3667,
          "prob": 0.46
         },
         {
          "index": 3668,
          "prob": 0.61
         },
         {
          "index": 3669,
          "prob": 0.77
         },
         {
          "index": 3670,
          "prob": 0.58
         },
         {
          "index": 3671,
          "prob": 0.73
         },
         {
          "index": 3672,
          "prob": 0.71
         },
         {
          "index": 3673,
          "prob": 0.5700000000000001
         },
         {
          "index": 3674,
          "prob": 0.68
         },
         {
          "index": 3675,
          "prob": 0.43
         },
         {
          "index": 3676,
          "prob": 0.68
         },
         {
          "index": 3677,
          "prob": 0.71
         },
         {
          "index": 3678,
          "prob": 0.8300000000000001
         },
         {
          "index": 3679,
          "prob": 0.63
         },
         {
          "index": 3680,
          "prob": 0.45
         },
         {
          "index": 3681,
          "prob": 0.64
         },
         {
          "index": 3682,
          "prob": 0.74
         },
         {
          "index": 3683,
          "prob": 0.6900000000000001
         },
         {
          "index": 3684,
          "prob": 0.5700000000000001
         },
         {
          "index": 3685,
          "prob": 0.71
         },
         {
          "index": 3686,
          "prob": 0.59
         },
         {
          "index": 3687,
          "prob": 0.55
         },
         {
          "index": 3688,
          "prob": 0.42
         },
         {
          "index": 3689,
          "prob": 0.62
         },
         {
          "index": 3690,
          "prob": 0.53
         },
         {
          "index": 3691,
          "prob": 0.65
         },
         {
          "index": 3692,
          "prob": 0.85
         },
         {
          "index": 3693,
          "prob": 0.51
         },
         {
          "index": 3694,
          "prob": 0.61
         },
         {
          "index": 3695,
          "prob": 0.25
         },
         {
          "index": 3696,
          "prob": 0.78
         },
         {
          "index": 3697,
          "prob": 0.53
         },
         {
          "index": 3698,
          "prob": 0.71
         },
         {
          "index": 3699,
          "prob": 0.81
         },
         {
          "index": 3700,
          "prob": 0.76
         },
         {
          "index": 3701,
          "prob": 0.58
         },
         {
          "index": 3702,
          "prob": 0.9
         },
         {
          "index": 3703,
          "prob": 0.81
         },
         {
          "index": 3704,
          "prob": 0.5700000000000001
         },
         {
          "index": 3705,
          "prob": 0.72
         },
         {
          "index": 3706,
          "prob": 0.63
         },
         {
          "index": 3707,
          "prob": 0.73
         },
         {
          "index": 3708,
          "prob": 0.64
         },
         {
          "index": 3709,
          "prob": 0.75
         },
         {
          "index": 3710,
          "prob": 0.53
         },
         {
          "index": 3711,
          "prob": 0.46
         },
         {
          "index": 3712,
          "prob": 0.7000000000000001
         },
         {
          "index": 3713,
          "prob": 0.67
         },
         {
          "index": 3714,
          "prob": 0.8300000000000001
         },
         {
          "index": 3715,
          "prob": 0.34
         },
         {
          "index": 3716,
          "prob": 0.48
         },
         {
          "index": 3717,
          "prob": 0.54
         },
         {
          "index": 3718,
          "prob": 0.43
         },
         {
          "index": 3719,
          "prob": 0.47000000000000003
         },
         {
          "index": 3720,
          "prob": 0.66
         },
         {
          "index": 3721,
          "prob": 0.52
         },
         {
          "index": 3722,
          "prob": 0.86
         },
         {
          "index": 3723,
          "prob": 0.68
         },
         {
          "index": 3724,
          "prob": 0.85
         },
         {
          "index": 3725,
          "prob": 0.79
         },
         {
          "index": 3726,
          "prob": 0.64
         },
         {
          "index": 3727,
          "prob": 0.78
         },
         {
          "index": 3728,
          "prob": 0.5700000000000001
         },
         {
          "index": 3729,
          "prob": 0.7000000000000001
         },
         {
          "index": 3730,
          "prob": 0.4
         },
         {
          "index": 3731,
          "prob": 0.29
         },
         {
          "index": 3732,
          "prob": 0.68
         },
         {
          "index": 3733,
          "prob": 0.85
         },
         {
          "index": 3734,
          "prob": 0.84
         },
         {
          "index": 3735,
          "prob": 0.6900000000000001
         },
         {
          "index": 3736,
          "prob": 0.48
         },
         {
          "index": 3737,
          "prob": 0.8200000000000001
         },
         {
          "index": 3738,
          "prob": 0.55
         },
         {
          "index": 3739,
          "prob": 0.63
         },
         {
          "index": 3740,
          "prob": 0.52
         },
         {
          "index": 3741,
          "prob": 0.64
         },
         {
          "index": 3742,
          "prob": 0.67
         },
         {
          "index": 3743,
          "prob": 0.7000000000000001
         },
         {
          "index": 3744,
          "prob": 0.7000000000000001
         },
         {
          "index": 3745,
          "prob": 0.68
         },
         {
          "index": 3746,
          "prob": 0.58
         },
         {
          "index": 3747,
          "prob": 0.32
         },
         {
          "index": 3748,
          "prob": 0.72
         },
         {
          "index": 3749,
          "prob": 0.7000000000000001
         },
         {
          "index": 3750,
          "prob": 0.68
         },
         {
          "index": 3751,
          "prob": 0.84
         },
         {
          "index": 3752,
          "prob": 0.71
         },
         {
          "index": 3753,
          "prob": 0.76
         },
         {
          "index": 3754,
          "prob": 0.38
         },
         {
          "index": 3755,
          "prob": 0.65
         },
         {
          "index": 3756,
          "prob": 0.74
         },
         {
          "index": 3757,
          "prob": 0.68
         },
         {
          "index": 3758,
          "prob": 0.58
         },
         {
          "index": 3759,
          "prob": 0.61
         },
         {
          "index": 3760,
          "prob": 0.46
         },
         {
          "index": 3761,
          "prob": 0.6900000000000001
         },
         {
          "index": 3762,
          "prob": 0.6
         },
         {
          "index": 3763,
          "prob": 0.73
         },
         {
          "index": 3764,
          "prob": 0.61
         },
         {
          "index": 3765,
          "prob": 0.65
         },
         {
          "index": 3766,
          "prob": 0.78
         },
         {
          "index": 3767,
          "prob": 0.86
         },
         {
          "index": 3768,
          "prob": 0.72
         },
         {
          "index": 3769,
          "prob": 0.51
         },
         {
          "index": 3770,
          "prob": 0.6900000000000001
         },
         {
          "index": 3771,
          "prob": 0.49
         },
         {
          "index": 3772,
          "prob": 0.55
         },
         {
          "index": 3773,
          "prob": 0.77
         },
         {
          "index": 3774,
          "prob": 0.63
         },
         {
          "index": 3775,
          "prob": 0.64
         },
         {
          "index": 3776,
          "prob": 0.46
         },
         {
          "index": 3777,
          "prob": 0.65
         },
         {
          "index": 3778,
          "prob": 0.65
         },
         {
          "index": 3779,
          "prob": 0.6
         },
         {
          "index": 3780,
          "prob": 0.27
         },
         {
          "index": 3781,
          "prob": 0.79
         },
         {
          "index": 3782,
          "prob": 0.54
         },
         {
          "index": 3783,
          "prob": 0.77
         },
         {
          "index": 3784,
          "prob": 0.6
         },
         {
          "index": 3785,
          "prob": 0.47000000000000003
         },
         {
          "index": 3786,
          "prob": 0.66
         },
         {
          "index": 3787,
          "prob": 0.71
         },
         {
          "index": 3788,
          "prob": 0.64
         },
         {
          "index": 3789,
          "prob": 0.81
         },
         {
          "index": 3790,
          "prob": 0.8200000000000001
         },
         {
          "index": 3791,
          "prob": 0.68
         },
         {
          "index": 3792,
          "prob": 0.85
         },
         {
          "index": 3793,
          "prob": 0.8300000000000001
         },
         {
          "index": 3794,
          "prob": 0.61
         },
         {
          "index": 3795,
          "prob": 0.49
         },
         {
          "index": 3796,
          "prob": 0.61
         },
         {
          "index": 3797,
          "prob": 0.8
         },
         {
          "index": 3798,
          "prob": 0.68
         },
         {
          "index": 3799,
          "prob": 0.76
         },
         {
          "index": 3800,
          "prob": 0.75
         },
         {
          "index": 3801,
          "prob": 0.58
         },
         {
          "index": 3802,
          "prob": 0.76
         },
         {
          "index": 3803,
          "prob": 0.6
         },
         {
          "index": 3804,
          "prob": 0.81
         },
         {
          "index": 3805,
          "prob": 0.71
         },
         {
          "index": 3806,
          "prob": 0.44
         },
         {
          "index": 3807,
          "prob": 0.6900000000000001
         },
         {
          "index": 3808,
          "prob": 0.7000000000000001
         },
         {
          "index": 3809,
          "prob": 0.3
         },
         {
          "index": 3810,
          "prob": 0.63
         },
         {
          "index": 3811,
          "prob": 0.6900000000000001
         },
         {
          "index": 3812,
          "prob": 0.77
         },
         {
          "index": 3813,
          "prob": 0.5700000000000001
         },
         {
          "index": 3814,
          "prob": 0.56
         },
         {
          "index": 3815,
          "prob": 0.68
         },
         {
          "index": 3816,
          "prob": 0.61
         },
         {
          "index": 3817,
          "prob": 0.66
         },
         {
          "index": 3818,
          "prob": 0.74
         },
         {
          "index": 3819,
          "prob": 0.76
         },
         {
          "index": 3820,
          "prob": 0.72
         },
         {
          "index": 3821,
          "prob": 0.38
         },
         {
          "index": 3822,
          "prob": 0.52
         },
         {
          "index": 3823,
          "prob": 0.78
         },
         {
          "index": 3824,
          "prob": 0.36
         },
         {
          "index": 3825,
          "prob": 0.74
         },
         {
          "index": 3826,
          "prob": 0.55
         },
         {
          "index": 3827,
          "prob": 0.65
         },
         {
          "index": 3828,
          "prob": 0.4
         },
         {
          "index": 3829,
          "prob": 0.68
         },
         {
          "index": 3830,
          "prob": 0.54
         },
         {
          "index": 3831,
          "prob": 0.5
         },
         {
          "index": 3832,
          "prob": 0.39
         },
         {
          "index": 3833,
          "prob": 0.63
         },
         {
          "index": 3834,
          "prob": 0.61
         },
         {
          "index": 3835,
          "prob": 0.44
         },
         {
          "index": 3836,
          "prob": 0.6900000000000001
         },
         {
          "index": 3837,
          "prob": 0.62
         },
         {
          "index": 3838,
          "prob": 0.71
         },
         {
          "index": 3839,
          "prob": 0.53
         },
         {
          "index": 3840,
          "prob": 0.46
         },
         {
          "index": 3841,
          "prob": 0.39
         },
         {
          "index": 3842,
          "prob": 0.72
         },
         {
          "index": 3843,
          "prob": 0.77
         },
         {
          "index": 3844,
          "prob": 0.52
         },
         {
          "index": 3845,
          "prob": 0.53
         },
         {
          "index": 3846,
          "prob": 0.38
         },
         {
          "index": 3847,
          "prob": 0.79
         },
         {
          "index": 3848,
          "prob": 0.8200000000000001
         },
         {
          "index": 3849,
          "prob": 0.4
         },
         {
          "index": 3850,
          "prob": 0.67
         },
         {
          "index": 3851,
          "prob": 0.5
         },
         {
          "index": 3852,
          "prob": 0.72
         },
         {
          "index": 3853,
          "prob": 0.68
         },
         {
          "index": 3854,
          "prob": 0.6900000000000001
         },
         {
          "index": 3855,
          "prob": 0.74
         },
         {
          "index": 3856,
          "prob": 0.46
         },
         {
          "index": 3857,
          "prob": 0.46
         },
         {
          "index": 3858,
          "prob": 0.51
         },
         {
          "index": 3859,
          "prob": 0.79
         },
         {
          "index": 3860,
          "prob": 0.61
         },
         {
          "index": 3861,
          "prob": 0.7000000000000001
         },
         {
          "index": 3862,
          "prob": 0.47000000000000003
         },
         {
          "index": 3863,
          "prob": 0.45
         },
         {
          "index": 3864,
          "prob": 0.47000000000000003
         },
         {
          "index": 3865,
          "prob": 0.56
         },
         {
          "index": 3866,
          "prob": 0.68
         },
         {
          "index": 3867,
          "prob": 0.65
         },
         {
          "index": 3868,
          "prob": 0.48
         },
         {
          "index": 3869,
          "prob": 0.62
         },
         {
          "index": 3870,
          "prob": 0.74
         },
         {
          "index": 3871,
          "prob": 0.64
         },
         {
          "index": 3872,
          "prob": 0.47000000000000003
         },
         {
          "index": 3873,
          "prob": 0.53
         },
         {
          "index": 3874,
          "prob": 0.63
         },
         {
          "index": 3875,
          "prob": 0.48
         },
         {
          "index": 3876,
          "prob": 0.67
         },
         {
          "index": 3877,
          "prob": 0.48
         },
         {
          "index": 3878,
          "prob": 0.53
         },
         {
          "index": 3879,
          "prob": 0.54
         },
         {
          "index": 3880,
          "prob": 0.67
         },
         {
          "index": 3881,
          "prob": 0.76
         },
         {
          "index": 3882,
          "prob": 0.78
         },
         {
          "index": 3883,
          "prob": 0.58
         },
         {
          "index": 3884,
          "prob": 0.77
         },
         {
          "index": 3885,
          "prob": 0.72
         },
         {
          "index": 3886,
          "prob": 0.8300000000000001
         },
         {
          "index": 3887,
          "prob": 0.72
         },
         {
          "index": 3888,
          "prob": 0.5
         },
         {
          "index": 3889,
          "prob": 0.8
         },
         {
          "index": 3890,
          "prob": 0.88
         },
         {
          "index": 3891,
          "prob": 0.73
         },
         {
          "index": 3892,
          "prob": 0.85
         },
         {
          "index": 3893,
          "prob": 0.56
         },
         {
          "index": 3894,
          "prob": 0.65
         },
         {
          "index": 3895,
          "prob": 0.88
         },
         {
          "index": 3896,
          "prob": 0.46
         },
         {
          "index": 3897,
          "prob": 0.48
         },
         {
          "index": 3898,
          "prob": 0.49
         },
         {
          "index": 3899,
          "prob": 0.6900000000000001
         },
         {
          "index": 3900,
          "prob": 0.65
         },
         {
          "index": 3901,
          "prob": 0.56
         },
         {
          "index": 3902,
          "prob": 0.71
         },
         {
          "index": 3903,
          "prob": 0.54
         },
         {
          "index": 3904,
          "prob": 0.5700000000000001
         },
         {
          "index": 3905,
          "prob": 0.65
         },
         {
          "index": 3906,
          "prob": 0.68
         },
         {
          "index": 3907,
          "prob": 0.56
         },
         {
          "index": 3908,
          "prob": 0.56
         },
         {
          "index": 3909,
          "prob": 0.78
         },
         {
          "index": 3910,
          "prob": 0.68
         },
         {
          "index": 3911,
          "prob": 0.67
         },
         {
          "index": 3912,
          "prob": 0.76
         },
         {
          "index": 3913,
          "prob": 0.56
         },
         {
          "index": 3914,
          "prob": 0.33
         },
         {
          "index": 3915,
          "prob": 0.46
         },
         {
          "index": 3916,
          "prob": 0.5
         },
         {
          "index": 3917,
          "prob": 0.8
         },
         {
          "index": 3918,
          "prob": 0.84
         },
         {
          "index": 3919,
          "prob": 0.8300000000000001
         },
         {
          "index": 3920,
          "prob": 0.75
         },
         {
          "index": 3921,
          "prob": 0.79
         },
         {
          "index": 3922,
          "prob": 0.78
         },
         {
          "index": 3923,
          "prob": 0.49
         },
         {
          "index": 3924,
          "prob": 0.19
         },
         {
          "index": 3925,
          "prob": 0.48
         },
         {
          "index": 3926,
          "prob": 0.46
         },
         {
          "index": 3927,
          "prob": 0.7000000000000001
         },
         {
          "index": 3928,
          "prob": 0.56
         },
         {
          "index": 3929,
          "prob": 0.56
         },
         {
          "index": 3930,
          "prob": 0.73
         },
         {
          "index": 3931,
          "prob": 0.74
         },
         {
          "index": 3932,
          "prob": 0.72
         },
         {
          "index": 3933,
          "prob": 0.63
         },
         {
          "index": 3934,
          "prob": 0.53
         },
         {
          "index": 3935,
          "prob": 0.49
         },
         {
          "index": 3936,
          "prob": 0.51
         },
         {
          "index": 3937,
          "prob": 0.59
         },
         {
          "index": 3938,
          "prob": 0.44
         },
         {
          "index": 3939,
          "prob": 0.37
         },
         {
          "index": 3940,
          "prob": 0.73
         },
         {
          "index": 3941,
          "prob": 0.68
         },
         {
          "index": 3942,
          "prob": 0.47000000000000003
         },
         {
          "index": 3943,
          "prob": 0.7000000000000001
         },
         {
          "index": 3944,
          "prob": 0.81
         },
         {
          "index": 3945,
          "prob": 0.7000000000000001
         },
         {
          "index": 3946,
          "prob": 0.55
         },
         {
          "index": 3947,
          "prob": 0.68
         },
         {
          "index": 3948,
          "prob": 0.75
         },
         {
          "index": 3949,
          "prob": 0.75
         },
         {
          "index": 3950,
          "prob": 0.65
         },
         {
          "index": 3951,
          "prob": 0.76
         },
         {
          "index": 3952,
          "prob": 0.52
         },
         {
          "index": 3953,
          "prob": 0.61
         },
         {
          "index": 3954,
          "prob": 0.49
         },
         {
          "index": 3955,
          "prob": 0.85
         },
         {
          "index": 3956,
          "prob": 0.41000000000000003
         },
         {
          "index": 3957,
          "prob": 0.76
         },
         {
          "index": 3958,
          "prob": 0.36
         },
         {
          "index": 3959,
          "prob": 0.8
         },
         {
          "index": 3960,
          "prob": 0.61
         },
         {
          "index": 3961,
          "prob": 0.75
         },
         {
          "index": 3962,
          "prob": 0.58
         },
         {
          "index": 3963,
          "prob": 0.37
         },
         {
          "index": 3964,
          "prob": 0.81
         },
         {
          "index": 3965,
          "prob": 0.68
         },
         {
          "index": 3966,
          "prob": 0.41000000000000003
         },
         {
          "index": 3967,
          "prob": 0.79
         },
         {
          "index": 3968,
          "prob": 0.62
         },
         {
          "index": 3969,
          "prob": 0.51
         },
         {
          "index": 3970,
          "prob": 0.77
         },
         {
          "index": 3971,
          "prob": 0.47000000000000003
         },
         {
          "index": 3972,
          "prob": 0.39
         },
         {
          "index": 3973,
          "prob": 0.54
         },
         {
          "index": 3974,
          "prob": 0.58
         },
         {
          "index": 3975,
          "prob": 0.73
         },
         {
          "index": 3976,
          "prob": 0.78
         },
         {
          "index": 3977,
          "prob": 0.8
         },
         {
          "index": 3978,
          "prob": 0.6900000000000001
         },
         {
          "index": 3979,
          "prob": 0.75
         },
         {
          "index": 3980,
          "prob": 0.7000000000000001
         },
         {
          "index": 3981,
          "prob": 0.65
         },
         {
          "index": 3982,
          "prob": 0.59
         },
         {
          "index": 3983,
          "prob": 0.59
         },
         {
          "index": 3984,
          "prob": 0.39
         },
         {
          "index": 3985,
          "prob": 0.81
         },
         {
          "index": 3986,
          "prob": 0.88
         },
         {
          "index": 3987,
          "prob": 0.7000000000000001
         },
         {
          "index": 3988,
          "prob": 0.56
         },
         {
          "index": 3989,
          "prob": 0.56
         },
         {
          "index": 3990,
          "prob": 0.66
         },
         {
          "index": 3991,
          "prob": 0.75
         },
         {
          "index": 3992,
          "prob": 0.9
         },
         {
          "index": 3993,
          "prob": 0.65
         },
         {
          "index": 3994,
          "prob": 0.76
         },
         {
          "index": 3995,
          "prob": 0.74
         },
         {
          "index": 3996,
          "prob": 0.66
         },
         {
          "index": 3997,
          "prob": 0.33
         },
         {
          "index": 3998,
          "prob": 0.52
         },
         {
          "index": 3999,
          "prob": 0.74
         },
         {
          "index": 4000,
          "prob": 0.5
         },
         {
          "index": 4001,
          "prob": 0.67
         },
         {
          "index": 4002,
          "prob": 0.59
         },
         {
          "index": 4003,
          "prob": 0.78
         },
         {
          "index": 4004,
          "prob": 0.8
         },
         {
          "index": 4005,
          "prob": 0.51
         },
         {
          "index": 4006,
          "prob": 0.59
         },
         {
          "index": 4007,
          "prob": 0.59
         },
         {
          "index": 4008,
          "prob": 0.64
         },
         {
          "index": 4009,
          "prob": 0.78
         },
         {
          "index": 4010,
          "prob": 0.66
         },
         {
          "index": 4011,
          "prob": 0.63
         },
         {
          "index": 4012,
          "prob": 0.64
         },
         {
          "index": 4013,
          "prob": 0.8200000000000001
         },
         {
          "index": 4014,
          "prob": 0.64
         },
         {
          "index": 4015,
          "prob": 0.71
         },
         {
          "index": 4016,
          "prob": 0.34
         },
         {
          "index": 4017,
          "prob": 0.56
         },
         {
          "index": 4018,
          "prob": 0.68
         },
         {
          "index": 4019,
          "prob": 0.5700000000000001
         },
         {
          "index": 4020,
          "prob": 0.7000000000000001
         },
         {
          "index": 4021,
          "prob": 0.55
         },
         {
          "index": 4022,
          "prob": 0.73
         },
         {
          "index": 4023,
          "prob": 0.54
         },
         {
          "index": 4024,
          "prob": 0.47000000000000003
         },
         {
          "index": 4025,
          "prob": 0.53
         },
         {
          "index": 4026,
          "prob": 0.71
         },
         {
          "index": 4027,
          "prob": 0.58
         },
         {
          "index": 4028,
          "prob": 0.46
         },
         {
          "index": 4029,
          "prob": 0.58
         },
         {
          "index": 4030,
          "prob": 0.52
         },
         {
          "index": 4031,
          "prob": 0.77
         },
         {
          "index": 4032,
          "prob": 0.77
         },
         {
          "index": 4033,
          "prob": 0.68
         },
         {
          "index": 4034,
          "prob": 0.84
         },
         {
          "index": 4035,
          "prob": 0.68
         },
         {
          "index": 4036,
          "prob": 0.72
         },
         {
          "index": 4037,
          "prob": 0.58
         },
         {
          "index": 4038,
          "prob": 0.74
         },
         {
          "index": 4039,
          "prob": 0.73
         },
         {
          "index": 4040,
          "prob": 0.29
         },
         {
          "index": 4041,
          "prob": 0.73
         },
         {
          "index": 4042,
          "prob": 0.33
         },
         {
          "index": 4043,
          "prob": 0.5700000000000001
         },
         {
          "index": 4044,
          "prob": 0.78
         },
         {
          "index": 4045,
          "prob": 0.55
         },
         {
          "index": 4046,
          "prob": 0.84
         },
         {
          "index": 4047,
          "prob": 0.67
         },
         {
          "index": 4048,
          "prob": 0.45
         },
         {
          "index": 4049,
          "prob": 0.72
         },
         {
          "index": 4050,
          "prob": 0.6
         },
         {
          "index": 4051,
          "prob": 0.92
         },
         {
          "index": 4052,
          "prob": 0.56
         },
         {
          "index": 4053,
          "prob": 0.59
         },
         {
          "index": 4054,
          "prob": 0.58
         },
         {
          "index": 4055,
          "prob": 0.84
         },
         {
          "index": 4056,
          "prob": 0.73
         },
         {
          "index": 4057,
          "prob": 0.89
         },
         {
          "index": 4058,
          "prob": 0.72
         },
         {
          "index": 4059,
          "prob": 0.75
         },
         {
          "index": 4060,
          "prob": 0.41000000000000003
         },
         {
          "index": 4061,
          "prob": 0.51
         },
         {
          "index": 4062,
          "prob": 0.41000000000000003
         },
         {
          "index": 4063,
          "prob": 0.63
         },
         {
          "index": 4064,
          "prob": 0.6900000000000001
         },
         {
          "index": 4065,
          "prob": 0.54
         },
         {
          "index": 4066,
          "prob": 0.63
         },
         {
          "index": 4067,
          "prob": 0.7000000000000001
         },
         {
          "index": 4068,
          "prob": 0.61
         },
         {
          "index": 4069,
          "prob": 0.68
         },
         {
          "index": 4070,
          "prob": 0.44
         },
         {
          "index": 4071,
          "prob": 0.41000000000000003
         },
         {
          "index": 4072,
          "prob": 0.76
         },
         {
          "index": 4073,
          "prob": 0.49
         },
         {
          "index": 4074,
          "prob": 0.9
         },
         {
          "index": 4075,
          "prob": 0.45
         },
         {
          "index": 4076,
          "prob": 0.42
         },
         {
          "index": 4077,
          "prob": 0.7000000000000001
         },
         {
          "index": 4078,
          "prob": 0.66
         },
         {
          "index": 4079,
          "prob": 0.7000000000000001
         },
         {
          "index": 4080,
          "prob": 0.46
         },
         {
          "index": 4081,
          "prob": 0.5700000000000001
         },
         {
          "index": 4082,
          "prob": 0.6
         },
         {
          "index": 4083,
          "prob": 0.29
         },
         {
          "index": 4084,
          "prob": 0.62
         },
         {
          "index": 4085,
          "prob": 0.7000000000000001
         },
         {
          "index": 4086,
          "prob": 0.51
         },
         {
          "index": 4087,
          "prob": 0.53
         },
         {
          "index": 4088,
          "prob": 0.76
         },
         {
          "index": 4089,
          "prob": 0.9500000000000001
         },
         {
          "index": 4090,
          "prob": 0.8
         },
         {
          "index": 4091,
          "prob": 0.54
         },
         {
          "index": 4092,
          "prob": 0.89
         },
         {
          "index": 4093,
          "prob": 0.8200000000000001
         },
         {
          "index": 4094,
          "prob": 0.75
         },
         {
          "index": 4095,
          "prob": 0.67
         },
         {
          "index": 4096,
          "prob": 0.47000000000000003
         },
         {
          "index": 4097,
          "prob": 0.62
         },
         {
          "index": 4098,
          "prob": 0.45
         },
         {
          "index": 4099,
          "prob": 0.75
         },
         {
          "index": 4100,
          "prob": 0.52
         },
         {
          "index": 4101,
          "prob": 0.79
         },
         {
          "index": 4102,
          "prob": 0.45
         },
         {
          "index": 4103,
          "prob": 0.58
         },
         {
          "index": 4104,
          "prob": 0.47000000000000003
         },
         {
          "index": 4105,
          "prob": 0.7000000000000001
         },
         {
          "index": 4106,
          "prob": 0.8
         },
         {
          "index": 4107,
          "prob": 0.63
         },
         {
          "index": 4108,
          "prob": 0.6
         },
         {
          "index": 4109,
          "prob": 0.43
         },
         {
          "index": 4110,
          "prob": 0.5
         },
         {
          "index": 4111,
          "prob": 0.56
         },
         {
          "index": 4112,
          "prob": 0.47000000000000003
         },
         {
          "index": 4113,
          "prob": 0.74
         },
         {
          "index": 4114,
          "prob": 0.53
         },
         {
          "index": 4115,
          "prob": 0.5700000000000001
         },
         {
          "index": 4116,
          "prob": 0.66
         },
         {
          "index": 4117,
          "prob": 0.73
         },
         {
          "index": 4118,
          "prob": 0.27
         },
         {
          "index": 4119,
          "prob": 0.51
         },
         {
          "index": 4120,
          "prob": 0.7000000000000001
         },
         {
          "index": 4121,
          "prob": 0.65
         },
         {
          "index": 4122,
          "prob": 0.67
         },
         {
          "index": 4123,
          "prob": 0.68
         },
         {
          "index": 4124,
          "prob": 0.28
         },
         {
          "index": 4125,
          "prob": 0.66
         },
         {
          "index": 4126,
          "prob": 0.66
         },
         {
          "index": 4127,
          "prob": 0.75
         },
         {
          "index": 4128,
          "prob": 0.7000000000000001
         },
         {
          "index": 4129,
          "prob": 0.41000000000000003
         },
         {
          "index": 4130,
          "prob": 0.79
         },
         {
          "index": 4131,
          "prob": 0.76
         },
         {
          "index": 4132,
          "prob": 0.85
         },
         {
          "index": 4133,
          "prob": 0.73
         },
         {
          "index": 4134,
          "prob": 0.42
         },
         {
          "index": 4135,
          "prob": 0.47000000000000003
         },
         {
          "index": 4136,
          "prob": 0.4
         },
         {
          "index": 4137,
          "prob": 0.53
         },
         {
          "index": 4138,
          "prob": 0.77
         },
         {
          "index": 4139,
          "prob": 0.58
         },
         {
          "index": 4140,
          "prob": 0.68
         },
         {
          "index": 4141,
          "prob": 0.42
         },
         {
          "index": 4142,
          "prob": 0.6900000000000001
         },
         {
          "index": 4143,
          "prob": 0.58
         },
         {
          "index": 4144,
          "prob": 0.65
         },
         {
          "index": 4145,
          "prob": 0.75
         },
         {
          "index": 4146,
          "prob": 0.72
         },
         {
          "index": 4147,
          "prob": 0.32
         },
         {
          "index": 4148,
          "prob": 0.66
         },
         {
          "index": 4149,
          "prob": 0.97
         },
         {
          "index": 4150,
          "prob": 0.55
         },
         {
          "index": 4151,
          "prob": 0.63
         },
         {
          "index": 4152,
          "prob": 0.74
         },
         {
          "index": 4153,
          "prob": 0.68
         },
         {
          "index": 4154,
          "prob": 0.6
         },
         {
          "index": 4155,
          "prob": 0.8
         },
         {
          "index": 4156,
          "prob": 0.8300000000000001
         },
         {
          "index": 4157,
          "prob": 0.56
         },
         {
          "index": 4158,
          "prob": 0.62
         },
         {
          "index": 4159,
          "prob": 0.42
         },
         {
          "index": 4160,
          "prob": 0.6900000000000001
         },
         {
          "index": 4161,
          "prob": 0.78
         },
         {
          "index": 4162,
          "prob": 0.59
         },
         {
          "index": 4163,
          "prob": 0.86
         },
         {
          "index": 4164,
          "prob": 0.65
         },
         {
          "index": 4165,
          "prob": 0.39
         },
         {
          "index": 4166,
          "prob": 0.71
         },
         {
          "index": 4167,
          "prob": 0.75
         },
         {
          "index": 4168,
          "prob": 0.76
         },
         {
          "index": 4169,
          "prob": 0.75
         },
         {
          "index": 4170,
          "prob": 0.61
         },
         {
          "index": 4171,
          "prob": 0.86
         },
         {
          "index": 4172,
          "prob": 0.46
         },
         {
          "index": 4173,
          "prob": 0.6
         },
         {
          "index": 4174,
          "prob": 0.54
         },
         {
          "index": 4175,
          "prob": 0.84
         },
         {
          "index": 4176,
          "prob": 0.48
         },
         {
          "index": 4177,
          "prob": 0.42
         },
         {
          "index": 4178,
          "prob": 0.72
         },
         {
          "index": 4179,
          "prob": 0.66
         },
         {
          "index": 4180,
          "prob": 0.63
         },
         {
          "index": 4181,
          "prob": 0.52
         },
         {
          "index": 4182,
          "prob": 0.76
         },
         {
          "index": 4183,
          "prob": 0.77
         },
         {
          "index": 4184,
          "prob": 0.72
         },
         {
          "index": 4185,
          "prob": 0.61
         },
         {
          "index": 4186,
          "prob": 0.78
         },
         {
          "index": 4187,
          "prob": 0.77
         },
         {
          "index": 4188,
          "prob": 0.8300000000000001
         },
         {
          "index": 4189,
          "prob": 0.68
         },
         {
          "index": 4190,
          "prob": 0.51
         },
         {
          "index": 4191,
          "prob": 0.55
         },
         {
          "index": 4192,
          "prob": 0.68
         },
         {
          "index": 4193,
          "prob": 0.58
         },
         {
          "index": 4194,
          "prob": 0.62
         },
         {
          "index": 4195,
          "prob": 0.73
         },
         {
          "index": 4196,
          "prob": 0.78
         },
         {
          "index": 4197,
          "prob": 0.75
         },
         {
          "index": 4198,
          "prob": 0.5700000000000001
         },
         {
          "index": 4199,
          "prob": 0.6900000000000001
         },
         {
          "index": 4200,
          "prob": 0.59
         },
         {
          "index": 4201,
          "prob": 0.78
         },
         {
          "index": 4202,
          "prob": 0.62
         },
         {
          "index": 4203,
          "prob": 0.59
         },
         {
          "index": 4204,
          "prob": 0.67
         },
         {
          "index": 4205,
          "prob": 0.89
         },
         {
          "index": 4206,
          "prob": 0.67
         },
         {
          "index": 4207,
          "prob": 0.58
         },
         {
          "index": 4208,
          "prob": 0.8200000000000001
         },
         {
          "index": 4209,
          "prob": 0.61
         },
         {
          "index": 4210,
          "prob": 0.48
         },
         {
          "index": 4211,
          "prob": 0.81
         },
         {
          "index": 4212,
          "prob": 0.72
         },
         {
          "index": 4213,
          "prob": 0.54
         },
         {
          "index": 4214,
          "prob": 0.73
         },
         {
          "index": 4215,
          "prob": 0.42
         },
         {
          "index": 4216,
          "prob": 0.79
         },
         {
          "index": 4217,
          "prob": 0.45
         },
         {
          "index": 4218,
          "prob": 0.62
         },
         {
          "index": 4219,
          "prob": 0.74
         },
         {
          "index": 4220,
          "prob": 0.5
         },
         {
          "index": 4221,
          "prob": 0.7000000000000001
         },
         {
          "index": 4222,
          "prob": 0.64
         },
         {
          "index": 4223,
          "prob": 0.8300000000000001
         },
         {
          "index": 4224,
          "prob": 0.62
         },
         {
          "index": 4225,
          "prob": 0.77
         },
         {
          "index": 4226,
          "prob": 0.56
         },
         {
          "index": 4227,
          "prob": 0.81
         },
         {
          "index": 4228,
          "prob": 0.8300000000000001
         },
         {
          "index": 4229,
          "prob": 0.29
         },
         {
          "index": 4230,
          "prob": 0.45
         },
         {
          "index": 4231,
          "prob": 0.62
         },
         {
          "index": 4232,
          "prob": 0.5
         },
         {
          "index": 4233,
          "prob": 0.64
         },
         {
          "index": 4234,
          "prob": 0.61
         },
         {
          "index": 4235,
          "prob": 0.91
         },
         {
          "index": 4236,
          "prob": 0.81
         },
         {
          "index": 4237,
          "prob": 0.65
         },
         {
          "index": 4238,
          "prob": 0.49
         },
         {
          "index": 4239,
          "prob": 0.74
         },
         {
          "index": 4240,
          "prob": 0.73
         },
         {
          "index": 4241,
          "prob": 0.41000000000000003
         },
         {
          "index": 4242,
          "prob": 0.61
         },
         {
          "index": 4243,
          "prob": 0.64
         },
         {
          "index": 4244,
          "prob": 0.48
         },
         {
          "index": 4245,
          "prob": 0.54
         },
         {
          "index": 4246,
          "prob": 0.6
         },
         {
          "index": 4247,
          "prob": 0.76
         },
         {
          "index": 4248,
          "prob": 0.53
         },
         {
          "index": 4249,
          "prob": 0.8
         },
         {
          "index": 4250,
          "prob": 0.33
         },
         {
          "index": 4251,
          "prob": 0.6900000000000001
         },
         {
          "index": 4252,
          "prob": 0.44
         },
         {
          "index": 4253,
          "prob": 0.51
         },
         {
          "index": 4254,
          "prob": 0.74
         },
         {
          "index": 4255,
          "prob": 0.58
         },
         {
          "index": 4256,
          "prob": 0.7000000000000001
         },
         {
          "index": 4257,
          "prob": 0.78
         },
         {
          "index": 4258,
          "prob": 0.8300000000000001
         },
         {
          "index": 4259,
          "prob": 0.64
         },
         {
          "index": 4260,
          "prob": 0.71
         },
         {
          "index": 4261,
          "prob": 0.65
         },
         {
          "index": 4262,
          "prob": 0.8200000000000001
         },
         {
          "index": 4263,
          "prob": 0.62
         },
         {
          "index": 4264,
          "prob": 0.59
         },
         {
          "index": 4265,
          "prob": 0.67
         },
         {
          "index": 4266,
          "prob": 0.62
         },
         {
          "index": 4267,
          "prob": 0.51
         },
         {
          "index": 4268,
          "prob": 0.72
         },
         {
          "index": 4269,
          "prob": 0.89
         },
         {
          "index": 4270,
          "prob": 0.47000000000000003
         },
         {
          "index": 4271,
          "prob": 0.78
         },
         {
          "index": 4272,
          "prob": 0.63
         },
         {
          "index": 4273,
          "prob": 0.62
         },
         {
          "index": 4274,
          "prob": 0.78
         },
         {
          "index": 4275,
          "prob": 0.81
         },
         {
          "index": 4276,
          "prob": 0.49
         },
         {
          "index": 4277,
          "prob": 0.65
         },
         {
          "index": 4278,
          "prob": 0.59
         },
         {
          "index": 4279,
          "prob": 0.66
         },
         {
          "index": 4280,
          "prob": 0.58
         },
         {
          "index": 4281,
          "prob": 0.48
         },
         {
          "index": 4282,
          "prob": 0.54
         },
         {
          "index": 4283,
          "prob": 0.51
         },
         {
          "index": 4284,
          "prob": 0.8300000000000001
         },
         {
          "index": 4285,
          "prob": 0.8
         },
         {
          "index": 4286,
          "prob": 0.38
         },
         {
          "index": 4287,
          "prob": 0.5700000000000001
         },
         {
          "index": 4288,
          "prob": 0.73
         },
         {
          "index": 4289,
          "prob": 0.76
         },
         {
          "index": 4290,
          "prob": 0.7000000000000001
         },
         {
          "index": 4291,
          "prob": 0.67
         },
         {
          "index": 4292,
          "prob": 0.6
         },
         {
          "index": 4293,
          "prob": 0.77
         },
         {
          "index": 4294,
          "prob": 0.73
         },
         {
          "index": 4295,
          "prob": 0.78
         },
         {
          "index": 4296,
          "prob": 0.84
         },
         {
          "index": 4297,
          "prob": 0.71
         },
         {
          "index": 4298,
          "prob": 0.76
         },
         {
          "index": 4299,
          "prob": 0.5
         },
         {
          "index": 4300,
          "prob": 0.56
         },
         {
          "index": 4301,
          "prob": 0.76
         },
         {
          "index": 4302,
          "prob": 0.5
         },
         {
          "index": 4303,
          "prob": 0.59
         },
         {
          "index": 4304,
          "prob": 0.51
         },
         {
          "index": 4305,
          "prob": 0.55
         },
         {
          "index": 4306,
          "prob": 0.58
         },
         {
          "index": 4307,
          "prob": 0.5700000000000001
         },
         {
          "index": 4308,
          "prob": 0.37
         },
         {
          "index": 4309,
          "prob": 0.72
         },
         {
          "index": 4310,
          "prob": 0.5700000000000001
         },
         {
          "index": 4311,
          "prob": 0.8200000000000001
         },
         {
          "index": 4312,
          "prob": 0.68
         },
         {
          "index": 4313,
          "prob": 0.31
         },
         {
          "index": 4314,
          "prob": 0.58
         },
         {
          "index": 4315,
          "prob": 0.63
         },
         {
          "index": 4316,
          "prob": 0.58
         },
         {
          "index": 4317,
          "prob": 0.55
         },
         {
          "index": 4318,
          "prob": 0.55
         },
         {
          "index": 4319,
          "prob": 0.72
         },
         {
          "index": 4320,
          "prob": 0.93
         },
         {
          "index": 4321,
          "prob": 0.5
         },
         {
          "index": 4322,
          "prob": 0.62
         },
         {
          "index": 4323,
          "prob": 0.77
         },
         {
          "index": 4324,
          "prob": 0.71
         },
         {
          "index": 4325,
          "prob": 0.58
         },
         {
          "index": 4326,
          "prob": 0.86
         },
         {
          "index": 4327,
          "prob": 0.45
         },
         {
          "index": 4328,
          "prob": 0.61
         },
         {
          "index": 4329,
          "prob": 0.77
         },
         {
          "index": 4330,
          "prob": 0.8300000000000001
         },
         {
          "index": 4331,
          "prob": 0.84
         },
         {
          "index": 4332,
          "prob": 0.74
         },
         {
          "index": 4333,
          "prob": 0.71
         },
         {
          "index": 4334,
          "prob": 0.5700000000000001
         },
         {
          "index": 4335,
          "prob": 0.72
         },
         {
          "index": 4336,
          "prob": 0.77
         },
         {
          "index": 4337,
          "prob": 0.68
         },
         {
          "index": 4338,
          "prob": 0.73
         },
         {
          "index": 4339,
          "prob": 0.52
         },
         {
          "index": 4340,
          "prob": 0.79
         },
         {
          "index": 4341,
          "prob": 0.73
         },
         {
          "index": 4342,
          "prob": 0.43
         },
         {
          "index": 4343,
          "prob": 0.45
         },
         {
          "index": 4344,
          "prob": 0.71
         },
         {
          "index": 4345,
          "prob": 0.66
         },
         {
          "index": 4346,
          "prob": 0.46
         },
         {
          "index": 4347,
          "prob": 0.59
         },
         {
          "index": 4348,
          "prob": 0.67
         },
         {
          "index": 4349,
          "prob": 0.74
         },
         {
          "index": 4350,
          "prob": 0.47000000000000003
         },
         {
          "index": 4351,
          "prob": 0.44
         },
         {
          "index": 4352,
          "prob": 0.56
         },
         {
          "index": 4353,
          "prob": 0.65
         },
         {
          "index": 4354,
          "prob": 0.66
         },
         {
          "index": 4355,
          "prob": 0.71
         },
         {
          "index": 4356,
          "prob": 0.46
         },
         {
          "index": 4357,
          "prob": 0.63
         },
         {
          "index": 4358,
          "prob": 0.62
         },
         {
          "index": 4359,
          "prob": 0.47000000000000003
         },
         {
          "index": 4360,
          "prob": 0.61
         },
         {
          "index": 4361,
          "prob": 0.32
         },
         {
          "index": 4362,
          "prob": 0.72
         },
         {
          "index": 4363,
          "prob": 0.37
         },
         {
          "index": 4364,
          "prob": 0.73
         },
         {
          "index": 4365,
          "prob": 0.62
         },
         {
          "index": 4366,
          "prob": 0.7000000000000001
         },
         {
          "index": 4367,
          "prob": 0.28
         },
         {
          "index": 4368,
          "prob": 0.75
         },
         {
          "index": 4369,
          "prob": 0.58
         },
         {
          "index": 4370,
          "prob": 0.85
         },
         {
          "index": 4371,
          "prob": 0.39
         },
         {
          "index": 4372,
          "prob": 0.58
         },
         {
          "index": 4373,
          "prob": 0.27
         },
         {
          "index": 4374,
          "prob": 0.8300000000000001
         },
         {
          "index": 4375,
          "prob": 0.88
         },
         {
          "index": 4376,
          "prob": 0.58
         },
         {
          "index": 4377,
          "prob": 0.43
         },
         {
          "index": 4378,
          "prob": 0.46
         },
         {
          "index": 4379,
          "prob": 0.49
         },
         {
          "index": 4380,
          "prob": 0.89
         },
         {
          "index": 4381,
          "prob": 0.51
         },
         {
          "index": 4382,
          "prob": 0.51
         },
         {
          "index": 4383,
          "prob": 0.38
         },
         {
          "index": 4384,
          "prob": 0.38
         },
         {
          "index": 4385,
          "prob": 0.6
         },
         {
          "index": 4386,
          "prob": 0.52
         },
         {
          "index": 4387,
          "prob": 0.42
         },
         {
          "index": 4388,
          "prob": 0.49
         },
         {
          "index": 4389,
          "prob": 0.8300000000000001
         },
         {
          "index": 4390,
          "prob": 0.51
         },
         {
          "index": 4391,
          "prob": 0.62
         },
         {
          "index": 4392,
          "prob": 0.79
         },
         {
          "index": 4393,
          "prob": 0.68
         },
         {
          "index": 4394,
          "prob": 0.53
         },
         {
          "index": 4395,
          "prob": 0.4
         },
         {
          "index": 4396,
          "prob": 0.76
         },
         {
          "index": 4397,
          "prob": 0.67
         },
         {
          "index": 4398,
          "prob": 0.8200000000000001
         },
         {
          "index": 4399,
          "prob": 0.42
         },
         {
          "index": 4400,
          "prob": 0.67
         },
         {
          "index": 4401,
          "prob": 0.87
         },
         {
          "index": 4402,
          "prob": 0.73
         },
         {
          "index": 4403,
          "prob": 0.6900000000000001
         },
         {
          "index": 4404,
          "prob": 0.7000000000000001
         },
         {
          "index": 4405,
          "prob": 0.71
         },
         {
          "index": 4406,
          "prob": 0.68
         },
         {
          "index": 4407,
          "prob": 0.89
         },
         {
          "index": 4408,
          "prob": 0.5700000000000001
         },
         {
          "index": 4409,
          "prob": 0.75
         },
         {
          "index": 4410,
          "prob": 0.87
         },
         {
          "index": 4411,
          "prob": 0.67
         },
         {
          "index": 4412,
          "prob": 0.86
         },
         {
          "index": 4413,
          "prob": 0.66
         },
         {
          "index": 4414,
          "prob": 0.71
         },
         {
          "index": 4415,
          "prob": 0.76
         },
         {
          "index": 4416,
          "prob": 0.64
         },
         {
          "index": 4417,
          "prob": 0.51
         },
         {
          "index": 4418,
          "prob": 0.54
         },
         {
          "index": 4419,
          "prob": 0.66
         },
         {
          "index": 4420,
          "prob": 0.44
         },
         {
          "index": 4421,
          "prob": 0.74
         },
         {
          "index": 4422,
          "prob": 0.73
         },
         {
          "index": 4423,
          "prob": 0.75
         },
         {
          "index": 4424,
          "prob": 0.53
         },
         {
          "index": 4425,
          "prob": 0.73
         },
         {
          "index": 4426,
          "prob": 0.42
         },
         {
          "index": 4427,
          "prob": 0.54
         },
         {
          "index": 4428,
          "prob": 0.43
         },
         {
          "index": 4429,
          "prob": 0.17
         },
         {
          "index": 4430,
          "prob": 0.68
         },
         {
          "index": 4431,
          "prob": 0.67
         },
         {
          "index": 4432,
          "prob": 0.54
         },
         {
          "index": 4433,
          "prob": 0.55
         },
         {
          "index": 4434,
          "prob": 0.58
         },
         {
          "index": 4435,
          "prob": 0.29
         },
         {
          "index": 4436,
          "prob": 0.5700000000000001
         },
         {
          "index": 4437,
          "prob": 0.51
         },
         {
          "index": 4438,
          "prob": 0.8200000000000001
         },
         {
          "index": 4439,
          "prob": 0.51
         },
         {
          "index": 4440,
          "prob": 0.73
         },
         {
          "index": 4441,
          "prob": 0.72
         },
         {
          "index": 4442,
          "prob": 0.72
         },
         {
          "index": 4443,
          "prob": 0.78
         },
         {
          "index": 4444,
          "prob": 0.5
         },
         {
          "index": 4445,
          "prob": 0.76
         },
         {
          "index": 4446,
          "prob": 0.44
         },
         {
          "index": 4447,
          "prob": 0.63
         },
         {
          "index": 4448,
          "prob": 0.72
         },
         {
          "index": 4449,
          "prob": 0.41000000000000003
         },
         {
          "index": 4450,
          "prob": 0.84
         },
         {
          "index": 4451,
          "prob": 0.39
         },
         {
          "index": 4452,
          "prob": 0.56
         },
         {
          "index": 4453,
          "prob": 0.36
         },
         {
          "index": 4454,
          "prob": 0.8
         },
         {
          "index": 4455,
          "prob": 0.52
         },
         {
          "index": 4456,
          "prob": 0.6900000000000001
         },
         {
          "index": 4457,
          "prob": 0.75
         },
         {
          "index": 4458,
          "prob": 0.28
         },
         {
          "index": 4459,
          "prob": 0.64
         },
         {
          "index": 4460,
          "prob": 0.75
         },
         {
          "index": 4461,
          "prob": 0.6900000000000001
         },
         {
          "index": 4462,
          "prob": 0.68
         },
         {
          "index": 4463,
          "prob": 0.77
         },
         {
          "index": 4464,
          "prob": 0.4
         },
         {
          "index": 4465,
          "prob": 0.37
         },
         {
          "index": 4466,
          "prob": 0.79
         },
         {
          "index": 4467,
          "prob": 0.9
         },
         {
          "index": 4468,
          "prob": 0.46
         },
         {
          "index": 4469,
          "prob": 0.65
         },
         {
          "index": 4470,
          "prob": 0.67
         },
         {
          "index": 4471,
          "prob": 0.52
         },
         {
          "index": 4472,
          "prob": 0.75
         },
         {
          "index": 4473,
          "prob": 0.68
         },
         {
          "index": 4474,
          "prob": 0.5700000000000001
         },
         {
          "index": 4475,
          "prob": 0.44
         },
         {
          "index": 4476,
          "prob": 0.6900000000000001
         },
         {
          "index": 4477,
          "prob": 0.7000000000000001
         },
         {
          "index": 4478,
          "prob": 0.72
         },
         {
          "index": 4479,
          "prob": 0.88
         },
         {
          "index": 4480,
          "prob": 0.9
         },
         {
          "index": 4481,
          "prob": 0.67
         },
         {
          "index": 4482,
          "prob": 0.81
         },
         {
          "index": 4483,
          "prob": 0.52
         },
         {
          "index": 4484,
          "prob": 0.58
         },
         {
          "index": 4485,
          "prob": 0.81
         },
         {
          "index": 4486,
          "prob": 0.73
         },
         {
          "index": 4487,
          "prob": 0.71
         },
         {
          "index": 4488,
          "prob": 0.76
         },
         {
          "index": 4489,
          "prob": 0.58
         },
         {
          "index": 4490,
          "prob": 0.54
         },
         {
          "index": 4491,
          "prob": 0.78
         },
         {
          "index": 4492,
          "prob": 0.56
         },
         {
          "index": 4493,
          "prob": 0.78
         },
         {
          "index": 4494,
          "prob": 0.62
         },
         {
          "index": 4495,
          "prob": 0.58
         },
         {
          "index": 4496,
          "prob": 0.76
         },
         {
          "index": 4497,
          "prob": 0.5700000000000001
         },
         {
          "index": 4498,
          "prob": 0.71
         },
         {
          "index": 4499,
          "prob": 0.84
         },
         {
          "index": 4500,
          "prob": 0.54
         },
         {
          "index": 4501,
          "prob": 0.65
         },
         {
          "index": 4502,
          "prob": 0.54
         },
         {
          "index": 4503,
          "prob": 0.47000000000000003
         },
         {
          "index": 4504,
          "prob": 0.72
         },
         {
          "index": 4505,
          "prob": 0.54
         },
         {
          "index": 4506,
          "prob": 0.51
         },
         {
          "index": 4507,
          "prob": 0.79
         },
         {
          "index": 4508,
          "prob": 0.63
         },
         {
          "index": 4509,
          "prob": 0.7000000000000001
         },
         {
          "index": 4510,
          "prob": 0.65
         },
         {
          "index": 4511,
          "prob": 0.58
         },
         {
          "index": 4512,
          "prob": 0.77
         },
         {
          "index": 4513,
          "prob": 0.61
         },
         {
          "index": 4514,
          "prob": 0.31
         },
         {
          "index": 4515,
          "prob": 0.31
         },
         {
          "index": 4516,
          "prob": 0.66
         },
         {
          "index": 4517,
          "prob": 0.55
         },
         {
          "index": 4518,
          "prob": 0.67
         },
         {
          "index": 4519,
          "prob": 0.71
         },
         {
          "index": 4520,
          "prob": 0.61
         },
         {
          "index": 4521,
          "prob": 0.66
         },
         {
          "index": 4522,
          "prob": 0.6900000000000001
         },
         {
          "index": 4523,
          "prob": 0.86
         },
         {
          "index": 4524,
          "prob": 0.6900000000000001
         },
         {
          "index": 4525,
          "prob": 0.81
         },
         {
          "index": 4526,
          "prob": 0.5
         },
         {
          "index": 4527,
          "prob": 0.96
         },
         {
          "index": 4528,
          "prob": 0.6
         },
         {
          "index": 4529,
          "prob": 0.49
         },
         {
          "index": 4530,
          "prob": 0.76
         },
         {
          "index": 4531,
          "prob": 0.65
         },
         {
          "index": 4532,
          "prob": 0.46
         },
         {
          "index": 4533,
          "prob": 0.63
         },
         {
          "index": 4534,
          "prob": 0.72
         },
         {
          "index": 4535,
          "prob": 0.66
         },
         {
          "index": 4536,
          "prob": 0.47000000000000003
         },
         {
          "index": 4537,
          "prob": 0.76
         },
         {
          "index": 4538,
          "prob": 0.84
         },
         {
          "index": 4539,
          "prob": 0.59
         },
         {
          "index": 4540,
          "prob": 0.77
         },
         {
          "index": 4541,
          "prob": 0.56
         },
         {
          "index": 4542,
          "prob": 0.75
         },
         {
          "index": 4543,
          "prob": 0.67
         },
         {
          "index": 4544,
          "prob": 0.9
         },
         {
          "index": 4545,
          "prob": 0.33
         },
         {
          "index": 4546,
          "prob": 0.41000000000000003
         },
         {
          "index": 4547,
          "prob": 0.77
         },
         {
          "index": 4548,
          "prob": 0.75
         },
         {
          "index": 4549,
          "prob": 0.6
         },
         {
          "index": 4550,
          "prob": 0.67
         },
         {
          "index": 4551,
          "prob": 0.26
         },
         {
          "index": 4552,
          "prob": 0.88
         },
         {
          "index": 4553,
          "prob": 0.64
         },
         {
          "index": 4554,
          "prob": 0.43
         },
         {
          "index": 4555,
          "prob": 0.77
         },
         {
          "index": 4556,
          "prob": 0.5700000000000001
         },
         {
          "index": 4557,
          "prob": 0.76
         },
         {
          "index": 4558,
          "prob": 0.49
         },
         {
          "index": 4559,
          "prob": 0.64
         },
         {
          "index": 4560,
          "prob": 0.68
         },
         {
          "index": 4561,
          "prob": 0.71
         },
         {
          "index": 4562,
          "prob": 0.63
         },
         {
          "index": 4563,
          "prob": 0.68
         },
         {
          "index": 4564,
          "prob": 0.76
         },
         {
          "index": 4565,
          "prob": 0.44
         },
         {
          "index": 4566,
          "prob": 0.74
         },
         {
          "index": 4567,
          "prob": 0.62
         },
         {
          "index": 4568,
          "prob": 0.81
         },
         {
          "index": 4569,
          "prob": 0.74
         },
         {
          "index": 4570,
          "prob": 0.39
         },
         {
          "index": 4571,
          "prob": 0.75
         },
         {
          "index": 4572,
          "prob": 0.75
         },
         {
          "index": 4573,
          "prob": 0.66
         },
         {
          "index": 4574,
          "prob": 0.63
         },
         {
          "index": 4575,
          "prob": 0.65
         },
         {
          "index": 4576,
          "prob": 0.49
         },
         {
          "index": 4577,
          "prob": 0.86
         },
         {
          "index": 4578,
          "prob": 0.71
         },
         {
          "index": 4579,
          "prob": 0.65
         },
         {
          "index": 4580,
          "prob": 0.31
         },
         {
          "index": 4581,
          "prob": 0.6900000000000001
         },
         {
          "index": 4582,
          "prob": 0.58
         },
         {
          "index": 4583,
          "prob": 0.76
         },
         {
          "index": 4584,
          "prob": 0.7000000000000001
         },
         {
          "index": 4585,
          "prob": 0.46
         },
         {
          "index": 4586,
          "prob": 0.45
         },
         {
          "index": 4587,
          "prob": 0.59
         },
         {
          "index": 4588,
          "prob": 0.5700000000000001
         },
         {
          "index": 4589,
          "prob": 0.92
         },
         {
          "index": 4590,
          "prob": 0.74
         },
         {
          "index": 4591,
          "prob": 0.63
         },
         {
          "index": 4592,
          "prob": 0.6900000000000001
         },
         {
          "index": 4593,
          "prob": 0.62
         },
         {
          "index": 4594,
          "prob": 0.79
         },
         {
          "index": 4595,
          "prob": 0.85
         },
         {
          "index": 4596,
          "prob": 0.8200000000000001
         },
         {
          "index": 4597,
          "prob": 0.44
         },
         {
          "index": 4598,
          "prob": 0.77
         },
         {
          "index": 4599,
          "prob": 0.38
         },
         {
          "index": 4600,
          "prob": 0.46
         },
         {
          "index": 4601,
          "prob": 0.53
         },
         {
          "index": 4602,
          "prob": 0.55
         },
         {
          "index": 4603,
          "prob": 0.74
         },
         {
          "index": 4604,
          "prob": 0.63
         },
         {
          "index": 4605,
          "prob": 0.71
         },
         {
          "index": 4606,
          "prob": 0.63
         },
         {
          "index": 4607,
          "prob": 0.73
         },
         {
          "index": 4608,
          "prob": 0.81
         },
         {
          "index": 4609,
          "prob": 0.67
         },
         {
          "index": 4610,
          "prob": 0.72
         },
         {
          "index": 4611,
          "prob": 0.54
         },
         {
          "index": 4612,
          "prob": 0.72
         },
         {
          "index": 4613,
          "prob": 0.7000000000000001
         },
         {
          "index": 4614,
          "prob": 0.73
         },
         {
          "index": 4615,
          "prob": 0.87
         },
         {
          "index": 4616,
          "prob": 0.54
         },
         {
          "index": 4617,
          "prob": 0.65
         },
         {
          "index": 4618,
          "prob": 0.65
         },
         {
          "index": 4619,
          "prob": 0.6900000000000001
         },
         {
          "index": 4620,
          "prob": 0.59
         },
         {
          "index": 4621,
          "prob": 0.7000000000000001
         },
         {
          "index": 4622,
          "prob": 0.9
         },
         {
          "index": 4623,
          "prob": 0.6900000000000001
         },
         {
          "index": 4624,
          "prob": 0.86
         },
         {
          "index": 4625,
          "prob": 0.77
         },
         {
          "index": 4626,
          "prob": 0.65
         },
         {
          "index": 4627,
          "prob": 0.74
         },
         {
          "index": 4628,
          "prob": 0.76
         },
         {
          "index": 4629,
          "prob": 0.46
         },
         {
          "index": 4630,
          "prob": 0.88
         },
         {
          "index": 4631,
          "prob": 0.72
         },
         {
          "index": 4632,
          "prob": 0.59
         },
         {
          "index": 4633,
          "prob": 0.49
         },
         {
          "index": 4634,
          "prob": 0.86
         },
         {
          "index": 4635,
          "prob": 0.28
         },
         {
          "index": 4636,
          "prob": 0.68
         },
         {
          "index": 4637,
          "prob": 0.46
         },
         {
          "index": 4638,
          "prob": 0.6900000000000001
         },
         {
          "index": 4639,
          "prob": 0.84
         },
         {
          "index": 4640,
          "prob": 0.77
         },
         {
          "index": 4641,
          "prob": 0.58
         },
         {
          "index": 4642,
          "prob": 0.77
         },
         {
          "index": 4643,
          "prob": 0.73
         },
         {
          "index": 4644,
          "prob": 0.6900000000000001
         },
         {
          "index": 4645,
          "prob": 0.52
         },
         {
          "index": 4646,
          "prob": 0.45
         },
         {
          "index": 4647,
          "prob": 0.72
         },
         {
          "index": 4648,
          "prob": 0.5700000000000001
         },
         {
          "index": 4649,
          "prob": 0.5700000000000001
         },
         {
          "index": 4650,
          "prob": 0.5700000000000001
         },
         {
          "index": 4651,
          "prob": 0.77
         },
         {
          "index": 4652,
          "prob": 0.55
         },
         {
          "index": 4653,
          "prob": 0.52
         },
         {
          "index": 4654,
          "prob": 0.71
         },
         {
          "index": 4655,
          "prob": 0.75
         },
         {
          "index": 4656,
          "prob": 0.81
         },
         {
          "index": 4657,
          "prob": 0.84
         },
         {
          "index": 4658,
          "prob": 0.76
         },
         {
          "index": 4659,
          "prob": 0.61
         },
         {
          "index": 4660,
          "prob": 0.73
         },
         {
          "index": 4661,
          "prob": 0.54
         },
         {
          "index": 4662,
          "prob": 0.87
         },
         {
          "index": 4663,
          "prob": 0.67
         },
         {
          "index": 4664,
          "prob": 0.66
         },
         {
          "index": 4665,
          "prob": 0.51
         },
         {
          "index": 4666,
          "prob": 0.66
         },
         {
          "index": 4667,
          "prob": 0.62
         },
         {
          "index": 4668,
          "prob": 0.9
         },
         {
          "index": 4669,
          "prob": 0.81
         },
         {
          "index": 4670,
          "prob": 0.74
         },
         {
          "index": 4671,
          "prob": 0.68
         },
         {
          "index": 4672,
          "prob": 0.8
         },
         {
          "index": 4673,
          "prob": 0.46
         },
         {
          "index": 4674,
          "prob": 0.67
         },
         {
          "index": 4675,
          "prob": 0.75
         },
         {
          "index": 4676,
          "prob": 0.61
         },
         {
          "index": 4677,
          "prob": 0.43
         },
         {
          "index": 4678,
          "prob": 0.81
         },
         {
          "index": 4679,
          "prob": 0.6
         },
         {
          "index": 4680,
          "prob": 0.6900000000000001
         },
         {
          "index": 4681,
          "prob": 0.5700000000000001
         },
         {
          "index": 4682,
          "prob": 0.51
         },
         {
          "index": 4683,
          "prob": 0.74
         },
         {
          "index": 4684,
          "prob": 0.9
         },
         {
          "index": 4685,
          "prob": 0.48
         },
         {
          "index": 4686,
          "prob": 0.49
         },
         {
          "index": 4687,
          "prob": 0.86
         },
         {
          "index": 4688,
          "prob": 0.72
         },
         {
          "index": 4689,
          "prob": 0.8300000000000001
         },
         {
          "index": 4690,
          "prob": 0.68
         },
         {
          "index": 4691,
          "prob": 0.43
         },
         {
          "index": 4692,
          "prob": 0.74
         },
         {
          "index": 4693,
          "prob": 0.74
         },
         {
          "index": 4694,
          "prob": 0.8200000000000001
         },
         {
          "index": 4695,
          "prob": 0.42
         },
         {
          "index": 4696,
          "prob": 0.42
         },
         {
          "index": 4697,
          "prob": 0.4
         },
         {
          "index": 4698,
          "prob": 0.48
         },
         {
          "index": 4699,
          "prob": 0.53
         },
         {
          "index": 4700,
          "prob": 0.53
         },
         {
          "index": 4701,
          "prob": 0.86
         },
         {
          "index": 4702,
          "prob": 0.63
         },
         {
          "index": 4703,
          "prob": 0.6
         },
         {
          "index": 4704,
          "prob": 0.8300000000000001
         },
         {
          "index": 4705,
          "prob": 0.65
         },
         {
          "index": 4706,
          "prob": 0.51
         },
         {
          "index": 4707,
          "prob": 0.67
         },
         {
          "index": 4708,
          "prob": 0.6900000000000001
         },
         {
          "index": 4709,
          "prob": 0.74
         },
         {
          "index": 4710,
          "prob": 0.61
         },
         {
          "index": 4711,
          "prob": 0.76
         },
         {
          "index": 4712,
          "prob": 0.5700000000000001
         },
         {
          "index": 4713,
          "prob": 0.62
         },
         {
          "index": 4714,
          "prob": 0.68
         },
         {
          "index": 4715,
          "prob": 0.61
         },
         {
          "index": 4716,
          "prob": 0.81
         },
         {
          "index": 4717,
          "prob": 0.56
         },
         {
          "index": 4718,
          "prob": 0.8300000000000001
         },
         {
          "index": 4719,
          "prob": 0.39
         },
         {
          "index": 4720,
          "prob": 0.66
         },
         {
          "index": 4721,
          "prob": 0.59
         },
         {
          "index": 4722,
          "prob": 0.6
         },
         {
          "index": 4723,
          "prob": 0.74
         },
         {
          "index": 4724,
          "prob": 0.65
         },
         {
          "index": 4725,
          "prob": 0.91
         },
         {
          "index": 4726,
          "prob": 0.49
         },
         {
          "index": 4727,
          "prob": 0.73
         },
         {
          "index": 4728,
          "prob": 0.56
         },
         {
          "index": 4729,
          "prob": 0.73
         },
         {
          "index": 4730,
          "prob": 0.46
         },
         {
          "index": 4731,
          "prob": 0.48
         },
         {
          "index": 4732,
          "prob": 0.7000000000000001
         },
         {
          "index": 4733,
          "prob": 0.87
         },
         {
          "index": 4734,
          "prob": 0.84
         },
         {
          "index": 4735,
          "prob": 0.65
         },
         {
          "index": 4736,
          "prob": 0.76
         },
         {
          "index": 4737,
          "prob": 0.41000000000000003
         },
         {
          "index": 4738,
          "prob": 0.75
         },
         {
          "index": 4739,
          "prob": 0.67
         },
         {
          "index": 4740,
          "prob": 0.67
         },
         {
          "index": 4741,
          "prob": 0.47000000000000003
         },
         {
          "index": 4742,
          "prob": 0.72
         },
         {
          "index": 4743,
          "prob": 0.66
         },
         {
          "index": 4744,
          "prob": 0.6
         },
         {
          "index": 4745,
          "prob": 0.36
         },
         {
          "index": 4746,
          "prob": 0.41000000000000003
         },
         {
          "index": 4747,
          "prob": 0.79
         },
         {
          "index": 4748,
          "prob": 0.5
         },
         {
          "index": 4749,
          "prob": 0.56
         },
         {
          "index": 4750,
          "prob": 0.73
         },
         {
          "index": 4751,
          "prob": 0.71
         },
         {
          "index": 4752,
          "prob": 0.44
         },
         {
          "index": 4753,
          "prob": 0.7000000000000001
         },
         {
          "index": 4754,
          "prob": 0.75
         },
         {
          "index": 4755,
          "prob": 0.48
         },
         {
          "index": 4756,
          "prob": 0.64
         },
         {
          "index": 4757,
          "prob": 0.54
         },
         {
          "index": 4758,
          "prob": 0.63
         },
         {
          "index": 4759,
          "prob": 0.65
         },
         {
          "index": 4760,
          "prob": 0.68
         },
         {
          "index": 4761,
          "prob": 0.67
         },
         {
          "index": 4762,
          "prob": 0.66
         },
         {
          "index": 4763,
          "prob": 0.78
         },
         {
          "index": 4764,
          "prob": 0.56
         },
         {
          "index": 4765,
          "prob": 0.71
         },
         {
          "index": 4766,
          "prob": 0.51
         },
         {
          "index": 4767,
          "prob": 0.61
         },
         {
          "index": 4768,
          "prob": 0.6900000000000001
         },
         {
          "index": 4769,
          "prob": 0.72
         },
         {
          "index": 4770,
          "prob": 0.62
         },
         {
          "index": 4771,
          "prob": 0.71
         },
         {
          "index": 4772,
          "prob": 0.51
         },
         {
          "index": 4773,
          "prob": 0.77
         },
         {
          "index": 4774,
          "prob": 0.44
         },
         {
          "index": 4775,
          "prob": 0.54
         },
         {
          "index": 4776,
          "prob": 0.62
         },
         {
          "index": 4777,
          "prob": 0.66
         },
         {
          "index": 4778,
          "prob": 0.48
         },
         {
          "index": 4779,
          "prob": 0.55
         },
         {
          "index": 4780,
          "prob": 0.6
         },
         {
          "index": 4781,
          "prob": 0.87
         },
         {
          "index": 4782,
          "prob": 0.5700000000000001
         },
         {
          "index": 4783,
          "prob": 0.63
         },
         {
          "index": 4784,
          "prob": 0.63
         },
         {
          "index": 4785,
          "prob": 0.54
         },
         {
          "index": 4786,
          "prob": 0.7000000000000001
         },
         {
          "index": 4787,
          "prob": 0.43
         },
         {
          "index": 4788,
          "prob": 0.72
         },
         {
          "index": 4789,
          "prob": 0.52
         },
         {
          "index": 4790,
          "prob": 0.62
         },
         {
          "index": 4791,
          "prob": 0.62
         },
         {
          "index": 4792,
          "prob": 0.46
         },
         {
          "index": 4793,
          "prob": 0.72
         },
         {
          "index": 4794,
          "prob": 0.74
         },
         {
          "index": 4795,
          "prob": 0.85
         },
         {
          "index": 4796,
          "prob": 0.77
         },
         {
          "index": 4797,
          "prob": 0.76
         },
         {
          "index": 4798,
          "prob": 0.5
         },
         {
          "index": 4799,
          "prob": 0.55
         },
         {
          "index": 4800,
          "prob": 0.34
         },
         {
          "index": 4801,
          "prob": 0.76
         },
         {
          "index": 4802,
          "prob": 0.63
         },
         {
          "index": 4803,
          "prob": 0.79
         },
         {
          "index": 4804,
          "prob": 0.33
         },
         {
          "index": 4805,
          "prob": 0.25
         },
         {
          "index": 4806,
          "prob": 0.66
         },
         {
          "index": 4807,
          "prob": 0.84
         },
         {
          "index": 4808,
          "prob": 0.52
         },
         {
          "index": 4809,
          "prob": 0.79
         },
         {
          "index": 4810,
          "prob": 0.32
         },
         {
          "index": 4811,
          "prob": 0.51
         },
         {
          "index": 4812,
          "prob": 0.71
         },
         {
          "index": 4813,
          "prob": 0.49
         },
         {
          "index": 4814,
          "prob": 0.85
         },
         {
          "index": 4815,
          "prob": 0.76
         },
         {
          "index": 4816,
          "prob": 0.53
         },
         {
          "index": 4817,
          "prob": 0.52
         },
         {
          "index": 4818,
          "prob": 0.64
         },
         {
          "index": 4819,
          "prob": 0.74
         },
         {
          "index": 4820,
          "prob": 0.6
         },
         {
          "index": 4821,
          "prob": 0.85
         },
         {
          "index": 4822,
          "prob": 0.67
         },
         {
          "index": 4823,
          "prob": 0.54
         },
         {
          "index": 4824,
          "prob": 0.6900000000000001
         },
         {
          "index": 4825,
          "prob": 0.51
         },
         {
          "index": 4826,
          "prob": 0.78
         },
         {
          "index": 4827,
          "prob": 0.46
         },
         {
          "index": 4828,
          "prob": 0.59
         },
         {
          "index": 4829,
          "prob": 0.93
         },
         {
          "index": 4830,
          "prob": 0.72
         },
         {
          "index": 4831,
          "prob": 0.46
         },
         {
          "index": 4832,
          "prob": 0.4
         },
         {
          "index": 4833,
          "prob": 0.41000000000000003
         },
         {
          "index": 4834,
          "prob": 0.6900000000000001
         },
         {
          "index": 4835,
          "prob": 0.52
         },
         {
          "index": 4836,
          "prob": 0.76
         },
         {
          "index": 4837,
          "prob": 0.68
         },
         {
          "index": 4838,
          "prob": 0.65
         },
         {
          "index": 4839,
          "prob": 0.44
         },
         {
          "index": 4840,
          "prob": 0.56
         },
         {
          "index": 4841,
          "prob": 0.44
         },
         {
          "index": 4842,
          "prob": 0.34
         },
         {
          "index": 4843,
          "prob": 0.56
         },
         {
          "index": 4844,
          "prob": 0.79
         },
         {
          "index": 4845,
          "prob": 0.7000000000000001
         },
         {
          "index": 4846,
          "prob": 0.72
         },
         {
          "index": 4847,
          "prob": 0.67
         },
         {
          "index": 4848,
          "prob": 0.73
         },
         {
          "index": 4849,
          "prob": 0.44
         },
         {
          "index": 4850,
          "prob": 0.65
         },
         {
          "index": 4851,
          "prob": 0.6
         },
         {
          "index": 4852,
          "prob": 0.93
         },
         {
          "index": 4853,
          "prob": 0.72
         },
         {
          "index": 4854,
          "prob": 0.68
         },
         {
          "index": 4855,
          "prob": 0.7000000000000001
         },
         {
          "index": 4856,
          "prob": 0.64
         },
         {
          "index": 4857,
          "prob": 0.8200000000000001
         },
         {
          "index": 4858,
          "prob": 0.5
         },
         {
          "index": 4859,
          "prob": 0.29
         },
         {
          "index": 4860,
          "prob": 0.55
         },
         {
          "index": 4861,
          "prob": 0.54
         },
         {
          "index": 4862,
          "prob": 0.67
         },
         {
          "index": 4863,
          "prob": 0.5700000000000001
         },
         {
          "index": 4864,
          "prob": 0.52
         },
         {
          "index": 4865,
          "prob": 0.8
         },
         {
          "index": 4866,
          "prob": 0.5
         },
         {
          "index": 4867,
          "prob": 0.5
         },
         {
          "index": 4868,
          "prob": 0.54
         },
         {
          "index": 4869,
          "prob": 0.48
         },
         {
          "index": 4870,
          "prob": 0.64
         },
         {
          "index": 4871,
          "prob": 0.47000000000000003
         },
         {
          "index": 4872,
          "prob": 0.36
         },
         {
          "index": 4873,
          "prob": 0.56
         },
         {
          "index": 4874,
          "prob": 0.62
         },
         {
          "index": 4875,
          "prob": 0.59
         },
         {
          "index": 4876,
          "prob": 0.72
         },
         {
          "index": 4877,
          "prob": 0.77
         },
         {
          "index": 4878,
          "prob": 0.7000000000000001
         },
         {
          "index": 4879,
          "prob": 0.33
         },
         {
          "index": 4880,
          "prob": 0.65
         },
         {
          "index": 4881,
          "prob": 0.48
         },
         {
          "index": 4882,
          "prob": 0.38
         },
         {
          "index": 4883,
          "prob": 0.61
         },
         {
          "index": 4884,
          "prob": 0.42
         },
         {
          "index": 4885,
          "prob": 0.49
         },
         {
          "index": 4886,
          "prob": 0.61
         },
         {
          "index": 4887,
          "prob": 0.61
         },
         {
          "index": 4888,
          "prob": 0.79
         },
         {
          "index": 4889,
          "prob": 0.59
         },
         {
          "index": 4890,
          "prob": 0.54
         },
         {
          "index": 4891,
          "prob": 0.38
         },
         {
          "index": 4892,
          "prob": 0.71
         },
         {
          "index": 4893,
          "prob": 0.32
         },
         {
          "index": 4894,
          "prob": 0.62
         },
         {
          "index": 4895,
          "prob": 0.73
         },
         {
          "index": 4896,
          "prob": 0.61
         },
         {
          "index": 4897,
          "prob": 0.61
         },
         {
          "index": 4898,
          "prob": 0.92
         },
         {
          "index": 4899,
          "prob": 0.6
         },
         {
          "index": 4900,
          "prob": 0.73
         },
         {
          "index": 4901,
          "prob": 0.6900000000000001
         },
         {
          "index": 4902,
          "prob": 0.73
         },
         {
          "index": 4903,
          "prob": 0.68
         },
         {
          "index": 4904,
          "prob": 0.56
         },
         {
          "index": 4905,
          "prob": 0.76
         },
         {
          "index": 4906,
          "prob": 0.6900000000000001
         },
         {
          "index": 4907,
          "prob": 0.76
         },
         {
          "index": 4908,
          "prob": 0.75
         },
         {
          "index": 4909,
          "prob": 0.6900000000000001
         },
         {
          "index": 4910,
          "prob": 0.91
         },
         {
          "index": 4911,
          "prob": 0.58
         },
         {
          "index": 4912,
          "prob": 0.75
         },
         {
          "index": 4913,
          "prob": 0.71
         },
         {
          "index": 4914,
          "prob": 0.49
         },
         {
          "index": 4915,
          "prob": 0.56
         },
         {
          "index": 4916,
          "prob": 0.59
         },
         {
          "index": 4917,
          "prob": 0.47000000000000003
         },
         {
          "index": 4918,
          "prob": 0.73
         },
         {
          "index": 4919,
          "prob": 0.6
         },
         {
          "index": 4920,
          "prob": 0.71
         },
         {
          "index": 4921,
          "prob": 0.76
         },
         {
          "index": 4922,
          "prob": 0.61
         },
         {
          "index": 4923,
          "prob": 0.77
         },
         {
          "index": 4924,
          "prob": 0.74
         },
         {
          "index": 4925,
          "prob": 0.71
         },
         {
          "index": 4926,
          "prob": 0.87
         },
         {
          "index": 4927,
          "prob": 0.84
         },
         {
          "index": 4928,
          "prob": 0.58
         },
         {
          "index": 4929,
          "prob": 0.67
         },
         {
          "index": 4930,
          "prob": 0.62
         },
         {
          "index": 4931,
          "prob": 0.54
         },
         {
          "index": 4932,
          "prob": 0.75
         },
         {
          "index": 4933,
          "prob": 0.8200000000000001
         },
         {
          "index": 4934,
          "prob": 0.44
         },
         {
          "index": 4935,
          "prob": 0.47000000000000003
         },
         {
          "index": 4936,
          "prob": 0.75
         },
         {
          "index": 4937,
          "prob": 0.49
         },
         {
          "index": 4938,
          "prob": 0.51
         },
         {
          "index": 4939,
          "prob": 0.75
         },
         {
          "index": 4940,
          "prob": 0.71
         },
         {
          "index": 4941,
          "prob": 0.47000000000000003
         },
         {
          "index": 4942,
          "prob": 0.5700000000000001
         },
         {
          "index": 4943,
          "prob": 0.58
         },
         {
          "index": 4944,
          "prob": 0.47000000000000003
         },
         {
          "index": 4945,
          "prob": 0.6900000000000001
         },
         {
          "index": 4946,
          "prob": 0.51
         },
         {
          "index": 4947,
          "prob": 0.6900000000000001
         },
         {
          "index": 4948,
          "prob": 0.59
         },
         {
          "index": 4949,
          "prob": 0.73
         },
         {
          "index": 4950,
          "prob": 0.42
         },
         {
          "index": 4951,
          "prob": 0.4
         },
         {
          "index": 4952,
          "prob": 0.8300000000000001
         },
         {
          "index": 4953,
          "prob": 0.74
         },
         {
          "index": 4954,
          "prob": 0.6900000000000001
         },
         {
          "index": 4955,
          "prob": 0.59
         },
         {
          "index": 4956,
          "prob": 0.51
         },
         {
          "index": 4957,
          "prob": 0.5
         },
         {
          "index": 4958,
          "prob": 0.45
         },
         {
          "index": 4959,
          "prob": 0.74
         },
         {
          "index": 4960,
          "prob": 0.52
         },
         {
          "index": 4961,
          "prob": 0.6
         },
         {
          "index": 4962,
          "prob": 0.47000000000000003
         },
         {
          "index": 4963,
          "prob": 0.6
         },
         {
          "index": 4964,
          "prob": 0.86
         },
         {
          "index": 4965,
          "prob": 0.56
         },
         {
          "index": 4966,
          "prob": 0.66
         },
         {
          "index": 4967,
          "prob": 0.48
         },
         {
          "index": 4968,
          "prob": 0.8
         },
         {
          "index": 4969,
          "prob": 0.53
         },
         {
          "index": 4970,
          "prob": 0.62
         },
         {
          "index": 4971,
          "prob": 0.75
         },
         {
          "index": 4972,
          "prob": 0.64
         },
         {
          "index": 4973,
          "prob": 0.74
         },
         {
          "index": 4974,
          "prob": 0.68
         },
         {
          "index": 4975,
          "prob": 0.62
         },
         {
          "index": 4976,
          "prob": 0.87
         },
         {
          "index": 4977,
          "prob": 0.56
         },
         {
          "index": 4978,
          "prob": 0.56
         },
         {
          "index": 4979,
          "prob": 0.59
         },
         {
          "index": 4980,
          "prob": 0.66
         },
         {
          "index": 4981,
          "prob": 0.61
         },
         {
          "index": 4982,
          "prob": 0.52
         },
         {
          "index": 4983,
          "prob": 0.51
         },
         {
          "index": 4984,
          "prob": 0.65
         },
         {
          "index": 4985,
          "prob": 0.5700000000000001
         },
         {
          "index": 4986,
          "prob": 0.78
         },
         {
          "index": 4987,
          "prob": 0.7000000000000001
         },
         {
          "index": 4988,
          "prob": 0.63
         },
         {
          "index": 4989,
          "prob": 0.85
         },
         {
          "index": 4990,
          "prob": 0.72
         },
         {
          "index": 4991,
          "prob": 0.41000000000000003
         },
         {
          "index": 4992,
          "prob": 0.62
         },
         {
          "index": 4993,
          "prob": 0.67
         },
         {
          "index": 4994,
          "prob": 0.67
         },
         {
          "index": 4995,
          "prob": 0.73
         },
         {
          "index": 4996,
          "prob": 0.85
         },
         {
          "index": 4997,
          "prob": 0.59
         },
         {
          "index": 4998,
          "prob": 0.78
         },
         {
          "index": 4999,
          "prob": 0.68
         }
        ]
       },
       "hconcat": [
        {
         "encoding": {
          "x": {
           "field": "index",
           "title": "samples",
           "type": "quantitative"
          },
          "y": {
           "field": "prob",
           "title": "parameter p of the posterior",
           "type": "quantitative"
          }
         },
         "mark": "point"
        },
        {
         "encoding": {
          "x": {
           "bin": {
            "maxbins": 200
           },
           "field": "prob",
           "scale": {
            "domain": [
             0,
             1
            ]
           },
           "title": "parameter p of the posterior",
           "type": "quantitative"
          },
          "y": {
           "aggregate": "count",
           "stack": null,
           "title": "Number of records",
           "type": "quantitative"
          }
         },
         "mark": {
          "interpolate": "step",
          "opacity": 0.3,
          "type": "area"
         }
        }
       ]
      },
      "image/png": "[encoded data removed]",
      "text/plain": [
       "<VegaLite 3 object>\n",
       "\n",
       "If you see this message, it means the renderer has not been properly enabled\n",
       "for the frontend that you are using. For more information, see\n",
       "https://altair-viz.github.io/user_guide/troubleshooting.html\n"
      ]
     },
     "execution_count": 25,
     "metadata": {},
     "output_type": "execute_result"
    }
   ],
   "source": [
    "plot_1 = alt.Chart(samples)\\\n",
    "   .mark_point()\\\n",
    "   .encode(\n",
    "        x=alt.X('index', title='samples'),\n",
    "        y=alt.Y('prob', title='parameter p of the posterior')\n",
    "          )\n",
    "\n",
    "plot_2 = alt.Chart(samples).mark_area(\n",
    "    opacity=0.3,\n",
    "    interpolate='step'\n",
    ").encode(\n",
    "    alt.X('prob:Q', bin=alt.Bin(maxbins=200),scale=alt.Scale(domain=(0, 1)), title='parameter p of the posterior'),\n",
    "    alt.Y('count()', stack=None, title='Number of records')\n",
    ")\n",
    "\n",
    "alt.hconcat(plot_1, plot_2)"
   ]
  },
  {
   "cell_type": "markdown",
   "metadata": {},
   "source": [
    "_You can think of the first plot as a bird view of the second one (shifted 90 degrees). Let's calculate the credible intervals._"
   ]
  },
  {
   "cell_type": "markdown",
   "metadata": {},
   "source": [
    "_1. Percentile Intervals_"
   ]
  },
  {
   "cell_type": "markdown",
   "metadata": {},
   "source": [
    "_Option 1, `numpy`_"
   ]
  },
  {
   "cell_type": "code",
   "execution_count": 26,
   "metadata": {},
   "outputs": [
    {
     "data": {
      "text/plain": [
       "(0.34, 0.88)"
      ]
     },
     "execution_count": 26,
     "metadata": {},
     "output_type": "execute_result"
    }
   ],
   "source": [
    "round(np.percentile(np.array(samples.prob), 2.5),2), round(np.percentile(np.array(samples.prob), 97.5),2)"
   ]
  },
  {
   "cell_type": "markdown",
   "metadata": {},
   "source": [
    "_Option 2, `pymc3`_"
   ]
  },
  {
   "cell_type": "code",
   "execution_count": 42,
   "metadata": {},
   "outputs": [
    {
     "data": {
      "text/plain": [
       "{2.5: 0.3, 97.5: 0.76}"
      ]
     },
     "execution_count": 42,
     "metadata": {},
     "output_type": "execute_result"
    }
   ],
   "source": [
    "pm.stats.quantiles(np.array(samples.prob), qlist=[2.5, 97.5])"
   ]
  },
  {
   "cell_type": "markdown",
   "metadata": {},
   "source": [
    "_Both libraries produce identical results (good sign! jeje)_"
   ]
  },
  {
   "cell_type": "markdown",
   "metadata": {},
   "source": [
    "_2. Highest Posterior Density Interval (HPDI)_"
   ]
  },
  {
   "cell_type": "code",
   "execution_count": 45,
   "metadata": {},
   "outputs": [
    {
     "data": {
      "text/plain": [
       "array([0.33, 0.71])"
      ]
     },
     "execution_count": 45,
     "metadata": {},
     "output_type": "execute_result"
    }
   ],
   "source": [
    "hpd = pm.stats.hpd(np.array(samples.prob), alpha=0.1)\n",
    "hpd"
   ]
  },
  {
   "cell_type": "markdown",
   "metadata": {},
   "source": [
    "_The HPDI leaves the `alpha` percentage of the distribution out, let's check it!_"
   ]
  },
  {
   "cell_type": "code",
   "execution_count": 46,
   "metadata": {},
   "outputs": [
    {
     "data": {
      "text/plain": [
       "0.0982"
      ]
     },
     "execution_count": 46,
     "metadata": {},
     "output_type": "execute_result"
    }
   ],
   "source": [
    "(np.count_nonzero(np.array(samples.prob)<hpd[0])\\\n",
    "+ np.count_nonzero(np.array(samples.prob)>hpd[1]))\\\n",
    "/ len(np.array(samples.prob))"
   ]
  },
  {
   "cell_type": "markdown",
   "metadata": {},
   "source": [
    "_Correct! : D Let's start with the actual homework_"
   ]
  },
  {
   "cell_type": "markdown",
   "metadata": {},
   "source": [
    "# Markov-Chain Monte Carlo (MCMC) Posterior Estimation\n",
    "\n",
    "MCMC estimate of globe problem for  page 45."
   ]
  },
  {
   "cell_type": "code",
   "execution_count": 139,
   "metadata": {},
   "outputs": [],
   "source": [
    "# number of samples \n",
    "n = 10000\n",
    "# empty list of probabilties\n",
    "p = [None] * n\n",
    "# initial probability value\n",
    "p[0] = 0.5\n",
    "# number of water\n",
    "w = 6\n",
    "# number of lad\n",
    "l = 3"
   ]
  },
  {
   "cell_type": "markdown",
   "metadata": {},
   "source": [
    "MCMC estimator"
   ]
  },
  {
   "cell_type": "code",
   "execution_count": 140,
   "metadata": {},
   "outputs": [],
   "source": [
    "for i in range(1, n):\n",
    "    p_new = np.random.normal(p[i-1], 0.1, 1)\n",
    "    if p_new < 0:\n",
    "        p_new = np.abs(p_new)\n",
    "    if p_new > 1:\n",
    "        p_new = 2 - p_new\n",
    "    q0 = stats.binom.pmf(w, w+l, p[i-1])\n",
    "    q1 = stats.binom.pmf(w, w+l, p_new)\n",
    "    if np.random.uniform(low=0.0, high=1.0, size=None) < q1/q0:\n",
    "        p[i] = p_new[0]\n",
    "    else:\n",
    "        p[i] = p[i-1]"
   ]
  },
  {
   "cell_type": "code",
   "execution_count": 142,
   "metadata": {},
   "outputs": [
    {
     "data": {
      "text/plain": [
       "<matplotlib.axes._subplots.AxesSubplot at 0x1c232d0a58>"
      ]
     },
     "execution_count": 142,
     "metadata": {},
     "output_type": "execute_result"
    },
    {
     "data": {
      "image/png": "[encoded data removed]",
      "text/plain": [
       "<Figure size 432x288 with 1 Axes>"
      ]
     },
     "metadata": {
      "needs_background": "light"
     },
     "output_type": "display_data"
    }
   ],
   "source": [
    "# Density Plot and Histogram of mcmc probabilities\n",
    "ax = sns.distplot(p, hist=True, kde=True, \n",
    "                  bins=int(1000/10), color = 'darkblue', \n",
    "                  hist_kws={'edgecolor':'black'},\n",
    "                  kde_kws={'linewidth': 2})\n"
   ]
  },
  {
   "cell_type": "markdown",
   "metadata": {},
   "source": [
    "## Exercise 1"
   ]
  },
  {
   "cell_type": "markdown",
   "metadata": {},
   "source": [
    ">Suppose the globe tossing data had turned out to be 8 water in 15 tosses. Construct the posterior distribution, using grid approximation. Use the same flat prior as before."
   ]
  },
  {
   "cell_type": "markdown",
   "metadata": {},
   "source": [
    "Really all you need is to modify the grid approximation code in Chapter 3 (_there are constant references to the book that I will keep just in case you guys want to check them out_). If you replace 6 with 8 and 9 with 15, it'll work:"
   ]
  },
  {
   "cell_type": "code",
   "execution_count": 206,
   "metadata": {},
   "outputs": [],
   "source": [
    "n = 15 # 15 tosses/trials\n",
    "k = 8 # 8 water/success"
   ]
  },
  {
   "cell_type": "code",
   "execution_count": 207,
   "metadata": {},
   "outputs": [],
   "source": [
    "# define grid\n",
    "p_grid = np.linspace(0,1,101)\n",
    "prob_p = np.ones(101)\n",
    "prob_data = stats.binom.pmf(k, n, p=p_grid)\n",
    "posterior1 = prob_data * prob_p\n",
    "posterior1 = posterior1 / sum(posterior1)"
   ]
  },
  {
   "cell_type": "code",
   "execution_count": 208,
   "metadata": {},
   "outputs": [],
   "source": [
    "samples = pd.DataFrame(np.random.choice(p_grid, 5000, p=posterior1))\\\n",
    "            .reset_index()\\\n",
    "            .rename({0:'prob'}, axis=1)"
   ]
  },
  {
   "cell_type": "code",
   "execution_count": 209,
   "metadata": {},
   "outputs": [
    {
     "data": {
      "application/vnd.vegalite.v3+json": {
       "$schema": "https://vega.github.io/schema/vega-lite/v3.4.0.json",
       "config": {
        "mark": {
         "tooltip": null
        },
        "view": {
         "height": 300,
         "width": 400
        }
       },
       "data": {
        "name": "data-5f0c7bf30a98baf612669154e0f86c10"
       },
       "datasets": {
        "data-5f0c7bf30a98baf612669154e0f86c10": [
         {
          "index": 0,
          "p": 0,
          "prob": 0
         },
         {
          "index": 1,
          "p": 0.01,
          "prob": 9.596544822049996e-14
         },
         {
          "index": 2,
          "p": 0.02,
          "prob": 2.2881844455188096e-11
         },
         {
          "index": 3,
          "p": 0.03,
          "prob": 5.458090237769173e-10
         },
         {
          "index": 4,
          "p": 0.04,
          "prob": 5.070456903828311e-09
         },
         {
          "index": 5,
          "p": 0.05,
          "prob": 2.8086253127269306e-08
         },
         {
          "index": 6,
          "p": 0.06,
          "prob": 1.1214334657957008e-07
         },
         {
          "index": 7,
          "p": 0.07,
          "prob": 3.5713588796843886e-07
         },
         {
          "index": 8,
          "p": 0.08,
          "prob": 9.63614266635465e-07
         },
         {
          "index": 9,
          "p": 0.09,
          "prob": 2.290331549969761e-06
         },
         {
          "index": 10,
          "p": 0.1,
          "prob": 4.924544882399798e-06
         },
         {
          "index": 11,
          "p": 0.11,
          "prob": 9.76202828516035e-06
         },
         {
          "index": 12,
          "p": 0.12,
          "prob": 1.80924427611754e-05
         },
         {
          "index": 13,
          "p": 0.13,
          "prob": 3.1684738027084735e-05
         },
         {
          "index": 14,
          "p": 0.14,
          "prob": 5.2866672724592915e-05
         },
         {
          "index": 15,
          "p": 0.15,
          "prob": 8.459234929644929e-05
         },
         {
          "index": 16,
          "p": 0.16,
          "prob": 0.00013049185281092073
         },
         {
          "index": 17,
          "p": 0.17,
          "prob": 0.00019489762709470087
         },
         {
          "index": 18,
          "p": 0.18,
          "prob": 0.00028284306931369537
         },
         {
          "index": 19,
          "p": 0.19,
          "prob": 0.0004000299184609936
         },
         {
          "index": 20,
          "p": 0.2,
          "prob": 0.0005527622909951764
         },
         {
          "index": 21,
          "p": 0.21,
          "prob": 0.0007478466125283459
         },
         {
          "index": 22,
          "p": 0.22,
          "prob": 0.0009924581427480823
         },
         {
          "index": 23,
          "p": 0.23,
          "prob": 0.0012939762291444919
         },
         {
          "index": 24,
          "p": 0.24,
          "prob": 0.0016597917957090653
         },
         {
          "index": 25,
          "p": 0.25,
          "prob": 0.0020970918238162103
         },
         {
          "index": 26,
          "p": 0.26,
          "prob": 0.002612626669487321
         },
         {
          "index": 27,
          "p": 0.27,
          "prob": 0.0032124669477041714
         },
         {
          "index": 28,
          "p": 0.28,
          "prob": 0.0039017573724265397
         },
         {
          "index": 29,
          "p": 0.29,
          "prob": 0.004684475351230834
         },
         {
          "index": 30,
          "p": 0.3,
          "prob": 0.005563202285440557
         },
         {
          "index": 31,
          "p": 0.31,
          "prob": 0.006538915418094804
         },
         {
          "index": 32,
          "p": 0.32,
          "prob": 0.0076108077089002005
         },
         {
          "index": 33,
          "p": 0.33,
          "prob": 0.008776142610617358
         },
         {
          "index": 34,
          "p": 0.34,
          "prob": 0.010030149794986726
         },
         {
          "index": 35,
          "p": 0.35,
          "prob": 0.01136596685397902
         },
         {
          "index": 36,
          "p": 0.36,
          "prob": 0.012774630814470698
         },
         {
          "index": 37,
          "p": 0.37,
          "prob": 0.014245121985974303
         },
         {
          "index": 38,
          "p": 0.38,
          "prob": 0.015764461249353795
         },
         {
          "index": 39,
          "p": 0.39,
          "prob": 0.01731786042904013
         },
         {
          "index": 40,
          "p": 0.4,
          "prob": 0.018888923912600792
         },
         {
          "index": 41,
          "p": 0.41,
          "prob": 0.02045989823003736
         },
         {
          "index": 42,
          "p": 0.42,
          "prob": 0.02201196492031821
         },
         {
          "index": 43,
          "p": 0.43,
          "prob": 0.023525570731928454
         },
         {
          "index": 44,
          "p": 0.44,
          "prob": 0.024980788062419344
         },
         {
          "index": 45,
          "p": 0.45,
          "prob": 0.026357697570327628
         },
         {
          "index": 46,
          "p": 0.46,
          "prob": 0.027636784118474294
         },
         {
          "index": 47,
          "p": 0.47,
          "prob": 0.028799336652806092
         },
         {
          "index": 48,
          "p": 0.48,
          "prob": 0.029827842302591008
         },
         {
          "index": 49,
          "p": 0.49,
          "prob": 0.030706364917222968
         },
         {
          "index": 50,
          "p": 0.5,
          "prob": 0.031420898437498665
         },
         {
          "index": 51,
          "p": 0.51,
          "prob": 0.03195968593425248
         },
         {
          "index": 52,
          "p": 0.52,
          "prob": 0.032313495827806925
         },
         {
          "index": 53,
          "p": 0.53,
          "prob": 0.03247584771486644
         },
         {
          "index": 54,
          "p": 0.54,
          "prob": 0.03244318135646982
         },
         {
          "index": 55,
          "p": 0.55,
          "prob": 0.03221496369706711
         },
         {
          "index": 56,
          "p": 0.56,
          "prob": 0.03179373026126099
         },
         {
          "index": 57,
          "p": 0.57,
          "prob": 0.031185058877207492
         },
         {
          "index": 58,
          "p": 0.58,
          "prob": 0.030397475366153722
         },
         {
          "index": 59,
          "p": 0.59,
          "prob": 0.02944229257493182
         },
         {
          "index": 60,
          "p": 0.6,
          "prob": 0.028333385868901193
         },
         {
          "index": 61,
          "p": 0.61,
          "prob": 0.027086909901831994
         },
         {
          "index": 62,
          "p": 0.62,
          "prob": 0.02572096309105092
         },
         {
          "index": 63,
          "p": 0.63,
          "prob": 0.024255207705848138
         },
         {
          "index": 64,
          "p": 0.64,
          "prob": 0.022710454781281243
         },
         {
          "index": 65,
          "p": 0.65,
          "prob": 0.021108224157389586
         },
         {
          "index": 66,
          "p": 0.66,
          "prob": 0.019470290778503638
         },
         {
          "index": 67,
          "p": 0.67,
          "prob": 0.017818228936707963
         },
         {
          "index": 68,
          "p": 0.68,
          "prob": 0.0161729663814129
         },
         {
          "index": 69,
          "p": 0.69,
          "prob": 0.014554360124146468
         },
         {
          "index": 70,
          "p": 0.7,
          "prob": 0.012980805332694644
         },
         {
          "index": 71,
          "p": 0.71,
          "prob": 0.0114688879288755
         },
         {
          "index": 72,
          "p": 0.72,
          "prob": 0.01003309038623968
         },
         {
          "index": 73,
          "p": 0.73,
          "prob": 0.008685558784533507
         },
         {
          "index": 74,
          "p": 0.74,
          "prob": 0.007435937443925458
         },
         {
          "index": 75,
          "p": 0.75,
          "prob": 0.006291275471448633
         },
         {
          "index": 76,
          "p": 0.76,
          "prob": 0.005256007353078708
         },
         {
          "index": 77,
          "p": 0.77,
          "prob": 0.004332007375831564
         },
         {
          "index": 78,
          "p": 0.78,
          "prob": 0.0035187152333795574
         },
         {
          "index": 79,
          "p": 0.79,
          "prob": 0.0028133277328447285
         },
         {
          "index": 80,
          "p": 0.8,
          "prob": 0.002211049163980702
         },
         {
          "index": 81,
          "p": 0.81,
          "prob": 0.001705390705017918
         },
         {
          "index": 82,
          "p": 0.82,
          "prob": 0.0012885073157623858
         },
         {
          "index": 83,
          "p": 0.83,
          "prob": 0.0009515590028741256
         },
         {
          "index": 84,
          "p": 0.84,
          "prob": 0.0006850822272573352
         },
         {
          "index": 85,
          "p": 0.85,
          "prob": 0.0004793566460132134
         },
         {
          "index": 86,
          "p": 0.86,
          "prob": 0.00032475241816535655
         },
         {
          "index": 87,
          "p": 0.87,
          "prob": 0.00021204401602741295
         },
         {
          "index": 88,
          "p": 0.88,
          "prob": 0.00013267791358195305
         },
         {
          "index": 89,
          "p": 0.89,
          "prob": 7.89836833981154e-05
         },
         {
          "index": 90,
          "p": 0.9,
          "prob": 4.4320903941598056e-05
         },
         {
          "index": 91,
          "p": 0.91,
          "prob": 2.315779678302756e-05
         },
         {
          "index": 92,
          "p": 0.92,
          "prob": 1.1081564066307805e-05
         },
         {
          "index": 93,
          "p": 0.93,
          "prob": 4.744805368723521e-06
         },
         {
          "index": 94,
          "p": 0.94,
          "prob": 1.756912429746594e-06
         },
         {
          "index": 95,
          "p": 0.95,
          "prob": 5.33638809418112e-07
         },
         {
          "index": 96,
          "p": 0.96,
          "prob": 1.2169096569187986e-07
         },
         {
          "index": 97,
          "p": 0.97,
          "prob": 1.7647825102120434e-08
         },
         {
          "index": 98,
          "p": 0.98,
          "prob": 1.1212103783042249e-09
         },
         {
          "index": 99,
          "p": 0.99,
          "prob": 9.500579373829504e-12
         },
         {
          "index": 100,
          "p": 1,
          "prob": 0
         }
        ]
       },
       "encoding": {
        "x": {
         "field": "p",
         "title": "p",
         "type": "quantitative"
        },
        "y": {
         "field": "prob",
         "title": "density",
         "type": "quantitative"
        }
       },
       "mark": "line"
      },
      "image/png": "[encoded data removed]",
      "text/plain": [
       "<VegaLite 3 object>\n",
       "\n",
       "If you see this message, it means the renderer has not been properly enabled\n",
       "for the frontend that you are using. For more information, see\n",
       "https://altair-viz.github.io/user_guide/troubleshooting.html\n"
      ]
     },
     "execution_count": 209,
     "metadata": {},
     "output_type": "execute_result"
    }
   ],
   "source": [
    "aux = pd.DataFrame(posterior1).reset_index().rename({0:'prob'}, axis=1)\n",
    "aux['p'] = aux['index']/100\n",
    "\n",
    "alt.Chart(aux)\\\n",
    "   .mark_line()\\\n",
    "   .encode(\n",
    "        x=alt.X('p', title='p'),\n",
    "        y=alt.Y('prob', title='density')\n",
    "          )"
   ]
  },
  {
   "cell_type": "markdown",
   "metadata": {},
   "source": [
    "The posterior mean should be about 0.53 and the 99% percentile interval from 0.24 to 0.81."
   ]
  },
  {
   "cell_type": "code",
   "execution_count": 210,
   "metadata": {},
   "outputs": [
    {
     "name": "stdout",
     "output_type": "stream",
     "text": [
      "Mean of posterior:  0.53\n"
     ]
    }
   ],
   "source": [
    "print('Mean of posterior: ', round(np.mean(samples.prob),2))"
   ]
  },
  {
   "cell_type": "code",
   "execution_count": 211,
   "metadata": {},
   "outputs": [
    {
     "name": "stdout",
     "output_type": "stream",
     "text": [
      "0.5 and 99.5% quantiles:  {0.5: 0.24, 99.5: 0.81}\n"
     ]
    }
   ],
   "source": [
    "print('0.5 and 99.5% quantiles: ', pm.stats.quantiles(np.array(samples.prob), qlist=[0.5, 99.5]))"
   ]
  },
  {
   "cell_type": "markdown",
   "metadata": {},
   "source": [
    "## Exercise 2"
   ]
  },
  {
   "cell_type": "markdown",
   "metadata": {},
   "source": [
    ">Start over in 1, but now use a prior that is zero below $p = 0.5$ and a constant above $p = 0.5$. This corresponds to prior information that a majority of the Earth's surface is water. What difference does the better prior make? If it helps, compare posterior distributions (using both priors) to the true value $p = 0.7$."
   ]
  },
  {
   "cell_type": "markdown",
   "metadata": {},
   "source": [
    "Modifying only the prior:"
   ]
  },
  {
   "cell_type": "code",
   "execution_count": 212,
   "metadata": {},
   "outputs": [],
   "source": [
    "p_grid = np.linspace(0,1,101) # grid\n",
    "prob_p = np.concatenate((np.zeros(50), np.full(51,0.5))) # 0's below p = 0.5 and constant 1 above 0.5\n",
    "prob_data = stats.binom.pmf(k, n, p=p_grid)\n",
    "posterior2 = prob_data * prob_p\n",
    "posterior2 = posterior2 / sum(posterior2)"
   ]
  },
  {
   "cell_type": "code",
   "execution_count": 213,
   "metadata": {},
   "outputs": [],
   "source": [
    "samples = pd.DataFrame(np.random.choice(p_grid, 5000, p=posterior2))\\\n",
    "            .reset_index()\\\n",
    "            .rename({0:'prob'}, axis=1)"
   ]
  },
  {
   "cell_type": "markdown",
   "metadata": {},
   "source": [
    "The posterior mean should be about 0.61 and the 99% interval 0.50 to 0.82. This prior yields a posterior with more mass around the true value of 0.7."
   ]
  },
  {
   "cell_type": "code",
   "execution_count": 214,
   "metadata": {},
   "outputs": [
    {
     "name": "stdout",
     "output_type": "stream",
     "text": [
      "Posterior mean:  0.6\n"
     ]
    }
   ],
   "source": [
    "print('Posterior mean: ', round(np.mean(samples.prob),2))"
   ]
  },
  {
   "cell_type": "code",
   "execution_count": 215,
   "metadata": {},
   "outputs": [
    {
     "data": {
      "text/plain": [
       "{0.5: 0.5, 99.5: 0.8200000000000001}"
      ]
     },
     "execution_count": 215,
     "metadata": {},
     "output_type": "execute_result"
    }
   ],
   "source": [
    "pm.stats.quantiles(np.array(samples.prob), qlist=[0.5, 99.5])"
   ]
  },
  {
   "cell_type": "markdown",
   "metadata": {},
   "source": [
    "This is probably easier to see in a plot:"
   ]
  },
  {
   "cell_type": "code",
   "execution_count": 216,
   "metadata": {},
   "outputs": [],
   "source": [
    "# some data wrangling to prepate the plot\n",
    "aux = pd.DataFrame(posterior1).reset_index().rename({0:'prob'}, axis=1)\n",
    "aux['p'] = aux['index']/100\n",
    "aux['posterior'] = 'posterior1'\n",
    "\n",
    "aux2 = pd.DataFrame(posterior2).reset_index().rename({0:'prob'}, axis=1)\n",
    "aux2['p'] = aux2['index']/100\n",
    "aux2['posterior'] = 'posterior2'\n",
    "\n",
    "aux = pd.concat([aux, aux2], axis=0)"
   ]
  },
  {
   "cell_type": "code",
   "execution_count": 217,
   "metadata": {},
   "outputs": [
    {
     "data": {
      "application/vnd.vegalite.v3+json": {
       "$schema": "https://vega.github.io/schema/vega-lite/v3.4.0.json",
       "config": {
        "mark": {
         "tooltip": null
        },
        "view": {
         "height": 300,
         "width": 400
        }
       },
       "data": {
        "name": "data-d227edd06a482d1e20b9d00a5e216df0"
       },
       "datasets": {
        "data-d227edd06a482d1e20b9d00a5e216df0": [
         {
          "index": 0,
          "p": 0,
          "posterior": "posterior1",
          "prob": 0
         },
         {
          "index": 1,
          "p": 0.01,
          "posterior": "posterior1",
          "prob": 9.596544822049996e-14
         },
         {
          "index": 2,
          "p": 0.02,
          "posterior": "posterior1",
          "prob": 2.2881844455188096e-11
         },
         {
          "index": 3,
          "p": 0.03,
          "posterior": "posterior1",
          "prob": 5.458090237769173e-10
         },
         {
          "index": 4,
          "p": 0.04,
          "posterior": "posterior1",
          "prob": 5.070456903828311e-09
         },
         {
          "index": 5,
          "p": 0.05,
          "posterior": "posterior1",
          "prob": 2.8086253127269306e-08
         },
         {
          "index": 6,
          "p": 0.06,
          "posterior": "posterior1",
          "prob": 1.1214334657957008e-07
         },
         {
          "index": 7,
          "p": 0.07,
          "posterior": "posterior1",
          "prob": 3.5713588796843886e-07
         },
         {
          "index": 8,
          "p": 0.08,
          "posterior": "posterior1",
          "prob": 9.63614266635465e-07
         },
         {
          "index": 9,
          "p": 0.09,
          "posterior": "posterior1",
          "prob": 2.290331549969761e-06
         },
         {
          "index": 10,
          "p": 0.1,
          "posterior": "posterior1",
          "prob": 4.924544882399798e-06
         },
         {
          "index": 11,
          "p": 0.11,
          "posterior": "posterior1",
          "prob": 9.76202828516035e-06
         },
         {
          "index": 12,
          "p": 0.12,
          "posterior": "posterior1",
          "prob": 1.80924427611754e-05
         },
         {
          "index": 13,
          "p": 0.13,
          "posterior": "posterior1",
          "prob": 3.1684738027084735e-05
         },
         {
          "index": 14,
          "p": 0.14,
          "posterior": "posterior1",
          "prob": 5.2866672724592915e-05
         },
         {
          "index": 15,
          "p": 0.15,
          "posterior": "posterior1",
          "prob": 8.459234929644929e-05
         },
         {
          "index": 16,
          "p": 0.16,
          "posterior": "posterior1",
          "prob": 0.00013049185281092073
         },
         {
          "index": 17,
          "p": 0.17,
          "posterior": "posterior1",
          "prob": 0.00019489762709470087
         },
         {
          "index": 18,
          "p": 0.18,
          "posterior": "posterior1",
          "prob": 0.00028284306931369537
         },
         {
          "index": 19,
          "p": 0.19,
          "posterior": "posterior1",
          "prob": 0.0004000299184609936
         },
         {
          "index": 20,
          "p": 0.2,
          "posterior": "posterior1",
          "prob": 0.0005527622909951764
         },
         {
          "index": 21,
          "p": 0.21,
          "posterior": "posterior1",
          "prob": 0.0007478466125283459
         },
         {
          "index": 22,
          "p": 0.22,
          "posterior": "posterior1",
          "prob": 0.0009924581427480823
         },
         {
          "index": 23,
          "p": 0.23,
          "posterior": "posterior1",
          "prob": 0.0012939762291444919
         },
         {
          "index": 24,
          "p": 0.24,
          "posterior": "posterior1",
          "prob": 0.0016597917957090653
         },
         {
          "index": 25,
          "p": 0.25,
          "posterior": "posterior1",
          "prob": 0.0020970918238162103
         },
         {
          "index": 26,
          "p": 0.26,
          "posterior": "posterior1",
          "prob": 0.002612626669487321
         },
         {
          "index": 27,
          "p": 0.27,
          "posterior": "posterior1",
          "prob": 0.0032124669477041714
         },
         {
          "index": 28,
          "p": 0.28,
          "posterior": "posterior1",
          "prob": 0.0039017573724265397
         },
         {
          "index": 29,
          "p": 0.29,
          "posterior": "posterior1",
          "prob": 0.004684475351230834
         },
         {
          "index": 30,
          "p": 0.3,
          "posterior": "posterior1",
          "prob": 0.005563202285440557
         },
         {
          "index": 31,
          "p": 0.31,
          "posterior": "posterior1",
          "prob": 0.006538915418094804
         },
         {
          "index": 32,
          "p": 0.32,
          "posterior": "posterior1",
          "prob": 0.0076108077089002005
         },
         {
          "index": 33,
          "p": 0.33,
          "posterior": "posterior1",
          "prob": 0.008776142610617358
         },
         {
          "index": 34,
          "p": 0.34,
          "posterior": "posterior1",
          "prob": 0.010030149794986726
         },
         {
          "index": 35,
          "p": 0.35,
          "posterior": "posterior1",
          "prob": 0.01136596685397902
         },
         {
          "index": 36,
          "p": 0.36,
          "posterior": "posterior1",
          "prob": 0.012774630814470698
         },
         {
          "index": 37,
          "p": 0.37,
          "posterior": "posterior1",
          "prob": 0.014245121985974303
         },
         {
          "index": 38,
          "p": 0.38,
          "posterior": "posterior1",
          "prob": 0.015764461249353795
         },
         {
          "index": 39,
          "p": 0.39,
          "posterior": "posterior1",
          "prob": 0.01731786042904013
         },
         {
          "index": 40,
          "p": 0.4,
          "posterior": "posterior1",
          "prob": 0.018888923912600792
         },
         {
          "index": 41,
          "p": 0.41,
          "posterior": "posterior1",
          "prob": 0.02045989823003736
         },
         {
          "index": 42,
          "p": 0.42,
          "posterior": "posterior1",
          "prob": 0.02201196492031821
         },
         {
          "index": 43,
          "p": 0.43,
          "posterior": "posterior1",
          "prob": 0.023525570731928454
         },
         {
          "index": 44,
          "p": 0.44,
          "posterior": "posterior1",
          "prob": 0.024980788062419344
         },
         {
          "index": 45,
          "p": 0.45,
          "posterior": "posterior1",
          "prob": 0.026357697570327628
         },
         {
          "index": 46,
          "p": 0.46,
          "posterior": "posterior1",
          "prob": 0.027636784118474294
         },
         {
          "index": 47,
          "p": 0.47,
          "posterior": "posterior1",
          "prob": 0.028799336652806092
         },
         {
          "index": 48,
          "p": 0.48,
          "posterior": "posterior1",
          "prob": 0.029827842302591008
         },
         {
          "index": 49,
          "p": 0.49,
          "posterior": "posterior1",
          "prob": 0.030706364917222968
         },
         {
          "index": 50,
          "p": 0.5,
          "posterior": "posterior1",
          "prob": 0.031420898437498665
         },
         {
          "index": 51,
          "p": 0.51,
          "posterior": "posterior1",
          "prob": 0.03195968593425248
         },
         {
          "index": 52,
          "p": 0.52,
          "posterior": "posterior1",
          "prob": 0.032313495827806925
         },
         {
          "index": 53,
          "p": 0.53,
          "posterior": "posterior1",
          "prob": 0.03247584771486644
         },
         {
          "index": 54,
          "p": 0.54,
          "posterior": "posterior1",
          "prob": 0.03244318135646982
         },
         {
          "index": 55,
          "p": 0.55,
          "posterior": "posterior1",
          "prob": 0.03221496369706711
         },
         {
          "index": 56,
          "p": 0.56,
          "posterior": "posterior1",
          "prob": 0.03179373026126099
         },
         {
          "index": 57,
          "p": 0.57,
          "posterior": "posterior1",
          "prob": 0.031185058877207492
         },
         {
          "index": 58,
          "p": 0.58,
          "posterior": "posterior1",
          "prob": 0.030397475366153722
         },
         {
          "index": 59,
          "p": 0.59,
          "posterior": "posterior1",
          "prob": 0.02944229257493182
         },
         {
          "index": 60,
          "p": 0.6,
          "posterior": "posterior1",
          "prob": 0.028333385868901193
         },
         {
          "index": 61,
          "p": 0.61,
          "posterior": "posterior1",
          "prob": 0.027086909901831994
         },
         {
          "index": 62,
          "p": 0.62,
          "posterior": "posterior1",
          "prob": 0.02572096309105092
         },
         {
          "index": 63,
          "p": 0.63,
          "posterior": "posterior1",
          "prob": 0.024255207705848138
         },
         {
          "index": 64,
          "p": 0.64,
          "posterior": "posterior1",
          "prob": 0.022710454781281243
         },
         {
          "index": 65,
          "p": 0.65,
          "posterior": "posterior1",
          "prob": 0.021108224157389586
         },
         {
          "index": 66,
          "p": 0.66,
          "posterior": "posterior1",
          "prob": 0.019470290778503638
         },
         {
          "index": 67,
          "p": 0.67,
          "posterior": "posterior1",
          "prob": 0.017818228936707963
         },
         {
          "index": 68,
          "p": 0.68,
          "posterior": "posterior1",
          "prob": 0.0161729663814129
         },
         {
          "index": 69,
          "p": 0.69,
          "posterior": "posterior1",
          "prob": 0.014554360124146468
         },
         {
          "index": 70,
          "p": 0.7,
          "posterior": "posterior1",
          "prob": 0.012980805332694644
         },
         {
          "index": 71,
          "p": 0.71,
          "posterior": "posterior1",
          "prob": 0.0114688879288755
         },
         {
          "index": 72,
          "p": 0.72,
          "posterior": "posterior1",
          "prob": 0.01003309038623968
         },
         {
          "index": 73,
          "p": 0.73,
          "posterior": "posterior1",
          "prob": 0.008685558784533507
         },
         {
          "index": 74,
          "p": 0.74,
          "posterior": "posterior1",
          "prob": 0.007435937443925458
         },
         {
          "index": 75,
          "p": 0.75,
          "posterior": "posterior1",
          "prob": 0.006291275471448633
         },
         {
          "index": 76,
          "p": 0.76,
          "posterior": "posterior1",
          "prob": 0.005256007353078708
         },
         {
          "index": 77,
          "p": 0.77,
          "posterior": "posterior1",
          "prob": 0.004332007375831564
         },
         {
          "index": 78,
          "p": 0.78,
          "posterior": "posterior1",
          "prob": 0.0035187152333795574
         },
         {
          "index": 79,
          "p": 0.79,
          "posterior": "posterior1",
          "prob": 0.0028133277328447285
         },
         {
          "index": 80,
          "p": 0.8,
          "posterior": "posterior1",
          "prob": 0.002211049163980702
         },
         {
          "index": 81,
          "p": 0.81,
          "posterior": "posterior1",
          "prob": 0.001705390705017918
         },
         {
          "index": 82,
          "p": 0.82,
          "posterior": "posterior1",
          "prob": 0.0012885073157623858
         },
         {
          "index": 83,
          "p": 0.83,
          "posterior": "posterior1",
          "prob": 0.0009515590028741256
         },
         {
          "index": 84,
          "p": 0.84,
          "posterior": "posterior1",
          "prob": 0.0006850822272573352
         },
         {
          "index": 85,
          "p": 0.85,
          "posterior": "posterior1",
          "prob": 0.0004793566460132134
         },
         {
          "index": 86,
          "p": 0.86,
          "posterior": "posterior1",
          "prob": 0.00032475241816535655
         },
         {
          "index": 87,
          "p": 0.87,
          "posterior": "posterior1",
          "prob": 0.00021204401602741295
         },
         {
          "index": 88,
          "p": 0.88,
          "posterior": "posterior1",
          "prob": 0.00013267791358195305
         },
         {
          "index": 89,
          "p": 0.89,
          "posterior": "posterior1",
          "prob": 7.89836833981154e-05
         },
         {
          "index": 90,
          "p": 0.9,
          "posterior": "posterior1",
          "prob": 4.4320903941598056e-05
         },
         {
          "index": 91,
          "p": 0.91,
          "posterior": "posterior1",
          "prob": 2.315779678302756e-05
         },
         {
          "index": 92,
          "p": 0.92,
          "posterior": "posterior1",
          "prob": 1.1081564066307805e-05
         },
         {
          "index": 93,
          "p": 0.93,
          "posterior": "posterior1",
          "prob": 4.744805368723521e-06
         },
         {
          "index": 94,
          "p": 0.94,
          "posterior": "posterior1",
          "prob": 1.756912429746594e-06
         },
         {
          "index": 95,
          "p": 0.95,
          "posterior": "posterior1",
          "prob": 5.33638809418112e-07
         },
         {
          "index": 96,
          "p": 0.96,
          "posterior": "posterior1",
          "prob": 1.2169096569187986e-07
         },
         {
          "index": 97,
          "p": 0.97,
          "posterior": "posterior1",
          "prob": 1.7647825102120434e-08
         },
         {
          "index": 98,
          "p": 0.98,
          "posterior": "posterior1",
          "prob": 1.1212103783042249e-09
         },
         {
          "index": 99,
          "p": 0.99,
          "posterior": "posterior1",
          "prob": 9.500579373829504e-12
         },
         {
          "index": 100,
          "p": 1,
          "posterior": "posterior1",
          "prob": 0
         },
         {
          "index": 0,
          "p": 0,
          "posterior": "posterior2",
          "prob": 0
         },
         {
          "index": 1,
          "p": 0.01,
          "posterior": "posterior2",
          "prob": 0
         },
         {
          "index": 2,
          "p": 0.02,
          "posterior": "posterior2",
          "prob": 0
         },
         {
          "index": 3,
          "p": 0.03,
          "posterior": "posterior2",
          "prob": 0
         },
         {
          "index": 4,
          "p": 0.04,
          "posterior": "posterior2",
          "prob": 0
         },
         {
          "index": 5,
          "p": 0.05,
          "posterior": "posterior2",
          "prob": 0
         },
         {
          "index": 6,
          "p": 0.06,
          "posterior": "posterior2",
          "prob": 0
         },
         {
          "index": 7,
          "p": 0.07,
          "posterior": "posterior2",
          "prob": 0
         },
         {
          "index": 8,
          "p": 0.08,
          "posterior": "posterior2",
          "prob": 0
         },
         {
          "index": 9,
          "p": 0.09,
          "posterior": "posterior2",
          "prob": 0
         },
         {
          "index": 10,
          "p": 0.1,
          "posterior": "posterior2",
          "prob": 0
         },
         {
          "index": 11,
          "p": 0.11,
          "posterior": "posterior2",
          "prob": 0
         },
         {
          "index": 12,
          "p": 0.12,
          "posterior": "posterior2",
          "prob": 0
         },
         {
          "index": 13,
          "p": 0.13,
          "posterior": "posterior2",
          "prob": 0
         },
         {
          "index": 14,
          "p": 0.14,
          "posterior": "posterior2",
          "prob": 0
         },
         {
          "index": 15,
          "p": 0.15,
          "posterior": "posterior2",
          "prob": 0
         },
         {
          "index": 16,
          "p": 0.16,
          "posterior": "posterior2",
          "prob": 0
         },
         {
          "index": 17,
          "p": 0.17,
          "posterior": "posterior2",
          "prob": 0
         },
         {
          "index": 18,
          "p": 0.18,
          "posterior": "posterior2",
          "prob": 0
         },
         {
          "index": 19,
          "p": 0.19,
          "posterior": "posterior2",
          "prob": 0
         },
         {
          "index": 20,
          "p": 0.2,
          "posterior": "posterior2",
          "prob": 0
         },
         {
          "index": 21,
          "p": 0.21,
          "posterior": "posterior2",
          "prob": 0
         },
         {
          "index": 22,
          "p": 0.22,
          "posterior": "posterior2",
          "prob": 0
         },
         {
          "index": 23,
          "p": 0.23,
          "posterior": "posterior2",
          "prob": 0
         },
         {
          "index": 24,
          "p": 0.24,
          "posterior": "posterior2",
          "prob": 0
         },
         {
          "index": 25,
          "p": 0.25,
          "posterior": "posterior2",
          "prob": 0
         },
         {
          "index": 26,
          "p": 0.26,
          "posterior": "posterior2",
          "prob": 0
         },
         {
          "index": 27,
          "p": 0.27,
          "posterior": "posterior2",
          "prob": 0
         },
         {
          "index": 28,
          "p": 0.28,
          "posterior": "posterior2",
          "prob": 0
         },
         {
          "index": 29,
          "p": 0.29,
          "posterior": "posterior2",
          "prob": 0
         },
         {
          "index": 30,
          "p": 0.3,
          "posterior": "posterior2",
          "prob": 0
         },
         {
          "index": 31,
          "p": 0.31,
          "posterior": "posterior2",
          "prob": 0
         },
         {
          "index": 32,
          "p": 0.32,
          "posterior": "posterior2",
          "prob": 0
         },
         {
          "index": 33,
          "p": 0.33,
          "posterior": "posterior2",
          "prob": 0
         },
         {
          "index": 34,
          "p": 0.34,
          "posterior": "posterior2",
          "prob": 0
         },
         {
          "index": 35,
          "p": 0.35,
          "posterior": "posterior2",
          "prob": 0
         },
         {
          "index": 36,
          "p": 0.36,
          "posterior": "posterior2",
          "prob": 0
         },
         {
          "index": 37,
          "p": 0.37,
          "posterior": "posterior2",
          "prob": 0
         },
         {
          "index": 38,
          "p": 0.38,
          "posterior": "posterior2",
          "prob": 0
         },
         {
          "index": 39,
          "p": 0.39,
          "posterior": "posterior2",
          "prob": 0
         },
         {
          "index": 40,
          "p": 0.4,
          "posterior": "posterior2",
          "prob": 0
         },
         {
          "index": 41,
          "p": 0.41,
          "posterior": "posterior2",
          "prob": 0
         },
         {
          "index": 42,
          "p": 0.42,
          "posterior": "posterior2",
          "prob": 0
         },
         {
          "index": 43,
          "p": 0.43,
          "posterior": "posterior2",
          "prob": 0
         },
         {
          "index": 44,
          "p": 0.44,
          "posterior": "posterior2",
          "prob": 0
         },
         {
          "index": 45,
          "p": 0.45,
          "posterior": "posterior2",
          "prob": 0
         },
         {
          "index": 46,
          "p": 0.46,
          "posterior": "posterior2",
          "prob": 0
         },
         {
          "index": 47,
          "p": 0.47,
          "posterior": "posterior2",
          "prob": 0
         },
         {
          "index": 48,
          "p": 0.48,
          "posterior": "posterior2",
          "prob": 0
         },
         {
          "index": 49,
          "p": 0.49,
          "posterior": "posterior2",
          "prob": 0
         },
         {
          "index": 50,
          "p": 0.5,
          "posterior": "posterior2",
          "prob": 0.05118674214729961
         },
         {
          "index": 51,
          "p": 0.51,
          "posterior": "posterior2",
          "prob": 0.05206446296497086
         },
         {
          "index": 52,
          "p": 0.52,
          "posterior": "posterior2",
          "prob": 0.05264084291243033
         },
         {
          "index": 53,
          "p": 0.53,
          "posterior": "posterior2",
          "prob": 0.05290532497988532
         },
         {
          "index": 54,
          "p": 0.54,
          "posterior": "posterior2",
          "prob": 0.05285210930028071
         },
         {
          "index": 55,
          "p": 0.55,
          "posterior": "posterior2",
          "prob": 0.05248032749052299
         },
         {
          "index": 56,
          "p": 0.56,
          "posterior": "posterior2",
          "prob": 0.05179411008953687
         },
         {
          "index": 57,
          "p": 0.57,
          "posterior": "posterior2",
          "prob": 0.05080254375193005
         },
         {
          "index": 58,
          "p": 0.58,
          "posterior": "posterior2",
          "prob": 0.04951951760995117
         },
         {
          "index": 59,
          "p": 0.59,
          "posterior": "posterior2",
          "prob": 0.047963461046671506
         },
         {
          "index": 60,
          "p": 0.6,
          "posterior": "posterior2",
          "prob": 0.046156977958993144
         },
         {
          "index": 61,
          "p": 0.61,
          "posterior": "posterior2",
          "prob": 0.04412638535687224
         },
         {
          "index": 62,
          "p": 0.62,
          "posterior": "posterior2",
          "prob": 0.041901166770921996
         },
         {
          "index": 63,
          "p": 0.63,
          "posterior": "posterior2",
          "prob": 0.0395133533510533
         },
         {
          "index": 64,
          "p": 0.64,
          "posterior": "posterior2",
          "prob": 0.036996847663337926
         },
         {
          "index": 65,
          "p": 0.65,
          "posterior": "posterior2",
          "prob": 0.034386706964503785
         },
         {
          "index": 66,
          "p": 0.66,
          "posterior": "posterior2",
          "prob": 0.031718404093207385
         },
         {
          "index": 67,
          "p": 0.67,
          "posterior": "posterior2",
          "prob": 0.02902708501219514
         },
         {
          "index": 68,
          "p": 0.68,
          "posterior": "posterior2",
          "prob": 0.026346842423014744
         },
         {
          "index": 69,
          "p": 0.69,
          "posterior": "posterior2",
          "prob": 0.023710024723689334
         },
         {
          "index": 70,
          "p": 0.7,
          "posterior": "posterior2",
          "prob": 0.02114659887115014
         },
         {
          "index": 71,
          "p": 0.71,
          "posterior": "posterior2",
          "prob": 0.018683584439807673
         },
         {
          "index": 72,
          "p": 0.72,
          "posterior": "posterior2",
          "prob": 0.0163445743463561
         },
         {
          "index": 73,
          "p": 0.73,
          "posterior": "posterior2",
          "prob": 0.014149355365935295
         },
         {
          "index": 74,
          "p": 0.74,
          "posterior": "posterior2",
          "prob": 0.012113638740241028
         },
         {
          "index": 75,
          "p": 0.75,
          "posterior": "posterior2",
          "prob": 0.010248907935438015
         },
         {
          "index": 76,
          "p": 0.76,
          "posterior": "posterior2",
          "prob": 0.008562387025358654
         },
         {
          "index": 77,
          "p": 0.77,
          "posterior": "posterior2",
          "prob": 0.007057129348734898
         },
         {
          "index": 78,
          "p": 0.78,
          "posterior": "posterior2",
          "prob": 0.0057322221291363174
         },
         {
          "index": 79,
          "p": 0.79,
          "posterior": "posterior2",
          "prob": 0.004583098778140286
         },
         {
          "index": 80,
          "p": 0.8,
          "posterior": "posterior2",
          "prob": 0.003601946763451371
         },
         {
          "index": 81,
          "p": 0.81,
          "posterior": "posterior2",
          "prob": 0.002778195361020455
         },
         {
          "index": 82,
          "p": 0.82,
          "posterior": "posterior2",
          "prob": 0.0020990644764035866
         },
         {
          "index": 83,
          "p": 0.83,
          "posterior": "posterior2",
          "prob": 0.0015501531700293687
         },
         {
          "index": 84,
          "p": 0.84,
          "posterior": "posterior2",
          "prob": 0.001116044704643733
         },
         {
          "index": 85,
          "p": 0.85,
          "posterior": "posterior2",
          "prob": 0.0007809039924456735
         },
         {
          "index": 86,
          "p": 0.86,
          "posterior": "posterior2",
          "prob": 0.0005290433793103671
         },
         {
          "index": 87,
          "p": 0.87,
          "posterior": "posterior2",
          "prob": 0.0003454338644664515
         },
         {
          "index": 88,
          "p": 0.88,
          "posterior": "posterior2",
          "prob": 0.000216141182744034
         },
         {
          "index": 89,
          "p": 0.89,
          "posterior": "posterior2",
          "prob": 0.00012866969555263704
         },
         {
          "index": 90,
          "p": 0.9,
          "posterior": "posterior2",
          "prob": 7.220171270107117e-05
         },
         {
          "index": 91,
          "p": 0.91,
          "posterior": "posterior2",
          "prob": 3.7725597662024094e-05
         },
         {
          "index": 92,
          "p": 0.92,
          "posterior": "posterior2",
          "prob": 1.8052607998437433e-05
         },
         {
          "index": 93,
          "p": 0.93,
          "posterior": "posterior2",
          "prob": 7.729604849813074e-06
         },
         {
          "index": 94,
          "p": 0.94,
          "posterior": "posterior2",
          "prob": 2.8621276917243905e-06
         },
         {
          "index": 95,
          "p": 0.95,
          "posterior": "posterior2",
          "prob": 8.693332621220666e-07
         },
         {
          "index": 96,
          "p": 0.96,
          "posterior": "posterior2",
          "prob": 1.9824271081606952e-07
         },
         {
          "index": 97,
          "p": 0.97,
          "posterior": "posterior2",
          "prob": 2.8749485784429788e-08
         },
         {
          "index": 98,
          "p": 0.98,
          "posterior": "posterior2",
          "prob": 1.826526591570733e-09
         },
         {
          "index": 99,
          "p": 0.99,
          "posterior": "posterior2",
          "prob": 1.5477078340885193e-11
         },
         {
          "index": 100,
          "p": 1,
          "posterior": "posterior2",
          "prob": 0
         }
        ]
       },
       "layer": [
        {
         "encoding": {
          "color": {
           "field": "posterior",
           "type": "nominal"
          },
          "x": {
           "field": "p",
           "title": "p",
           "type": "quantitative"
          },
          "y": {
           "field": "prob",
           "title": "density",
           "type": "quantitative"
          }
         },
         "mark": "line"
        },
        {
         "encoding": {
          "size": {
           "value": 2
          },
          "x": {
           "field": "a",
           "type": "quantitative"
          }
         },
         "mark": {
          "color": "red",
          "type": "rule"
         }
        }
       ],
       "transform": [
        {
         "as": "a",
         "calculate": "0.7"
        }
       ]
      },
      "image/png": "[encoded data removed]",
      "text/plain": [
       "<VegaLite 3 object>\n",
       "\n",
       "If you see this message, it means the renderer has not been properly enabled\n",
       "for the frontend that you are using. For more information, see\n",
       "https://altair-viz.github.io/user_guide/troubleshooting.html\n"
      ]
     },
     "execution_count": 217,
     "metadata": {},
     "output_type": "execute_result"
    }
   ],
   "source": [
    "plot_posteriors = alt.Chart(aux)\\\n",
    "   .mark_line()\\\n",
    "   .encode(\n",
    "        x=alt.X('p', title='p'),\n",
    "        y=alt.Y('prob', title='density'),\n",
    "        color = 'posterior'\n",
    "          )\n",
    "\n",
    "rule = alt.Chart(aux).mark_rule(color='red')\\\n",
    "    .encode(\n",
    "    x='a:Q',\n",
    "    size=alt.value(2)\n",
    "           )\n",
    "\n",
    "(plot_posteriors + rule).transform_calculate(a=\"0.7\")"
   ]
  },
  {
   "cell_type": "markdown",
   "metadata": {},
   "source": [
    "With the impossible values less than 0.5 ruled out, the second model piles up more plausibility on the higher values near the true value. The data are\n",
    "still misleading it to think that values just above 0.5 are the most plausible. But the posterior mean of 0.63 is much better than 0.53 from the previous\n",
    "problem.\n",
    "\n",
    "Informative priors, when based on real scientific information, help. Here, the informative prior helps because there isn't much data. That is common in a lot of fields, ranging from astronomy to paleontology"
   ]
  },
  {
   "cell_type": "markdown",
   "metadata": {},
   "source": [
    "## Exercise 3"
   ]
  },
  {
   "cell_type": "markdown",
   "metadata": {},
   "source": [
    ">This problem is more open-ended than the others. Feel free to collaborate on the solution. Suppose you want to estimate the Earth's proportion of water very precisely. Specifically, you want the 99% percentile interval of the posterior distribution of p to be only 0.05 wide. This means the distance between the upper and lower bound of the interval should be 0.05. How many times will you have to toss the globe to do this? I won't require a precise answer. I'm honestly more interested in your approach."
   ]
  },
  {
   "cell_type": "markdown",
   "metadata": {},
   "source": [
    "One way to approach this problem is to try a range of sample sizes and to plot the interval width of each. Here's some code to compute the posterior and get the interval width.\n",
    "\n",
    "There are other ways to compute the interval width. But the above (_below jeje_) is closest to the code in the book. Now since we want to do this for different values\n",
    "of $N$, it's nice to make this into a function (_I just did a simple loop_).\n",
    "\n",
    "Now if you enter f(20), you get an interval width for 20 globe tosses.\n",
    "Now notice that the interval width varies across simulations. Try f(20) a few times to see what I mean. But as you increase N, this variation shrinks rapidly. This is because as the sample size increases, the differences between samples shrink. So if you ignore the sample to sample variation in interval width, that's okay in this example. But in the code below, I'll account for it. Now we need to run simulations across a bunch of different sample size to find where the interval shrinks to 0.05 in width."
   ]
  },
  {
   "cell_type": "code",
   "execution_count": 220,
   "metadata": {},
   "outputs": [
    {
     "data": {
      "text/plain": [
       "array([0.   , 0.001, 0.002, ..., 0.998, 0.999, 1.   ])"
      ]
     },
     "execution_count": 220,
     "metadata": {},
     "output_type": "execute_result"
    }
   ],
   "source": [
    "p_grid"
   ]
  },
  {
   "cell_type": "code",
   "execution_count": 219,
   "metadata": {},
   "outputs": [
    {
     "data": {
      "text/plain": [
       "array([0.691, 0.708, 0.7  , 0.694, 0.706, 0.707, 0.704, 0.703, 0.713,\n",
       "       0.693])"
      ]
     },
     "execution_count": 219,
     "metadata": {},
     "output_type": "execute_result"
    }
   ],
   "source": [
    "np.random.choice(p_grid, 10, p=posterior3)"
   ]
  },
  {
   "cell_type": "code",
   "execution_count": 218,
   "metadata": {},
   "outputs": [
    {
     "name": "stdout",
     "output_type": "stream",
     "text": [
      "Distribution size: 20, Mean: 0.59, PI0.5&99.5: {0.5: 0.325, 99.5: 0.8290000000000001}\n",
      "Distribution size: 50, Mean: 0.6, PI0.5&99.5: {0.5: 0.417, 99.5: 0.757}\n",
      "Distribution size: 100, Mean: 0.65, PI0.5&99.5: {0.5: 0.52, 99.5: 0.763}\n",
      "Distribution size: 200, Mean: 0.73, PI0.5&99.5: {0.5: 0.642, 99.5: 0.803}\n",
      "Distribution size: 500, Mean: 0.69, PI0.5&99.5: {0.5: 0.633, 99.5: 0.74}\n",
      "Distribution size: 1000, Mean: 0.68, PI0.5&99.5: {0.5: 0.644, 99.5: 0.72}\n",
      "Distribution size: 2000, Mean: 0.7, PI0.5&99.5: {0.5: 0.676, 99.5: 0.727}\n",
      "Distribution size: 3000, Mean: 0.7, PI0.5&99.5: {0.5: 0.677, 99.5: 0.719}\n",
      "Distribution size: 5000, Mean: 0.7, PI0.5&99.5: {0.5: 0.684, 99.5: 0.718}\n"
     ]
    }
   ],
   "source": [
    "p=0.7 # prior belief \n",
    "for n in [20, 50, 100, 200, 500, 1000, 2000, 3000, 5000]:\n",
    "    k=sum(np.random.binomial(1, p, n))\n",
    "    p_grid = np.linspace(0,1,1001)\n",
    "    prob_p = np.ones(1001)\n",
    "    prob_data = stats.binom.pmf(k, n, p=p_grid)\n",
    "    posterior3 = prob_data * prob_p\n",
    "    posterior3 = posterior3 / sum(posterior3)\n",
    "    samples = pd.DataFrame(np.random.choice(p_grid, 5000, p=posterior3))\\\n",
    "                .reset_index()\\\n",
    "                .rename({0:'prob'}, axis=1)\n",
    "    print(f'Distribution size: {n}, Mean: {round(np.mean(samples.prob),2)}, PI0.5&99.5: {pm.stats.quantiles(np.array(samples.prob), qlist=[0.5, 99.5])}')"
   ]
  },
  {
   "cell_type": "markdown",
   "metadata": {},
   "source": [
    "Looks like we need more than 2000 tosses of the globe to get the interval to be that precise. The above is a general feature of learning from data: The greatest returns on learning come early on. Each additional observation contributes less and less. So it takes very much effort to progressively reduce our uncertainty. So if your application requires a very precise estimate, be prepared to collect a lot of data. Or to change your approach."
   ]
  }
 ],
 "metadata": {
  "kernelspec": {
   "display_name": "Python py_bayes",
   "language": "python",
   "name": "myenv"
  },
  "language_info": {
   "codemirror_mode": {
    "name": "ipython",
    "version": 3
   },
   "file_extension": ".py",
   "mimetype": "text/x-python",
   "name": "python",
   "nbconvert_exporter": "python",
   "pygments_lexer": "ipython3",
   "version": "3.6.9"
  }
 },
 "nbformat": 4,
 "nbformat_minor": 4
}
